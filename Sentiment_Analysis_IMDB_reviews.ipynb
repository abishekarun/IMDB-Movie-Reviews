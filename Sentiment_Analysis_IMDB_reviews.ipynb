{
 "cells": [
  {
   "cell_type": "code",
   "execution_count": 1,
   "metadata": {},
   "outputs": [],
   "source": [
    "# Create the dataset\n",
    "def pretty_print_review_and_label(i):\n",
    "    print(labels[i] + \"\\t:\\t\" + reviews[i][:80] + \"...\")\n",
    "\n",
    "g = open('reviews.txt','r') # What we know!\n",
    "reviews = list(map(lambda x:x[:-1],g.readlines()))\n",
    "g.close()\n",
    "\n",
    "g = open('labels.txt','r') # What we WANT to know!\n",
    "labels = list(map(lambda x:x[:-1].upper(),g.readlines()))\n",
    "g.close()"
   ]
  },
  {
   "cell_type": "code",
   "execution_count": 2,
   "metadata": {},
   "outputs": [
    {
     "data": {
      "text/plain": [
       "25000"
      ]
     },
     "execution_count": 2,
     "metadata": {},
     "output_type": "execute_result"
    }
   ],
   "source": [
    "len(reviews)"
   ]
  },
  {
   "cell_type": "code",
   "execution_count": 3,
   "metadata": {},
   "outputs": [
    {
     "data": {
      "text/plain": [
       "'bromwell high is a cartoon comedy . it ran at the same time as some other programs about school life  such as  teachers  . my   years in the teaching profession lead me to believe that bromwell high  s satire is much closer to reality than is  teachers  . the scramble to survive financially  the insightful students who can see right through their pathetic teachers  pomp  the pettiness of the whole situation  all remind me of the schools i knew and their students . when i saw the episode in which a student repeatedly tried to burn down the school  i immediately recalled . . . . . . . . . at . . . . . . . . . . high . a classic line inspector i  m here to sack one of your teachers . student welcome to bromwell high . i expect that many adults of my age think that bromwell high is far fetched . what a pity that it isn  t   '"
      ]
     },
     "execution_count": 3,
     "metadata": {},
     "output_type": "execute_result"
    }
   ],
   "source": [
    "reviews[0]"
   ]
  },
  {
   "cell_type": "code",
   "execution_count": 4,
   "metadata": {},
   "outputs": [
    {
     "data": {
      "text/plain": [
       "'POSITIVE'"
      ]
     },
     "execution_count": 4,
     "metadata": {},
     "output_type": "execute_result"
    }
   ],
   "source": [
    "labels[0]"
   ]
  },
  {
   "cell_type": "code",
   "execution_count": 5,
   "metadata": {},
   "outputs": [],
   "source": [
    "from collections import Counter\n",
    "import numpy as np"
   ]
  },
  {
   "cell_type": "code",
   "execution_count": 6,
   "metadata": {},
   "outputs": [],
   "source": [
    "# Create three Counter objects to store positive, negative and total counts\n",
    "positive_counts = Counter()\n",
    "negative_counts = Counter()\n",
    "total_counts = Counter()"
   ]
  },
  {
   "cell_type": "code",
   "execution_count": 7,
   "metadata": {},
   "outputs": [],
   "source": [
    "# Loop over all the words in all the reviews and increment the counts\n",
    "\n",
    "for review, label in zip(reviews, labels):\n",
    "        for word in review.split(' '):\n",
    "            total_counts[word]+=1\n",
    "            if(label == 'POSITIVE'):\n",
    "                positive_counts[word]+=1\n",
    "            else:\n",
    "                negative_counts[word]+=1"
   ]
  },
  {
   "cell_type": "code",
   "execution_count": 8,
   "metadata": {},
   "outputs": [
    {
     "data": {
      "text/plain": [
       "[('', 550468),\n",
       " ('the', 173324),\n",
       " ('.', 159654),\n",
       " ('and', 89722),\n",
       " ('a', 83688),\n",
       " ('of', 76855),\n",
       " ('to', 66746),\n",
       " ('is', 57245),\n",
       " ('in', 50215),\n",
       " ('br', 49235),\n",
       " ('it', 48025),\n",
       " ('i', 40743),\n",
       " ('that', 35630),\n",
       " ('this', 35080),\n",
       " ('s', 33815),\n",
       " ('as', 26308),\n",
       " ('with', 23247),\n",
       " ('for', 22416),\n",
       " ('was', 21917),\n",
       " ('film', 20937)]"
      ]
     },
     "execution_count": 8,
     "metadata": {},
     "output_type": "execute_result"
    }
   ],
   "source": [
    "positive_counts.most_common(20)"
   ]
  },
  {
   "cell_type": "code",
   "execution_count": 9,
   "metadata": {
    "scrolled": true
   },
   "outputs": [
    {
     "data": {
      "text/plain": [
       "[('', 561462),\n",
       " ('.', 167538),\n",
       " ('the', 163389),\n",
       " ('a', 79321),\n",
       " ('and', 74385),\n",
       " ('of', 69009),\n",
       " ('to', 68974),\n",
       " ('br', 52637),\n",
       " ('is', 50083),\n",
       " ('it', 48327),\n",
       " ('i', 46880),\n",
       " ('in', 43753),\n",
       " ('this', 40920),\n",
       " ('that', 37615),\n",
       " ('s', 31546),\n",
       " ('was', 26291),\n",
       " ('movie', 24965),\n",
       " ('for', 21927),\n",
       " ('but', 21781),\n",
       " ('with', 20878)]"
      ]
     },
     "execution_count": 9,
     "metadata": {},
     "output_type": "execute_result"
    }
   ],
   "source": [
    "negative_counts.most_common(20)"
   ]
  },
  {
   "cell_type": "code",
   "execution_count": 10,
   "metadata": {},
   "outputs": [],
   "source": [
    "# Create Counter object to store positive/negative ratios\n",
    "pos_neg_ratios = Counter()\n",
    "\n",
    "# Examine the counts of the most common words in positive reviews\n",
    "# positive_counts.most_common()\n",
    "\n",
    "for word,count in list(total_counts.most_common()):\n",
    "    if(count>500):\n",
    "        pos_neg_ratio = positive_counts[word]/float(negative_counts[word]+1)\n",
    "        pos_neg_ratios[word]=pos_neg_ratio         "
   ]
  },
  {
   "cell_type": "code",
   "execution_count": 11,
   "metadata": {},
   "outputs": [],
   "source": [
    "for word,ratio in pos_neg_ratios.most_common():\n",
    "    if(ratio>1):\n",
    "        pos_neg_ratios[word]=np.log(ratio)\n",
    "    else:\n",
    "        pos_neg_ratios[word]=-np.log((1/(ratio+0.01)))"
   ]
  },
  {
   "cell_type": "code",
   "execution_count": 12,
   "metadata": {},
   "outputs": [
    {
     "data": {
      "text/plain": [
       "[('superb', 1.7091514458966952),\n",
       " ('wonderful', 1.5645425925262093),\n",
       " ('fantastic', 1.5048433868558566),\n",
       " ('excellent', 1.4647538505723599),\n",
       " ('amazing', 1.3919815802404802),\n",
       " ('powerful', 1.2999662776313934),\n",
       " ('favorite', 1.2668956297860055),\n",
       " ('perfect', 1.246742480713785),\n",
       " ('brilliant', 1.2287554137664785),\n",
       " ('perfectly', 1.1971931173405572),\n",
       " ('loved', 1.1563661500586044),\n",
       " ('highly', 1.1420208631618658),\n",
       " ('tony', 1.1397491942285991),\n",
       " ('today', 1.1050431789984001),\n",
       " ('unique', 1.0881409888008142),\n",
       " ('beauty', 1.050410186850232),\n",
       " ('greatest', 1.0248947127715422),\n",
       " ('portrayal', 1.0189810189761024),\n",
       " ('incredible', 1.0061677561461084),\n",
       " ('sweet', 0.98966110487955483)]"
      ]
     },
     "execution_count": 12,
     "metadata": {},
     "output_type": "execute_result"
    }
   ],
   "source": [
    "# words most frequently seen in a review with a \"POSITIVE\" label\n",
    "pos_neg_ratios.most_common(20)"
   ]
  },
  {
   "cell_type": "code",
   "execution_count": 13,
   "metadata": {},
   "outputs": [
    {
     "data": {
      "text/plain": [
       "[('sweet', 0.98966110487955483),\n",
       " ('incredible', 1.0061677561461084),\n",
       " ('portrayal', 1.0189810189761024),\n",
       " ('greatest', 1.0248947127715422),\n",
       " ('beauty', 1.050410186850232),\n",
       " ('unique', 1.0881409888008142),\n",
       " ('today', 1.1050431789984001),\n",
       " ('tony', 1.1397491942285991),\n",
       " ('highly', 1.1420208631618658),\n",
       " ('loved', 1.1563661500586044),\n",
       " ('perfectly', 1.1971931173405572),\n",
       " ('brilliant', 1.2287554137664785),\n",
       " ('perfect', 1.246742480713785),\n",
       " ('favorite', 1.2668956297860055),\n",
       " ('powerful', 1.2999662776313934),\n",
       " ('amazing', 1.3919815802404802),\n",
       " ('excellent', 1.4647538505723599),\n",
       " ('fantastic', 1.5048433868558566),\n",
       " ('wonderful', 1.5645425925262093),\n",
       " ('superb', 1.7091514458966952)]"
      ]
     },
     "execution_count": 13,
     "metadata": {},
     "output_type": "execute_result"
    }
   ],
   "source": [
    "# words most frequently seen in a review with a \"NEGATIVE\" label\n",
    "list(reversed(pos_neg_ratios.most_common(20)))"
   ]
  },
  {
   "cell_type": "code",
   "execution_count": 14,
   "metadata": {},
   "outputs": [
    {
     "name": "stdout",
     "output_type": "stream",
     "text": [
      "74074\n"
     ]
    }
   ],
   "source": [
    "# Create the input and label data\n",
    "\n",
    "# Create set named \"vocab\" containing all of the words from all of the reviews\n",
    "vocab=set(total_counts.keys())\n",
    "vocab_size = len(vocab)\n",
    "print(vocab_size)"
   ]
  },
  {
   "cell_type": "code",
   "execution_count": 15,
   "metadata": {},
   "outputs": [
    {
     "data": {
      "text/html": [
       "\n",
       "    <div class=\"bk-root\">\n",
       "        <a href=\"https://bokeh.pydata.org\" target=\"_blank\" class=\"bk-logo bk-logo-small bk-logo-notebook\"></a>\n",
       "        <span id=\"4d60b1b7-d3cd-4b2d-8cdf-07337fb8fb2b\">Loading BokehJS ...</span>\n",
       "    </div>"
      ]
     },
     "metadata": {},
     "output_type": "display_data"
    },
    {
     "data": {
      "application/javascript": [
       "\n",
       "(function(root) {\n",
       "  function now() {\n",
       "    return new Date();\n",
       "  }\n",
       "\n",
       "  var force = true;\n",
       "\n",
       "  if (typeof (root._bokeh_onload_callbacks) === \"undefined\" || force === true) {\n",
       "    root._bokeh_onload_callbacks = [];\n",
       "    root._bokeh_is_loading = undefined;\n",
       "  }\n",
       "\n",
       "  var JS_MIME_TYPE = 'application/javascript';\n",
       "  var HTML_MIME_TYPE = 'text/html';\n",
       "  var EXEC_MIME_TYPE = 'application/vnd.bokehjs_exec.v0+json';\n",
       "  var CLASS_NAME = 'output_bokeh rendered_html';\n",
       "\n",
       "  /**\n",
       "   * Render data to the DOM node\n",
       "   */\n",
       "  function render(props, node) {\n",
       "    var script = document.createElement(\"script\");\n",
       "    node.appendChild(script);\n",
       "  }\n",
       "\n",
       "  /**\n",
       "   * Handle when an output is cleared or removed\n",
       "   */\n",
       "  function handleClearOutput(event, handle) {\n",
       "    var cell = handle.cell;\n",
       "\n",
       "    var id = cell.output_area._bokeh_element_id;\n",
       "    var server_id = cell.output_area._bokeh_server_id;\n",
       "    // Clean up Bokeh references\n",
       "    if (id !== undefined) {\n",
       "      Bokeh.index[id].model.document.clear();\n",
       "      delete Bokeh.index[id];\n",
       "    }\n",
       "\n",
       "    if (server_id !== undefined) {\n",
       "      // Clean up Bokeh references\n",
       "      var cmd = \"from bokeh.io.state import curstate; print(curstate().uuid_to_server['\" + server_id + \"'].get_sessions()[0].document.roots[0]._id)\";\n",
       "      cell.notebook.kernel.execute(cmd, {\n",
       "        iopub: {\n",
       "          output: function(msg) {\n",
       "            var element_id = msg.content.text.trim();\n",
       "            Bokeh.index[element_id].model.document.clear();\n",
       "            delete Bokeh.index[element_id];\n",
       "          }\n",
       "        }\n",
       "      });\n",
       "      // Destroy server and session\n",
       "      var cmd = \"import bokeh.io.notebook as ion; ion.destroy_server('\" + server_id + \"')\";\n",
       "      cell.notebook.kernel.execute(cmd);\n",
       "    }\n",
       "  }\n",
       "\n",
       "  /**\n",
       "   * Handle when a new output is added\n",
       "   */\n",
       "  function handleAddOutput(event, handle) {\n",
       "    var output_area = handle.output_area;\n",
       "    var output = handle.output;\n",
       "\n",
       "    // limit handleAddOutput to display_data with EXEC_MIME_TYPE content only\n",
       "    if ((output.output_type != \"display_data\") || (!output.data.hasOwnProperty(EXEC_MIME_TYPE))) {\n",
       "      return\n",
       "    }\n",
       "\n",
       "    var toinsert = output_area.element.find(\".\" + CLASS_NAME.split(' ')[0]);\n",
       "\n",
       "    if (output.metadata[EXEC_MIME_TYPE][\"id\"] !== undefined) {\n",
       "      toinsert[0].firstChild.textContent = output.data[JS_MIME_TYPE];\n",
       "      // store reference to embed id on output_area\n",
       "      output_area._bokeh_element_id = output.metadata[EXEC_MIME_TYPE][\"id\"];\n",
       "    }\n",
       "    if (output.metadata[EXEC_MIME_TYPE][\"server_id\"] !== undefined) {\n",
       "      var bk_div = document.createElement(\"div\");\n",
       "      bk_div.innerHTML = output.data[HTML_MIME_TYPE];\n",
       "      var script_attrs = bk_div.children[0].attributes;\n",
       "      for (var i = 0; i < script_attrs.length; i++) {\n",
       "        toinsert[0].firstChild.setAttribute(script_attrs[i].name, script_attrs[i].value);\n",
       "      }\n",
       "      // store reference to server id on output_area\n",
       "      output_area._bokeh_server_id = output.metadata[EXEC_MIME_TYPE][\"server_id\"];\n",
       "    }\n",
       "  }\n",
       "\n",
       "  function register_renderer(events, OutputArea) {\n",
       "\n",
       "    function append_mime(data, metadata, element) {\n",
       "      // create a DOM node to render to\n",
       "      var toinsert = this.create_output_subarea(\n",
       "        metadata,\n",
       "        CLASS_NAME,\n",
       "        EXEC_MIME_TYPE\n",
       "      );\n",
       "      this.keyboard_manager.register_events(toinsert);\n",
       "      // Render to node\n",
       "      var props = {data: data, metadata: metadata[EXEC_MIME_TYPE]};\n",
       "      render(props, toinsert[0]);\n",
       "      element.append(toinsert);\n",
       "      return toinsert\n",
       "    }\n",
       "\n",
       "    /* Handle when an output is cleared or removed */\n",
       "    events.on('clear_output.CodeCell', handleClearOutput);\n",
       "    events.on('delete.Cell', handleClearOutput);\n",
       "\n",
       "    /* Handle when a new output is added */\n",
       "    events.on('output_added.OutputArea', handleAddOutput);\n",
       "\n",
       "    /**\n",
       "     * Register the mime type and append_mime function with output_area\n",
       "     */\n",
       "    OutputArea.prototype.register_mime_type(EXEC_MIME_TYPE, append_mime, {\n",
       "      /* Is output safe? */\n",
       "      safe: true,\n",
       "      /* Index of renderer in `output_area.display_order` */\n",
       "      index: 0\n",
       "    });\n",
       "  }\n",
       "\n",
       "  // register the mime type if in Jupyter Notebook environment and previously unregistered\n",
       "  if (root.Jupyter !== undefined) {\n",
       "    var events = require('base/js/events');\n",
       "    var OutputArea = require('notebook/js/outputarea').OutputArea;\n",
       "\n",
       "    if (OutputArea.prototype.mime_types().indexOf(EXEC_MIME_TYPE) == -1) {\n",
       "      register_renderer(events, OutputArea);\n",
       "    }\n",
       "  }\n",
       "\n",
       "  \n",
       "  if (typeof (root._bokeh_timeout) === \"undefined\" || force === true) {\n",
       "    root._bokeh_timeout = Date.now() + 5000;\n",
       "    root._bokeh_failed_load = false;\n",
       "  }\n",
       "\n",
       "  var NB_LOAD_WARNING = {'data': {'text/html':\n",
       "     \"<div style='background-color: #fdd'>\\n\"+\n",
       "     \"<p>\\n\"+\n",
       "     \"BokehJS does not appear to have successfully loaded. If loading BokehJS from CDN, this \\n\"+\n",
       "     \"may be due to a slow or bad network connection. Possible fixes:\\n\"+\n",
       "     \"</p>\\n\"+\n",
       "     \"<ul>\\n\"+\n",
       "     \"<li>re-rerun `output_notebook()` to attempt to load from CDN again, or</li>\\n\"+\n",
       "     \"<li>use INLINE resources instead, as so:</li>\\n\"+\n",
       "     \"</ul>\\n\"+\n",
       "     \"<code>\\n\"+\n",
       "     \"from bokeh.resources import INLINE\\n\"+\n",
       "     \"output_notebook(resources=INLINE)\\n\"+\n",
       "     \"</code>\\n\"+\n",
       "     \"</div>\"}};\n",
       "\n",
       "  function display_loaded() {\n",
       "    var el = document.getElementById(\"4d60b1b7-d3cd-4b2d-8cdf-07337fb8fb2b\");\n",
       "    if (el != null) {\n",
       "      el.textContent = \"BokehJS is loading...\";\n",
       "    }\n",
       "    if (root.Bokeh !== undefined) {\n",
       "      if (el != null) {\n",
       "        el.textContent = \"BokehJS \" + root.Bokeh.version + \" successfully loaded.\";\n",
       "      }\n",
       "    } else if (Date.now() < root._bokeh_timeout) {\n",
       "      setTimeout(display_loaded, 100)\n",
       "    }\n",
       "  }\n",
       "\n",
       "\n",
       "  function run_callbacks() {\n",
       "    try {\n",
       "      root._bokeh_onload_callbacks.forEach(function(callback) { callback() });\n",
       "    }\n",
       "    finally {\n",
       "      delete root._bokeh_onload_callbacks\n",
       "    }\n",
       "    console.info(\"Bokeh: all callbacks have finished\");\n",
       "  }\n",
       "\n",
       "  function load_libs(js_urls, callback) {\n",
       "    root._bokeh_onload_callbacks.push(callback);\n",
       "    if (root._bokeh_is_loading > 0) {\n",
       "      console.log(\"Bokeh: BokehJS is being loaded, scheduling callback at\", now());\n",
       "      return null;\n",
       "    }\n",
       "    if (js_urls == null || js_urls.length === 0) {\n",
       "      run_callbacks();\n",
       "      return null;\n",
       "    }\n",
       "    console.log(\"Bokeh: BokehJS not loaded, scheduling load and callback at\", now());\n",
       "    root._bokeh_is_loading = js_urls.length;\n",
       "    for (var i = 0; i < js_urls.length; i++) {\n",
       "      var url = js_urls[i];\n",
       "      var s = document.createElement('script');\n",
       "      s.src = url;\n",
       "      s.async = false;\n",
       "      s.onreadystatechange = s.onload = function() {\n",
       "        root._bokeh_is_loading--;\n",
       "        if (root._bokeh_is_loading === 0) {\n",
       "          console.log(\"Bokeh: all BokehJS libraries loaded\");\n",
       "          run_callbacks()\n",
       "        }\n",
       "      };\n",
       "      s.onerror = function() {\n",
       "        console.warn(\"failed to load library \" + url);\n",
       "      };\n",
       "      console.log(\"Bokeh: injecting script tag for BokehJS library: \", url);\n",
       "      document.getElementsByTagName(\"head\")[0].appendChild(s);\n",
       "    }\n",
       "  };var element = document.getElementById(\"4d60b1b7-d3cd-4b2d-8cdf-07337fb8fb2b\");\n",
       "  if (element == null) {\n",
       "    console.log(\"Bokeh: ERROR: autoload.js configured with elementid '4d60b1b7-d3cd-4b2d-8cdf-07337fb8fb2b' but no matching script tag was found. \")\n",
       "    return false;\n",
       "  }\n",
       "\n",
       "  var js_urls = [\"https://cdn.pydata.org/bokeh/release/bokeh-0.12.14.min.js\", \"https://cdn.pydata.org/bokeh/release/bokeh-widgets-0.12.14.min.js\", \"https://cdn.pydata.org/bokeh/release/bokeh-tables-0.12.14.min.js\", \"https://cdn.pydata.org/bokeh/release/bokeh-gl-0.12.14.min.js\"];\n",
       "\n",
       "  var inline_js = [\n",
       "    function(Bokeh) {\n",
       "      Bokeh.set_log_level(\"info\");\n",
       "    },\n",
       "    \n",
       "    function(Bokeh) {\n",
       "      \n",
       "    },\n",
       "    function(Bokeh) {\n",
       "      console.log(\"Bokeh: injecting CSS: https://cdn.pydata.org/bokeh/release/bokeh-0.12.14.min.css\");\n",
       "      Bokeh.embed.inject_css(\"https://cdn.pydata.org/bokeh/release/bokeh-0.12.14.min.css\");\n",
       "      console.log(\"Bokeh: injecting CSS: https://cdn.pydata.org/bokeh/release/bokeh-widgets-0.12.14.min.css\");\n",
       "      Bokeh.embed.inject_css(\"https://cdn.pydata.org/bokeh/release/bokeh-widgets-0.12.14.min.css\");\n",
       "      console.log(\"Bokeh: injecting CSS: https://cdn.pydata.org/bokeh/release/bokeh-tables-0.12.14.min.css\");\n",
       "      Bokeh.embed.inject_css(\"https://cdn.pydata.org/bokeh/release/bokeh-tables-0.12.14.min.css\");\n",
       "    }\n",
       "  ];\n",
       "\n",
       "  function run_inline_js() {\n",
       "    \n",
       "    if ((root.Bokeh !== undefined) || (force === true)) {\n",
       "      for (var i = 0; i < inline_js.length; i++) {\n",
       "        inline_js[i].call(root, root.Bokeh);\n",
       "      }if (force === true) {\n",
       "        display_loaded();\n",
       "      }} else if (Date.now() < root._bokeh_timeout) {\n",
       "      setTimeout(run_inline_js, 100);\n",
       "    } else if (!root._bokeh_failed_load) {\n",
       "      console.log(\"Bokeh: BokehJS failed to load within specified timeout.\");\n",
       "      root._bokeh_failed_load = true;\n",
       "    } else if (force !== true) {\n",
       "      var cell = $(document.getElementById(\"4d60b1b7-d3cd-4b2d-8cdf-07337fb8fb2b\")).parents('.cell').data().cell;\n",
       "      cell.output_area.append_execute_result(NB_LOAD_WARNING)\n",
       "    }\n",
       "\n",
       "  }\n",
       "\n",
       "  if (root._bokeh_is_loading === 0) {\n",
       "    console.log(\"Bokeh: BokehJS loaded, going straight to plotting\");\n",
       "    run_inline_js();\n",
       "  } else {\n",
       "    load_libs(js_urls, function() {\n",
       "      console.log(\"Bokeh: BokehJS plotting callback run at\", now());\n",
       "      run_inline_js();\n",
       "    });\n",
       "  }\n",
       "}(window));"
      ],
      "application/vnd.bokehjs_load.v0+json": "\n(function(root) {\n  function now() {\n    return new Date();\n  }\n\n  var force = true;\n\n  if (typeof (root._bokeh_onload_callbacks) === \"undefined\" || force === true) {\n    root._bokeh_onload_callbacks = [];\n    root._bokeh_is_loading = undefined;\n  }\n\n  \n\n  \n  if (typeof (root._bokeh_timeout) === \"undefined\" || force === true) {\n    root._bokeh_timeout = Date.now() + 5000;\n    root._bokeh_failed_load = false;\n  }\n\n  var NB_LOAD_WARNING = {'data': {'text/html':\n     \"<div style='background-color: #fdd'>\\n\"+\n     \"<p>\\n\"+\n     \"BokehJS does not appear to have successfully loaded. If loading BokehJS from CDN, this \\n\"+\n     \"may be due to a slow or bad network connection. Possible fixes:\\n\"+\n     \"</p>\\n\"+\n     \"<ul>\\n\"+\n     \"<li>re-rerun `output_notebook()` to attempt to load from CDN again, or</li>\\n\"+\n     \"<li>use INLINE resources instead, as so:</li>\\n\"+\n     \"</ul>\\n\"+\n     \"<code>\\n\"+\n     \"from bokeh.resources import INLINE\\n\"+\n     \"output_notebook(resources=INLINE)\\n\"+\n     \"</code>\\n\"+\n     \"</div>\"}};\n\n  function display_loaded() {\n    var el = document.getElementById(\"4d60b1b7-d3cd-4b2d-8cdf-07337fb8fb2b\");\n    if (el != null) {\n      el.textContent = \"BokehJS is loading...\";\n    }\n    if (root.Bokeh !== undefined) {\n      if (el != null) {\n        el.textContent = \"BokehJS \" + root.Bokeh.version + \" successfully loaded.\";\n      }\n    } else if (Date.now() < root._bokeh_timeout) {\n      setTimeout(display_loaded, 100)\n    }\n  }\n\n\n  function run_callbacks() {\n    try {\n      root._bokeh_onload_callbacks.forEach(function(callback) { callback() });\n    }\n    finally {\n      delete root._bokeh_onload_callbacks\n    }\n    console.info(\"Bokeh: all callbacks have finished\");\n  }\n\n  function load_libs(js_urls, callback) {\n    root._bokeh_onload_callbacks.push(callback);\n    if (root._bokeh_is_loading > 0) {\n      console.log(\"Bokeh: BokehJS is being loaded, scheduling callback at\", now());\n      return null;\n    }\n    if (js_urls == null || js_urls.length === 0) {\n      run_callbacks();\n      return null;\n    }\n    console.log(\"Bokeh: BokehJS not loaded, scheduling load and callback at\", now());\n    root._bokeh_is_loading = js_urls.length;\n    for (var i = 0; i < js_urls.length; i++) {\n      var url = js_urls[i];\n      var s = document.createElement('script');\n      s.src = url;\n      s.async = false;\n      s.onreadystatechange = s.onload = function() {\n        root._bokeh_is_loading--;\n        if (root._bokeh_is_loading === 0) {\n          console.log(\"Bokeh: all BokehJS libraries loaded\");\n          run_callbacks()\n        }\n      };\n      s.onerror = function() {\n        console.warn(\"failed to load library \" + url);\n      };\n      console.log(\"Bokeh: injecting script tag for BokehJS library: \", url);\n      document.getElementsByTagName(\"head\")[0].appendChild(s);\n    }\n  };var element = document.getElementById(\"4d60b1b7-d3cd-4b2d-8cdf-07337fb8fb2b\");\n  if (element == null) {\n    console.log(\"Bokeh: ERROR: autoload.js configured with elementid '4d60b1b7-d3cd-4b2d-8cdf-07337fb8fb2b' but no matching script tag was found. \")\n    return false;\n  }\n\n  var js_urls = [\"https://cdn.pydata.org/bokeh/release/bokeh-0.12.14.min.js\", \"https://cdn.pydata.org/bokeh/release/bokeh-widgets-0.12.14.min.js\", \"https://cdn.pydata.org/bokeh/release/bokeh-tables-0.12.14.min.js\", \"https://cdn.pydata.org/bokeh/release/bokeh-gl-0.12.14.min.js\"];\n\n  var inline_js = [\n    function(Bokeh) {\n      Bokeh.set_log_level(\"info\");\n    },\n    \n    function(Bokeh) {\n      \n    },\n    function(Bokeh) {\n      console.log(\"Bokeh: injecting CSS: https://cdn.pydata.org/bokeh/release/bokeh-0.12.14.min.css\");\n      Bokeh.embed.inject_css(\"https://cdn.pydata.org/bokeh/release/bokeh-0.12.14.min.css\");\n      console.log(\"Bokeh: injecting CSS: https://cdn.pydata.org/bokeh/release/bokeh-widgets-0.12.14.min.css\");\n      Bokeh.embed.inject_css(\"https://cdn.pydata.org/bokeh/release/bokeh-widgets-0.12.14.min.css\");\n      console.log(\"Bokeh: injecting CSS: https://cdn.pydata.org/bokeh/release/bokeh-tables-0.12.14.min.css\");\n      Bokeh.embed.inject_css(\"https://cdn.pydata.org/bokeh/release/bokeh-tables-0.12.14.min.css\");\n    }\n  ];\n\n  function run_inline_js() {\n    \n    if ((root.Bokeh !== undefined) || (force === true)) {\n      for (var i = 0; i < inline_js.length; i++) {\n        inline_js[i].call(root, root.Bokeh);\n      }if (force === true) {\n        display_loaded();\n      }} else if (Date.now() < root._bokeh_timeout) {\n      setTimeout(run_inline_js, 100);\n    } else if (!root._bokeh_failed_load) {\n      console.log(\"Bokeh: BokehJS failed to load within specified timeout.\");\n      root._bokeh_failed_load = true;\n    } else if (force !== true) {\n      var cell = $(document.getElementById(\"4d60b1b7-d3cd-4b2d-8cdf-07337fb8fb2b\")).parents('.cell').data().cell;\n      cell.output_area.append_execute_result(NB_LOAD_WARNING)\n    }\n\n  }\n\n  if (root._bokeh_is_loading === 0) {\n    console.log(\"Bokeh: BokehJS loaded, going straight to plotting\");\n    run_inline_js();\n  } else {\n    load_libs(js_urls, function() {\n      console.log(\"Bokeh: BokehJS plotting callback run at\", now());\n      run_inline_js();\n    });\n  }\n}(window));"
     },
     "metadata": {},
     "output_type": "display_data"
    }
   ],
   "source": [
    "from bokeh.models import ColumnDataSource, LabelSet\n",
    "from bokeh.plotting import figure, show, output_file\n",
    "from bokeh.io import output_notebook\n",
    "output_notebook()"
   ]
  },
  {
   "cell_type": "code",
   "execution_count": 16,
   "metadata": {},
   "outputs": [
    {
     "data": {
      "text/html": [
       "\n",
       "<div class=\"bk-root\">\n",
       "    <div class=\"bk-plotdiv\" id=\"076fc004-7d24-4cec-ad65-f21196393e1c\"></div>\n",
       "</div>"
      ]
     },
     "metadata": {},
     "output_type": "display_data"
    },
    {
     "data": {
      "application/javascript": [
       "(function(root) {\n",
       "  function embed_document(root) {\n",
       "    \n",
       "  var docs_json = {\"18ca0b59-8ad2-44a0-a67c-5533b5638719\":{\"roots\":{\"references\":[{\"attributes\":{\"callback\":null},\"id\":\"cfcd6d5c-f25d-4c7f-91c1-672f4ce1151a\",\"type\":\"DataRange1d\"},{\"attributes\":{\"source\":{\"id\":\"3d17ef52-ba41-4a2e-923c-6b614166456e\",\"type\":\"ColumnDataSource\"}},\"id\":\"7f6b8bac-ce01-428b-8956-56710f72702e\",\"type\":\"CDSView\"},{\"attributes\":{\"dimension\":1,\"plot\":{\"id\":\"0c4f73ae-1133-4795-b5be-c296d69d7daa\",\"subtype\":\"Figure\",\"type\":\"Plot\"},\"ticker\":{\"id\":\"af561e8c-3c57-4bd7-88bd-6a0cb9525043\",\"type\":\"BasicTicker\"}},\"id\":\"74656b83-29d8-483b-95b2-47e72889b758\",\"type\":\"Grid\"},{\"attributes\":{},\"id\":\"63dea7ff-1570-464f-bbf9-d8e0d2e8fe81\",\"type\":\"PanTool\"},{\"attributes\":{},\"id\":\"ffd3ad1e-dc4d-4f36-bb17-a6d1d7fe5f3f\",\"type\":\"BasicTicker\"},{\"attributes\":{\"bottom\":{\"value\":0},\"fill_alpha\":{\"value\":0.1},\"fill_color\":{\"value\":\"#1f77b4\"},\"left\":{\"field\":\"left\"},\"line_alpha\":{\"value\":0.1},\"line_color\":{\"value\":\"#1f77b4\"},\"right\":{\"field\":\"right\"},\"top\":{\"field\":\"top\"}},\"id\":\"62137b5f-7129-4e6e-b2ac-d80f14a98630\",\"type\":\"Quad\"},{\"attributes\":{\"data_source\":{\"id\":\"3d17ef52-ba41-4a2e-923c-6b614166456e\",\"type\":\"ColumnDataSource\"},\"glyph\":{\"id\":\"a255a0f3-dd60-45e3-8fc0-0cadde6581cc\",\"type\":\"Quad\"},\"hover_glyph\":null,\"muted_glyph\":null,\"nonselection_glyph\":{\"id\":\"62137b5f-7129-4e6e-b2ac-d80f14a98630\",\"type\":\"Quad\"},\"selection_glyph\":null,\"view\":{\"id\":\"7f6b8bac-ce01-428b-8956-56710f72702e\",\"type\":\"CDSView\"}},\"id\":\"e812cb9f-9103-4297-bfb3-0fb44caaad82\",\"type\":\"GlyphRenderer\"},{\"attributes\":{},\"id\":\"5f0cf3f8-7c39-441a-861f-91e5831ee272\",\"type\":\"ResetTool\"},{\"attributes\":{\"below\":[{\"id\":\"83acf868-3555-40fe-a816-764f88e1d4ce\",\"type\":\"LinearAxis\"}],\"left\":[{\"id\":\"d0dcd208-2fbe-42a5-88c5-7492bf17ef4d\",\"type\":\"LinearAxis\"}],\"renderers\":[{\"id\":\"83acf868-3555-40fe-a816-764f88e1d4ce\",\"type\":\"LinearAxis\"},{\"id\":\"7a401f58-72eb-413d-a2d9-cab9aeb36fca\",\"type\":\"Grid\"},{\"id\":\"d0dcd208-2fbe-42a5-88c5-7492bf17ef4d\",\"type\":\"LinearAxis\"},{\"id\":\"74656b83-29d8-483b-95b2-47e72889b758\",\"type\":\"Grid\"},{\"id\":\"e812cb9f-9103-4297-bfb3-0fb44caaad82\",\"type\":\"GlyphRenderer\"}],\"title\":{\"id\":\"ec05ec4e-dc6d-4fc4-95e0-272f626d5586\",\"type\":\"Title\"},\"toolbar\":{\"id\":\"e7c69c0c-0c93-4556-9349-e60b3179cb15\",\"type\":\"Toolbar\"},\"toolbar_location\":\"above\",\"x_range\":{\"id\":\"0b3e4b65-7717-4882-b12c-733824e93edd\",\"type\":\"DataRange1d\"},\"x_scale\":{\"id\":\"15b848f0-0414-4ca1-aad1-3ece3babe1cb\",\"type\":\"LinearScale\"},\"y_range\":{\"id\":\"cfcd6d5c-f25d-4c7f-91c1-672f4ce1151a\",\"type\":\"DataRange1d\"},\"y_scale\":{\"id\":\"6dbdab8c-c1a9-4459-85c5-4b6627b02d99\",\"type\":\"LinearScale\"}},\"id\":\"0c4f73ae-1133-4795-b5be-c296d69d7daa\",\"subtype\":\"Figure\",\"type\":\"Plot\"},{\"attributes\":{},\"id\":\"4fb61bee-4c39-432d-8ab0-ecffd6f17503\",\"type\":\"WheelZoomTool\"},{\"attributes\":{},\"id\":\"af561e8c-3c57-4bd7-88bd-6a0cb9525043\",\"type\":\"BasicTicker\"},{\"attributes\":{},\"id\":\"297dae5f-8aa0-4f5c-a3ec-dab30ed80645\",\"type\":\"BasicTickFormatter\"},{\"attributes\":{},\"id\":\"93557241-1c2f-4908-9191-5cf9a8345711\",\"type\":\"SaveTool\"},{\"attributes\":{\"callback\":null},\"id\":\"0b3e4b65-7717-4882-b12c-733824e93edd\",\"type\":\"DataRange1d\"},{\"attributes\":{\"plot\":null,\"text\":\"Word Positive/Negative Affinity Distribution\"},\"id\":\"ec05ec4e-dc6d-4fc4-95e0-272f626d5586\",\"type\":\"Title\"},{\"attributes\":{\"plot\":{\"id\":\"0c4f73ae-1133-4795-b5be-c296d69d7daa\",\"subtype\":\"Figure\",\"type\":\"Plot\"},\"ticker\":{\"id\":\"ffd3ad1e-dc4d-4f36-bb17-a6d1d7fe5f3f\",\"type\":\"BasicTicker\"}},\"id\":\"7a401f58-72eb-413d-a2d9-cab9aeb36fca\",\"type\":\"Grid\"},{\"attributes\":{},\"id\":\"15b848f0-0414-4ca1-aad1-3ece3babe1cb\",\"type\":\"LinearScale\"},{\"attributes\":{\"bottom\":{\"value\":0},\"fill_color\":{\"value\":\"#1f77b4\"},\"left\":{\"field\":\"left\"},\"line_color\":{\"value\":\"#555555\"},\"right\":{\"field\":\"right\"},\"top\":{\"field\":\"top\"}},\"id\":\"a255a0f3-dd60-45e3-8fc0-0cadde6581cc\",\"type\":\"Quad\"},{\"attributes\":{},\"id\":\"619d92bf-554b-4557-ba30-29349d741f95\",\"type\":\"BasicTickFormatter\"},{\"attributes\":{\"callback\":null,\"column_names\":[\"right\",\"top\",\"left\"],\"data\":{\"left\":{\"__ndarray__\":\"opH/IA/tA8ADaauKC5cDwGNAV/QHQQPAxBcDXgTrAsAk767HAJUCwIXGWjH9PgLA5p0Gm/noAcBGdbIE9pIBwKdMXm7yPAHAByQK2O7mAMBo+7VB65AAwMjSYavnOgDAUlQbKsjJ/78UA3P9wB3/v9SxytC5cf6/lmAipLLF/b9XD3p3qxn9vxi+0Uqkbfy/2mwpHp3B+7+aG4HxlRX7v1zK2MSOafq/HXkwmIe9+b/eJ4hrgBH5v6DW3z55Zfi/YIU3EnK5978iNI/lag33v+Pi5rhjYfa/pJE+jFy19b9lQJZfVQn1vybv7TJOXfS/6J1FBkex87+pTJ3ZPwXzv2r79Kw4WfK/K6pMgDGt8b/sWKRTKgHxv64H/CYjVfC/3myn9DdS779gylabKfrtv+InBkIbouy/ZIW16AxK67/o4mSP/vHpv2pAFDbwmei/7J3D3OFB579u+3KD0+nlv/BYIirFkeS/crbR0LY547/2E4F3qOHhv3hxMB6aieC/8J2/iRdj3r/4WB7X+rLbvwAUfSTeAtm/AM/bccFS1r8Iijq/pKLTvwhFmQyI8tC/IADws9aEzL8wdq1OnSTHvzDsauljxMG/gMRQCFXIuL8AYZd7xA+svwDlNJp7O4q/AN35XA3knT9Ai8MhdjmyPyCfSOzo+bw/kNlm2y3dwz+AY6lAZz3JP3Dt66Wgnc4/uDuXBe3+0T+wgDi4Ca/UP7DF2WomX9c/qAp7HUMP2j+gTxzQX7/cP6CUvYJ8b98/zGyvmswP4T9MDwD02mfiP8ixUE3pv+M/RFShpvcX5T/E9vH/BXDmP0CZQlkUyOc/wDuTsiIg6T883uMLMXjqP7iANGU/0Os/OCOFvk0o7T+0xdUXXIDuPzRoJnFq2O8/WIU7ZTyY8D+Y1uORQ0TxP9YnjL5K8PE/FHk061Gc8j9UytwXWUjzP5IbhURg9PM/0mwtcWeg9D8QvtWdbkz1P04Pfsp1+PU/jmAm93yk9j/Msc4jhFD3PwwDd1CL/Pc/TFQffZKo+D+IpcepmVT5P8j2b9agAPo/CEgYA6is+j8=\",\"dtype\":\"float64\",\"shape\":[100]},\"right\":{\"__ndarray__\":\"A2mriguXA8BjQFf0B0EDwMQXA14E6wLAJO+uxwCVAsCFxlox/T4CwOadBpv56AHARnWyBPaSAcCnTF5u8jwBwAckCtju5gDAaPu1QeuQAMDI0mGr5zoAwFJUGyrIyf+/FANz/cAd/7/UscrQuXH+v5ZgIqSyxf2/Vw96d6sZ/b8YvtFKpG38v9psKR6dwfu/mhuB8ZUV+79cytjEjmn6vx15MJiHvfm/3ieIa4AR+b+g1t8+eWX4v2CFNxJyufe/IjSP5WoN97/j4ua4Y2H2v6SRPoxctfW/ZUCWX1UJ9b8m7+0yTl30v+idRQZHsfO/qUyd2T8F879q+/SsOFnyvyuqTIAxrfG/7FikUyoB8b+uB/wmI1Xwv95sp/Q3Uu+/YMpWmyn67b/iJwZCG6Lsv2SFtegMSuu/6OJkj/7x6b9qQBQ28Jnov+ydw9zhQee/bvtyg9Pp5b/wWCIqxZHkv3K20dC2OeO/9hOBd6jh4b94cTAemongv/Cdv4kXY96/+Fge1/qy278AFH0k3gLZvwDP23HBUta/CIo6v6Si078IRZkMiPLQvyAA8LPWhMy/MHatTp0kx78w7GrpY8TBv4DEUAhVyLi/AGGXe8QPrL8A5TSaezuKvwDd+VwN5J0/QIvDIXY5sj8gn0js6Pm8P5DZZtst3cM/gGOpQGc9yT9w7euloJ3OP7g7lwXt/tE/sIA4uAmv1D+wxdlqJl/XP6gKex1DD9o/oE8c0F+/3D+glL2CfG/fP8xsr5rMD+E/TA8A9Npn4j/IsVBN6b/jP0RUoab3F+U/xPbx/wVw5j9AmUJZFMjnP8A7k7IiIOk/PN7jCzF46j+4gDRlP9DrPzgjhb5NKO0/tMXVF1yA7j80aCZxatjvP1iFO2U8mPA/mNbjkUNE8T/WJ4y+SvDxPxR5NOtRnPI/VMrcF1lI8z+SG4VEYPTzP9JsLXFnoPQ/EL7VnW5M9T9OD37Kdfj1P45gJvd8pPY/zLHOI4RQ9z8MA3dQi/z3P0xUH32SqPg/iKXHqZlU+T/I9m/WoAD6PwhIGAOorPo/RZnAL69Y+z8=\",\"dtype\":\"float64\",\"shape\":[100]},\"top\":{\"__ndarray__\":\"Ubb3c/mElT8AAAAAAAAAAAAAAAAAAAAAEbb3c/mElT8AAAAAAAAAAAAAAAAAAAAAAAAAAAAAAABRtvdz+YSVPxG293P5hKU/AAAAAAAAAAAAAAAAAAAAAAAAAAAAAAAAAAAAAAAAAAARtvdz+YSVPwAAAAAAAAAAMbb3c/mElT8xtvdz+YSVP1G293P5hJU/Ebb3c/mElT9Rtvdz+YSlPzG293P5hJU/Mbb3c/mElT9Rtvdz+YSlPwAAAAAAAAAAUbb3c/mEpT8AAAAAAAAAADG293P5hJU/Mbb3c/mEpT+kyPkWuyOwP1G293P5hKU/Mbb3c/mEpT8AAAAAAAAAAAAAAAAAAAAAMbb3c/mElT9Rtvdz+YSlPzG293P5hKU/vaP10Dfmuj8xtvdz+YSVPzG293P5hJU/5qP10Dfmuj+kyPkWuyPAP6TI+Ra7I8A/vaP10Dfmuj/4rHaimDXIP2u/eEVa1MI/IkQ5rgp80T8xtvdz+YTVPxG293P5hNU/h794RVrU0j9KHzVohz7cPz2GmeLiz+A/h794RVrU4j+n3NQzr+rsP+w6uNypLOQ/M+ZVBRA66j9lp8n8znnwP4Aotjnojek/jcj5Frsj8D9whpni4s/wP7YxNwtJ3fY/PYaZ4uLP8D+u4KhfRn7yP5Wj9dA35uo/r5p0/9aW7T/93NQzr+rsP2nTU2JOm+8/zmoWbsDh6D/2HjVohz7sPwR0lz8hMeY/IkQ5rgp84T+NyPkWuyPgP3CGmeLiz+A/jcj5Frsj0D+Hv3hFWtTCP6+adP/Wls0/sDq43Kks1D/mo/XQN+a6P0+/eEVa1MI/Ubb3c/mElT/mo/XQN+a6P43I+Ra7I7A/Ubb3c/mEpT8Rtvdz+YS1P73I+Ra7I7A/Ebb3c/mElT9Rtvdz+YSlP73I+Ra7I7A/Ebb3c/mElT9Rtvdz+YSlPxG293P5hJU/Ubb3c/mElT8AAAAAAAAAABG293P5hJU/AAAAAAAAAAARtvdz+YSVPxG293P5hJU/kbb3c/mElT8AAAAAAAAAAAAAAAAAAAAAcbb3c/mElT8=\",\"dtype\":\"float64\",\"shape\":[100]}}},\"id\":\"3d17ef52-ba41-4a2e-923c-6b614166456e\",\"type\":\"ColumnDataSource\"},{\"attributes\":{\"active_drag\":\"auto\",\"active_inspect\":\"auto\",\"active_scroll\":\"auto\",\"active_tap\":\"auto\",\"tools\":[{\"id\":\"63dea7ff-1570-464f-bbf9-d8e0d2e8fe81\",\"type\":\"PanTool\"},{\"id\":\"4fb61bee-4c39-432d-8ab0-ecffd6f17503\",\"type\":\"WheelZoomTool\"},{\"id\":\"5f0cf3f8-7c39-441a-861f-91e5831ee272\",\"type\":\"ResetTool\"},{\"id\":\"93557241-1c2f-4908-9191-5cf9a8345711\",\"type\":\"SaveTool\"}]},\"id\":\"e7c69c0c-0c93-4556-9349-e60b3179cb15\",\"type\":\"Toolbar\"},{\"attributes\":{\"formatter\":{\"id\":\"619d92bf-554b-4557-ba30-29349d741f95\",\"type\":\"BasicTickFormatter\"},\"plot\":{\"id\":\"0c4f73ae-1133-4795-b5be-c296d69d7daa\",\"subtype\":\"Figure\",\"type\":\"Plot\"},\"ticker\":{\"id\":\"af561e8c-3c57-4bd7-88bd-6a0cb9525043\",\"type\":\"BasicTicker\"}},\"id\":\"d0dcd208-2fbe-42a5-88c5-7492bf17ef4d\",\"type\":\"LinearAxis\"},{\"attributes\":{\"formatter\":{\"id\":\"297dae5f-8aa0-4f5c-a3ec-dab30ed80645\",\"type\":\"BasicTickFormatter\"},\"plot\":{\"id\":\"0c4f73ae-1133-4795-b5be-c296d69d7daa\",\"subtype\":\"Figure\",\"type\":\"Plot\"},\"ticker\":{\"id\":\"ffd3ad1e-dc4d-4f36-bb17-a6d1d7fe5f3f\",\"type\":\"BasicTicker\"}},\"id\":\"83acf868-3555-40fe-a816-764f88e1d4ce\",\"type\":\"LinearAxis\"},{\"attributes\":{},\"id\":\"6dbdab8c-c1a9-4459-85c5-4b6627b02d99\",\"type\":\"LinearScale\"}],\"root_ids\":[\"0c4f73ae-1133-4795-b5be-c296d69d7daa\"]},\"title\":\"Bokeh Application\",\"version\":\"0.12.14\"}};\n",
       "  var render_items = [{\"docid\":\"18ca0b59-8ad2-44a0-a67c-5533b5638719\",\"elementid\":\"076fc004-7d24-4cec-ad65-f21196393e1c\",\"modelid\":\"0c4f73ae-1133-4795-b5be-c296d69d7daa\"}];\n",
       "  root.Bokeh.embed.embed_items_notebook(docs_json, render_items);\n",
       "\n",
       "  }\n",
       "  if (root.Bokeh !== undefined) {\n",
       "    embed_document(root);\n",
       "  } else {\n",
       "    var attempts = 0;\n",
       "    var timer = setInterval(function(root) {\n",
       "      if (root.Bokeh !== undefined) {\n",
       "        embed_document(root);\n",
       "        clearInterval(timer);\n",
       "      }\n",
       "      attempts++;\n",
       "      if (attempts > 100) {\n",
       "        console.log(\"Bokeh: ERROR: Unable to run BokehJS code because BokehJS library is missing\")\n",
       "        clearInterval(timer);\n",
       "      }\n",
       "    }, 10, root)\n",
       "  }\n",
       "})(window);"
      ],
      "application/vnd.bokehjs_exec.v0+json": ""
     },
     "metadata": {
      "application/vnd.bokehjs_exec.v0+json": {
       "id": "0c4f73ae-1133-4795-b5be-c296d69d7daa"
      }
     },
     "output_type": "display_data"
    }
   ],
   "source": [
    "hist, edges = np.histogram(list(map(lambda x:x[1],pos_neg_ratios.most_common())), density=True, bins=100, normed=True)\n",
    "\n",
    "p = figure(tools=\"pan,wheel_zoom,reset,save\",\n",
    "           toolbar_location=\"above\",\n",
    "           title=\"Word Positive/Negative Affinity Distribution\")\n",
    "p.quad(top=hist, bottom=0, left=edges[:-1], right=edges[1:], line_color=\"#555555\")\n",
    "show(p)"
   ]
  },
  {
   "cell_type": "code",
   "execution_count": 17,
   "metadata": {},
   "outputs": [],
   "source": [
    "frequency_frequency = Counter()\n",
    "\n",
    "for word, cnt in total_counts.most_common():\n",
    "    frequency_frequency[cnt] += 1"
   ]
  },
  {
   "cell_type": "code",
   "execution_count": 18,
   "metadata": {},
   "outputs": [
    {
     "data": {
      "text/html": [
       "\n",
       "<div class=\"bk-root\">\n",
       "    <div class=\"bk-plotdiv\" id=\"2c8a86b5-22da-4b1b-bb0d-6307f70c376b\"></div>\n",
       "</div>"
      ]
     },
     "metadata": {},
     "output_type": "display_data"
    },
    {
     "data": {
      "application/javascript": [
       "(function(root) {\n",
       "  function embed_document(root) {\n",
       "    \n",
       "  var docs_json = {\"fda1ad8e-6a60-4590-9e92-6bf915dbd215\":{\"roots\":{\"references\":[{\"attributes\":{\"formatter\":{\"id\":\"872ceb4f-334b-41da-b7b4-bcb048536959\",\"type\":\"BasicTickFormatter\"},\"plot\":{\"id\":\"f2c76731-08db-4750-8afb-b20b7efbb05b\",\"subtype\":\"Figure\",\"type\":\"Plot\"},\"ticker\":{\"id\":\"c7b8717e-874f-4008-973a-9a9a4f0cb7d5\",\"type\":\"BasicTicker\"}},\"id\":\"4e68ef75-f7a1-4545-b865-5ca16131ea7a\",\"type\":\"LinearAxis\"},{\"attributes\":{},\"id\":\"db1b9a12-eeb2-4c7c-b574-577bf1093153\",\"type\":\"BasicTicker\"},{\"attributes\":{\"active_drag\":\"auto\",\"active_inspect\":\"auto\",\"active_scroll\":\"auto\",\"active_tap\":\"auto\",\"tools\":[{\"id\":\"4583b48a-cab9-4255-836c-56feb24ea5e5\",\"type\":\"PanTool\"},{\"id\":\"7361a7a1-5e37-4ce8-b3ac-d1765e9f0bbb\",\"type\":\"WheelZoomTool\"},{\"id\":\"fbfc33e9-bf07-4cba-a22f-aff7c413eccd\",\"type\":\"ResetTool\"},{\"id\":\"3c722e47-f765-42b0-af9e-5a5e6734111c\",\"type\":\"SaveTool\"}]},\"id\":\"591cee2d-06ff-450d-bde0-6fbeaf7e6eaa\",\"type\":\"Toolbar\"},{\"attributes\":{\"callback\":null,\"column_names\":[\"right\",\"top\",\"left\"],\"data\":{\"left\":{\"__ndarray__\":\"AAAAAAAA8D/NzMzMzFhxQM3MzMzMUIFANDMzMzP1iUDNzMzMzEyRQAAAAAAAn5VANDMzMzPxmUBnZmZmZkOeQM3MzMzMSqFAZ2ZmZuZzo0AAAAAAAJ2lQJqZmZkZxqdANDMzMzPvqUDNzMzMTBisQGdmZmZmQa5AAAAAAEA1sEDNzMzMzEmxQJqZmZlZXrJAZ2ZmZuZys0AzMzMzc4e0QAAAAAAAnLVAzczMzIywtkCamZmZGcW3QGdmZmam2bhANDMzMzPuuUAAAAAAwAK7QM3MzMxMF7xAmpmZmdkrvUBnZmZmZkC+QDQzMzPzVL9AAAAAAMA0wEBnZmZmBr/AQM3MzMxMScFAMzMzM5PTwUCamZmZ2V3CQAAAAAAg6MJAZ2ZmZmZyw0DNzMzMrPzDQDMzMzPzhsRAmpmZmTkRxUAAAAAAgJvFQGdmZmbGJcZAzczMzAywxkAzMzMzUzrHQJqZmZmZxMdAAAAAAOBOyEBnZmZmJtnIQM3MzMxsY8lANDMzM7PtyUCamZmZ+XfKQAAAAABAAstAZ2ZmZoaMy0DNzMzMzBbMQDQzMzMTocxAmpmZmVkrzUAAAAAAoLXNQGdmZmbmP85AzczMzCzKzkA0MzMzc1TPQJqZmZm53s9AAAAAAIA00EAzMzMzo3nQQGdmZmbGvtBAmpmZmekD0UDNzMzMDEnRQAAAAAAwjtFAMzMzM1PT0UBnZmZmdhjSQJqZmZmZXdJAzczMzLyi0kAAAAAA4OfSQDMzMzMDLdNAZ2ZmZiZy00CamZmZSbfTQM3MzMxs/NNAAAAAAJBB1EAzMzMzs4bUQGdmZmbWy9RAmpmZmfkQ1UDNzMzMHFbVQAAAAABAm9VAMzMzM2Pg1UBnZmZmhiXWQJqZmZmpatZAzczMzMyv1kAAAAAA8PTWQDMzMzMTOtdAZ2ZmZjZ/10CamZmZWcTXQM3MzMx8CdhAAAAAAKBO2EAzMzMzw5PYQGdmZmbm2NhAmpmZmQke2UDNzMzMLGPZQAAAAABQqNlANDMzM3Pt2UBnZmZmljLaQJqZmZm5d9pAzczMzNy82kA=\",\"dtype\":\"float64\",\"shape\":[100]},\"right\":{\"__ndarray__\":\"zczMzMxYcUDNzMzMzFCBQDQzMzMz9YlAzczMzMxMkUAAAAAAAJ+VQDQzMzMz8ZlAZ2ZmZmZDnkDNzMzMzEqhQGdmZmbmc6NAAAAAAACdpUCamZmZGcanQDQzMzMz76lAzczMzEwYrEBnZmZmZkGuQAAAAABANbBAzczMzMxJsUCamZmZWV6yQGdmZmbmcrNAMzMzM3OHtEAAAAAAAJy1QM3MzMyMsLZAmpmZmRnFt0BnZmZmptm4QDQzMzMz7rlAAAAAAMACu0DNzMzMTBe8QJqZmZnZK71AZ2ZmZmZAvkA0MzMz81S/QAAAAADANMBAZ2ZmZga/wEDNzMzMTEnBQDMzMzOT08FAmpmZmdldwkAAAAAAIOjCQGdmZmZmcsNAzczMzKz8w0AzMzMz84bEQJqZmZk5EcVAAAAAAICbxUBnZmZmxiXGQM3MzMwMsMZAMzMzM1M6x0CamZmZmcTHQAAAAADgTshAZ2ZmZibZyEDNzMzMbGPJQDQzMzOz7clAmpmZmfl3ykAAAAAAQALLQGdmZmaGjMtAzczMzMwWzEA0MzMzE6HMQJqZmZlZK81AAAAAAKC1zUBnZmZm5j/OQM3MzMwsys5ANDMzM3NUz0CamZmZud7PQAAAAACANNBAMzMzM6N50EBnZmZmxr7QQJqZmZnpA9FAzczMzAxJ0UAAAAAAMI7RQDMzMzNT09FAZ2ZmZnYY0kCamZmZmV3SQM3MzMy8otJAAAAAAODn0kAzMzMzAy3TQGdmZmYmctNAmpmZmUm300DNzMzMbPzTQAAAAACQQdRAMzMzM7OG1EBnZmZm1svUQJqZmZn5ENVAzczMzBxW1UAAAAAAQJvVQDMzMzNj4NVAZ2ZmZoYl1kCamZmZqWrWQM3MzMzMr9ZAAAAAAPD01kAzMzMzEzrXQGdmZmY2f9dAmpmZmVnE10DNzMzMfAnYQAAAAACgTthAMzMzM8OT2EBnZmZm5tjYQJqZmZkJHtlAzczMzCxj2UAAAAAAUKjZQDQzMzNz7dlAZ2ZmZpYy2kCamZmZuXfaQM3MzMzcvNpAAAAAAAAC20A=\",\"dtype\":\"float64\",\"shape\":[100]},\"top\":{\"__ndarray__\":\"TDhFg5YVbT+JTZDME4n7PtMKDQpDB+Y+1QoNCkMH1j7VCg0KQwfWPgAAAAAAAAAA1QoNCkMHxj7VCg0KQwfGPgAAAAAAAAAA2goNCkMHxj4AAAAAAAAAAAAAAAAAAAAA2goNCkMHxj4AAAAAAAAAAAAAAAAAAAAAAAAAAAAAAAAAAAAAAAAAAAAAAAAAAAAA5QoNCkMHxj4AAAAAAAAAAAAAAAAAAAAAAAAAAAAAAAAAAAAAAAAAAAAAAAAAAAAAAAAAAAAAAAAAAAAAAAAAAAAAAAAAAAAAAAAAAAAAAAAAAAAAAAAAAAAAAAAAAAAAAAAAAAAAAAAAAAAAAAAAAOUKDQpDB8Y+AAAAAAAAAAAAAAAAAAAAAAAAAAAAAAAAAAAAAAAAAAAAAAAAAAAAAAAAAAAAAAAAAAAAAAAAAAAAAAAAAAAAAAAAAAAAAAAAAAAAAAAAAAAAAAAAAAAAAAAAAAAAAAAAAAAAAAAAAAAAAAAAAAAAAAAAAAAAAAAAAAAAAAAAAAAAAAAAAAAAAAAAAAAAAAAAAAAAAAAAAAAAAAAAAAAAAAAAAAAAAAAAAAAAAAAAAAAAAAAAAAAAAAAAAAAAAAAAAAAAAAAAAAAAAAAAAAAAAAAAAAAAAAAAAAAAAAAAAAAAAAAAAAAAAAAAAAAAAAAAAAAAAAAAAAAAAAAAAAAAAAAAAAAAAAAAAAAAAAAAAAAAAAAAAAAAAAAAAAAAAAAAAAAAAAAAAAAAAAAAAAAAAAAAAAAAAAAAAAAAAAAAAAAAAAAAAAAAAAAAAAAAAAAAAAAAAAAAAAAAAAAAAAAAAAAAAAAAAAAAAAAAAAAAAAAAAAAAAAAAAAAAAAAAAAAAAAAAAAAAAAAAAAAAAAAAAAAAAAAAAAAAAAAAAAAAAAAAAAAAAAAAAAAAAAAAAAAAAAAAAAAAAAAAAAAAAAAAAAAAAAAAAAAAAAAAAAAAAAAAAAAAAAAAAAAAAAAAAAAAAAAAAAAAAAAAAAAAAAAAAAAAAAAAAAAAAAAAAAAAAAAAAAAAAAAAAAAAAAAAAAAA5QoNCkMHxj4=\",\"dtype\":\"float64\",\"shape\":[100]}}},\"id\":\"65334637-ca65-4181-bbf3-020528bf4aad\",\"type\":\"ColumnDataSource\"},{\"attributes\":{},\"id\":\"7361a7a1-5e37-4ce8-b3ac-d1765e9f0bbb\",\"type\":\"WheelZoomTool\"},{\"attributes\":{\"callback\":null},\"id\":\"70b7d361-94ed-45b0-bf7c-14e52eba800f\",\"type\":\"DataRange1d\"},{\"attributes\":{\"plot\":null,\"text\":\"The frequency distribution of the words in our corpus\"},\"id\":\"50bf0f5c-af4b-4421-be03-67264d24f1b8\",\"type\":\"Title\"},{\"attributes\":{},\"id\":\"c7b8717e-874f-4008-973a-9a9a4f0cb7d5\",\"type\":\"BasicTicker\"},{\"attributes\":{},\"id\":\"4583b48a-cab9-4255-836c-56feb24ea5e5\",\"type\":\"PanTool\"},{\"attributes\":{\"formatter\":{\"id\":\"da813f95-dd5e-42d8-91ea-2b7d301fadb9\",\"type\":\"BasicTickFormatter\"},\"plot\":{\"id\":\"f2c76731-08db-4750-8afb-b20b7efbb05b\",\"subtype\":\"Figure\",\"type\":\"Plot\"},\"ticker\":{\"id\":\"db1b9a12-eeb2-4c7c-b574-577bf1093153\",\"type\":\"BasicTicker\"}},\"id\":\"94c7f505-8371-44ea-ab11-fee3a6b63a2c\",\"type\":\"LinearAxis\"},{\"attributes\":{\"callback\":null},\"id\":\"6817889e-9f0c-4cce-abb0-a2ca77c42ee8\",\"type\":\"DataRange1d\"},{\"attributes\":{\"below\":[{\"id\":\"4e68ef75-f7a1-4545-b865-5ca16131ea7a\",\"type\":\"LinearAxis\"}],\"left\":[{\"id\":\"94c7f505-8371-44ea-ab11-fee3a6b63a2c\",\"type\":\"LinearAxis\"}],\"renderers\":[{\"id\":\"4e68ef75-f7a1-4545-b865-5ca16131ea7a\",\"type\":\"LinearAxis\"},{\"id\":\"7008163b-2b21-48d5-83cf-5336ac336aac\",\"type\":\"Grid\"},{\"id\":\"94c7f505-8371-44ea-ab11-fee3a6b63a2c\",\"type\":\"LinearAxis\"},{\"id\":\"12d55493-175a-46ad-874d-94614bb8cd47\",\"type\":\"Grid\"},{\"id\":\"65100286-035e-40e2-8a95-01e7c388fbad\",\"type\":\"GlyphRenderer\"}],\"title\":{\"id\":\"50bf0f5c-af4b-4421-be03-67264d24f1b8\",\"type\":\"Title\"},\"toolbar\":{\"id\":\"591cee2d-06ff-450d-bde0-6fbeaf7e6eaa\",\"type\":\"Toolbar\"},\"toolbar_location\":\"above\",\"x_range\":{\"id\":\"6817889e-9f0c-4cce-abb0-a2ca77c42ee8\",\"type\":\"DataRange1d\"},\"x_scale\":{\"id\":\"d975b634-428b-42a8-a9d3-e79f51f39ebc\",\"type\":\"LinearScale\"},\"y_range\":{\"id\":\"70b7d361-94ed-45b0-bf7c-14e52eba800f\",\"type\":\"DataRange1d\"},\"y_scale\":{\"id\":\"5d5d5387-c07c-41d9-91c8-37e5fa1e7069\",\"type\":\"LinearScale\"}},\"id\":\"f2c76731-08db-4750-8afb-b20b7efbb05b\",\"subtype\":\"Figure\",\"type\":\"Plot\"},{\"attributes\":{},\"id\":\"3c722e47-f765-42b0-af9e-5a5e6734111c\",\"type\":\"SaveTool\"},{\"attributes\":{},\"id\":\"872ceb4f-334b-41da-b7b4-bcb048536959\",\"type\":\"BasicTickFormatter\"},{\"attributes\":{},\"id\":\"5d5d5387-c07c-41d9-91c8-37e5fa1e7069\",\"type\":\"LinearScale\"},{\"attributes\":{\"bottom\":{\"value\":0},\"fill_alpha\":{\"value\":0.1},\"fill_color\":{\"value\":\"#1f77b4\"},\"left\":{\"field\":\"left\"},\"line_alpha\":{\"value\":0.1},\"line_color\":{\"value\":\"#1f77b4\"},\"right\":{\"field\":\"right\"},\"top\":{\"field\":\"top\"}},\"id\":\"746f926d-3342-4701-8070-bbb146177ddf\",\"type\":\"Quad\"},{\"attributes\":{},\"id\":\"da813f95-dd5e-42d8-91ea-2b7d301fadb9\",\"type\":\"BasicTickFormatter\"},{\"attributes\":{},\"id\":\"d975b634-428b-42a8-a9d3-e79f51f39ebc\",\"type\":\"LinearScale\"},{\"attributes\":{\"dimension\":1,\"plot\":{\"id\":\"f2c76731-08db-4750-8afb-b20b7efbb05b\",\"subtype\":\"Figure\",\"type\":\"Plot\"},\"ticker\":{\"id\":\"db1b9a12-eeb2-4c7c-b574-577bf1093153\",\"type\":\"BasicTicker\"}},\"id\":\"12d55493-175a-46ad-874d-94614bb8cd47\",\"type\":\"Grid\"},{\"attributes\":{\"source\":{\"id\":\"65334637-ca65-4181-bbf3-020528bf4aad\",\"type\":\"ColumnDataSource\"}},\"id\":\"e6528063-d541-45db-b064-636397355873\",\"type\":\"CDSView\"},{\"attributes\":{\"plot\":{\"id\":\"f2c76731-08db-4750-8afb-b20b7efbb05b\",\"subtype\":\"Figure\",\"type\":\"Plot\"},\"ticker\":{\"id\":\"c7b8717e-874f-4008-973a-9a9a4f0cb7d5\",\"type\":\"BasicTicker\"}},\"id\":\"7008163b-2b21-48d5-83cf-5336ac336aac\",\"type\":\"Grid\"},{\"attributes\":{\"bottom\":{\"value\":0},\"fill_color\":{\"value\":\"#1f77b4\"},\"left\":{\"field\":\"left\"},\"line_color\":{\"value\":\"#555555\"},\"right\":{\"field\":\"right\"},\"top\":{\"field\":\"top\"}},\"id\":\"c85c5b27-a421-4898-8372-7b044ea0989a\",\"type\":\"Quad\"},{\"attributes\":{},\"id\":\"fbfc33e9-bf07-4cba-a22f-aff7c413eccd\",\"type\":\"ResetTool\"},{\"attributes\":{\"data_source\":{\"id\":\"65334637-ca65-4181-bbf3-020528bf4aad\",\"type\":\"ColumnDataSource\"},\"glyph\":{\"id\":\"c85c5b27-a421-4898-8372-7b044ea0989a\",\"type\":\"Quad\"},\"hover_glyph\":null,\"muted_glyph\":null,\"nonselection_glyph\":{\"id\":\"746f926d-3342-4701-8070-bbb146177ddf\",\"type\":\"Quad\"},\"selection_glyph\":null,\"view\":{\"id\":\"e6528063-d541-45db-b064-636397355873\",\"type\":\"CDSView\"}},\"id\":\"65100286-035e-40e2-8a95-01e7c388fbad\",\"type\":\"GlyphRenderer\"}],\"root_ids\":[\"f2c76731-08db-4750-8afb-b20b7efbb05b\"]},\"title\":\"Bokeh Application\",\"version\":\"0.12.14\"}};\n",
       "  var render_items = [{\"docid\":\"fda1ad8e-6a60-4590-9e92-6bf915dbd215\",\"elementid\":\"2c8a86b5-22da-4b1b-bb0d-6307f70c376b\",\"modelid\":\"f2c76731-08db-4750-8afb-b20b7efbb05b\"}];\n",
       "  root.Bokeh.embed.embed_items_notebook(docs_json, render_items);\n",
       "\n",
       "  }\n",
       "  if (root.Bokeh !== undefined) {\n",
       "    embed_document(root);\n",
       "  } else {\n",
       "    var attempts = 0;\n",
       "    var timer = setInterval(function(root) {\n",
       "      if (root.Bokeh !== undefined) {\n",
       "        embed_document(root);\n",
       "        clearInterval(timer);\n",
       "      }\n",
       "      attempts++;\n",
       "      if (attempts > 100) {\n",
       "        console.log(\"Bokeh: ERROR: Unable to run BokehJS code because BokehJS library is missing\")\n",
       "        clearInterval(timer);\n",
       "      }\n",
       "    }, 10, root)\n",
       "  }\n",
       "})(window);"
      ],
      "application/vnd.bokehjs_exec.v0+json": ""
     },
     "metadata": {
      "application/vnd.bokehjs_exec.v0+json": {
       "id": "f2c76731-08db-4750-8afb-b20b7efbb05b"
      }
     },
     "output_type": "display_data"
    }
   ],
   "source": [
    "hist, edges = np.histogram(list(map(lambda x:x[1],frequency_frequency.most_common())), density=True, bins=100, normed=True)\n",
    "\n",
    "p = figure(tools=\"pan,wheel_zoom,reset,save\",\n",
    "           toolbar_location=\"above\",\n",
    "           title=\"The frequency distribution of the words in our corpus\")\n",
    "p.quad(top=hist, bottom=0, left=edges[:-1], right=edges[1:], line_color=\"#555555\")\n",
    "show(p)"
   ]
  },
  {
   "cell_type": "code",
   "execution_count": 19,
   "metadata": {},
   "outputs": [],
   "source": [
    "import time\n",
    "import sys\n",
    "import numpy as np\n",
    "\n",
    "# Encapsulate our neural network in a class\n",
    "class SentimentNetwork:\n",
    "    def __init__(self, reviews, labels, hidden_nodes = 10, learning_rate = 0.1,min_count=100,polarity_cutoff=2.5):\n",
    "        \"\"\"Create a SentimenNetwork with the given settings\n",
    "        Args:\n",
    "            reviews(list) - List of reviews used for training\n",
    "            labels(list) - List of POSITIVE/NEGATIVE labels associated with the given reviews\n",
    "            hidden_nodes(int) - Number of nodes to create in the hidden layer\n",
    "            learning_rate(float) - Learning rate to use while training\n",
    "        \n",
    "        \"\"\"\n",
    "        # Assign a seed to our random number generator to ensure we get\n",
    "        # reproducable results during development \n",
    "        np.random.seed(1)\n",
    "\n",
    "        # process the reviews and their associated labels so that everything\n",
    "        # is ready for training\n",
    "        self.pre_process_data(reviews, labels,min_count,polarity_cutoff)\n",
    "        \n",
    "        # Build the network to have the number of hidden nodes and the learning rate that\n",
    "        # were passed into this initializer. Make the same number of input nodes as\n",
    "        # there are vocabulary words and create a single output node.\n",
    "        self.init_network(len(self.review_vocab),hidden_nodes, 1, learning_rate)\n",
    "\n",
    "    def pre_process_data(self, reviews, labels,min_count,polarity_cutoff):\n",
    "        \n",
    "        review_vocab = set()\n",
    "        \n",
    "        positive_counts = Counter()\n",
    "        negative_counts = Counter()\n",
    "        total_counts = Counter()\n",
    "\n",
    "        for review, label in zip(reviews, labels):\n",
    "            for word in review.split(' '):\n",
    "                total_counts[word]+=1\n",
    "                if(label == 'POSITIVE'):\n",
    "                    positive_counts[word]+=1\n",
    "                else:\n",
    "                    negative_counts[word]+=1\n",
    "                \n",
    "        for word,count in list(total_counts.most_common()):\n",
    "            if(count>50):\n",
    "                pos_neg_ratio = positive_counts[word]/float(negative_counts[word]+1)\n",
    "                pos_neg_ratios[word]=pos_neg_ratio\n",
    "        \n",
    "        for word,ratio in pos_neg_ratios.most_common():\n",
    "            if(ratio>1):\n",
    "                pos_neg_ratios[word]=np.log(ratio)\n",
    "            else:\n",
    "                pos_neg_ratios[word]=-np.log((1/(ratio+0.01)))\n",
    "        # Convert the vocabulary set to a list so we can access words via indices\n",
    "        for review in reviews:\n",
    "            for word in review.split(' '):\n",
    "                if(total_counts[word]>min_count):\n",
    "                    if(word in pos_neg_ratios.keys()):\n",
    "                        if(np.abs(pos_neg_ratios[word])>polarity_cutoff):\n",
    "                            review_vocab.add(word)\n",
    "                    else:\n",
    "                        review_vocab.add(word)\n",
    "        \n",
    "        self.review_vocab = list(review_vocab)\n",
    "        \n",
    "        label_vocab = set()\n",
    "        for label in labels:\n",
    "            label_vocab.add(label)\n",
    "        # TODO: populate label_vocab with all of the words in the given labels.\n",
    "        #       There is no need to split the labels because each one is a single word.\n",
    "        \n",
    "        # Convert the label vocabulary set to a list so we can access labels via indices\n",
    "        self.label_vocab = list(label_vocab)\n",
    "        \n",
    "        # Store the sizes of the review and label vocabularies.\n",
    "        self.review_vocab_size = len(self.review_vocab)\n",
    "        self.label_vocab_size = len(self.label_vocab)\n",
    "        \n",
    "        # Create a dictionary of words in the vocabulary mapped to index positions\n",
    "        self.word2index = {}\n",
    "        for i,word in enumerate(review_vocab):\n",
    "            self.word2index[word]=i\n",
    "        # TODO: populate self.word2index with indices for all the words in self.review_vocab\n",
    "        #       like you saw earlier in the notebook\n",
    "        \n",
    "        # Create a dictionary of labels mapped to index positions\n",
    "        self.label2index = {}\n",
    "        for i,word in enumerate(label_vocab):\n",
    "            self.label2index[word]=i\n",
    "        # TODO: do the same thing you did for self.word2index and self.review_vocab, \n",
    "        #       but for self.label2index and self.label_vocab instead\n",
    "         \n",
    "        \n",
    "    def init_network(self, input_nodes, hidden_nodes, output_nodes, learning_rate):\n",
    "        # Store the number of nodes in input, hidden, and output layers.\n",
    "        self.input_nodes = input_nodes\n",
    "        self.hidden_nodes = hidden_nodes\n",
    "        self.output_nodes = output_nodes\n",
    "\n",
    "        # Store the learning rate\n",
    "        self.learning_rate = learning_rate\n",
    "\n",
    "        # Initialize weights\n",
    "        \n",
    "        # TODO: initialize self.weights_0_1 as a matrix of zeros. These are the weights between\n",
    "        #       the input layer and the hidden layer.\n",
    "        self.weights_0_1 = np.zeros((self.input_nodes,self.hidden_nodes))\n",
    "        \n",
    "        # TODO: initialize self.weights_1_2 as a matrix of random values. \n",
    "        #       These are the weights between the hidden layer and the output layer.\n",
    "        self.weights_1_2 = np.random.normal(0.0,self.output_nodes**-0.5,\n",
    "                                            (self.hidden_nodes,self.output_nodes))\n",
    "        \n",
    "        # TODO: Create the input layer, a two-dimensional matrix with shape \n",
    "        #       1 x input_nodes, with all values initialized to zero\n",
    "        self.layer_1 = np.zeros((1,self.hidden_nodes))\n",
    "    \n",
    "        \n",
    "    def update_input_layer(self,review):\n",
    "        # TODO: You can copy most of the code you wrote for update_input_layer \n",
    "        #       earlier in this notebook. \n",
    "        #\n",
    "        #       However, MAKE SURE YOU CHANGE ALL VARIABLES TO REFERENCE\n",
    "        #       THE VERSIONS STORED IN THIS OBJECT, NOT THE GLOBAL OBJECTS.\n",
    "        #       For example, replace \"layer_0 *= 0\" with \"self.layer_0 *= 0\"\n",
    "        # clear out previous state by resetting the layer to be all 0s\n",
    "        self.layer_0 *= 0\n",
    "        # TODO: count how many times each word is used in the given review and store the results in layer_0 \n",
    "        for word in review.split(' '):\n",
    "            if(word in self.word2index.keys()):\n",
    "                self.layer_0[0][self.word2index[word]]=1\n",
    "                \n",
    "    def get_target_for_label(self,label):\n",
    "        # TODO: Copy the code you wrote for get_target_for_label \n",
    "        #       earlier in this notebook. \n",
    "        if(label == 'POSITIVE'):\n",
    "            return 1\n",
    "        else:\n",
    "            return 0\n",
    "        \n",
    "    def sigmoid(self,x):\n",
    "        # TODO: Return the result of calculating the sigmoid activation function\n",
    "        #       shown in the lectures\n",
    "        return (1/ (1+np.exp(-x)) )\n",
    "    \n",
    "    def sigmoid_output_2_derivative(self,output):\n",
    "        # TODO: Return the derivative of the sigmoid activation function, \n",
    "        #       where \"output\" is the original output from the sigmoid fucntion \n",
    "        return output*(1-output)\n",
    "\n",
    "    def train(self, training_reviews_raw, training_labels):\n",
    "        \n",
    "        training_reviews=list()\n",
    "        for review in training_reviews_raw:\n",
    "            a=set()\n",
    "            for word in review.split(' '):\n",
    "                if(word in self.word2index.keys()):\n",
    "                    a.add(self.word2index[word])\n",
    "            training_reviews.append(list(a))\n",
    "        # make sure out we have a matching number of reviews and labels\n",
    "        assert(len(training_reviews) == len(training_labels))\n",
    "        \n",
    "        # Keep track of correct predictions to display accuracy during training \n",
    "        correct_so_far = 0\n",
    "        \n",
    "        # Remember when we started for printing time statistics\n",
    "        start = time.time()\n",
    "\n",
    "        # loop through all the given reviews and run a forward and backward pass,\n",
    "        # updating weights for every item\n",
    "        for i in range(len(training_reviews)):\n",
    "            \n",
    "            # TODO: Get the next review and its correct label\n",
    "            review=training_reviews[i]\n",
    "            label=training_labels[i]\n",
    "            \n",
    "            # TODO: Implement the forward pass through the network. \n",
    "            #       That means use the given review to update the input layer, \n",
    "            #       then calculate values for the hidden layer,\n",
    "            #       and finally calculate the output layer.\n",
    "            # \n",
    "            #       Do not use an activation function for the hidden layer,\n",
    "            #       but use the sigmoid activation function for the output layer.\n",
    "            self.layer_1*=0\n",
    "            for index in review:\n",
    "                self.layer_1+=self.weights_0_1[index]\n",
    "            label=self.get_target_for_label(label)\n",
    "            output=self.sigmoid(self.layer_1.dot(self.weights_1_2))\n",
    "            \n",
    "            # TODO: Implement the back propagation pass here. \n",
    "            #       That means calculate the error for the forward pass's prediction\n",
    "            #       and update the weights in the network according to their\n",
    "            #       contributions toward the error, as calculated via the\n",
    "            #       gradient descent and back propagation algorithms you \n",
    "            #       learned in class.\n",
    "            output_error=output-label\n",
    "            output_error_term = output_error*self.sigmoid_output_2_derivative(output)\n",
    "            hidden_error= output_error_term.dot(self.weights_1_2.T)\n",
    "            hidden_error_term= hidden_error\n",
    "            \n",
    "            for index in review:\n",
    "                self.weights_0_1[index] -= hidden_error[0]*self.learning_rate\n",
    "            \n",
    "            self.weights_1_2 -= self.learning_rate*self.layer_1.T.dot(output_error_term)\n",
    "            # TODO: Keep track of correct predictions. To determine if the prediction was\n",
    "            #       correct, check that the absolute value of the output error \n",
    "            #       is less than 0.5. If so, add one to the correct_so_far count.\n",
    "            if( np.abs(output_error)<0.5):\n",
    "                correct_so_far+=1\n",
    "            # For debug purposes, print out our prediction accuracy and speed \n",
    "            # throughout the training process. \n",
    "            \n",
    "            elapsed_time = float(time.time() - start)\n",
    "            reviews_per_second = i / elapsed_time if elapsed_time > 0 else 0\n",
    "            \n",
    "            if(i % 2500 == 0 or i == len(training_reviews)-1):\n",
    "                sys.stdout.write(\"\\rProgress:\" + str(100 * (i+1)/float(len(training_reviews)))[:4] \\\n",
    "                             + \"% Speed(reviews/sec):\" + str(reviews_per_second)[0:5] \\\n",
    "                             + \" #Correct:\" + str(correct_so_far) + \" #Trained:\" + str(i+1) \\\n",
    "                             + \" Training Accuracy:\" + str(correct_so_far * 100 / float(i+1))[:4] + \"%\")\n",
    "    \n",
    "    def test(self, testing_reviews, testing_labels):\n",
    "        \"\"\"\n",
    "        Attempts to predict the labels for the given testing_reviews,\n",
    "        and uses the test_labels to calculate the accuracy of those predictions.\n",
    "        \"\"\"\n",
    "        \n",
    "        # keep track of how many correct predictions we make\n",
    "        correct = 0\n",
    "\n",
    "        # we'll time how many predictions per second we make\n",
    "        start = time.time()\n",
    "\n",
    "        # Loop through each of the given reviews and call run to predict\n",
    "        # its label. \n",
    "        for i in range(len(testing_reviews)):\n",
    "            pred = self.run(testing_reviews[i])\n",
    "            if(pred == testing_labels[i]):\n",
    "                correct += 1\n",
    "            \n",
    "            # For debug purposes, print out our prediction accuracy and speed \n",
    "            # throughout the prediction process. \n",
    "\n",
    "            elapsed_time = float(time.time() - start)\n",
    "            reviews_per_second = i / elapsed_time if elapsed_time > 0 else 0\n",
    "            \n",
    "            if(i % 2500 == 0 or i == len(testing_reviews)-1):\n",
    "                sys.stdout.write(\"\\rProgress:\" + str(100 * (i+1)/float(len(testing_reviews)))[:4] \\\n",
    "                                 + \"% Speed(reviews/sec):\" + str(reviews_per_second)[0:5] \\\n",
    "                                 + \" #Correct:\" + str(correct) + \" #Tested:\" + str(i+1) \\\n",
    "                                 + \" Testing Accuracy:\" + str(correct * 100 / float(i+1))[:4] + \"%\")\n",
    "    \n",
    "    def run(self, review):\n",
    "        \"\"\"\n",
    "        Returns a POSITIVE or NEGATIVE prediction for the given review.\n",
    "        \"\"\"\n",
    "        # TODO: Run a forward pass through the network, like you did in the\n",
    "        #       \"train\" function. That means use the given review to \n",
    "        #       update the input layer, then calculate values for the hidden layer,\n",
    "        #       and finally calculate the output layer.\n",
    "        #\n",
    "        #       Note: The review passed into this function for prediction \n",
    "        #             might come from anywhere, so you should convert it \n",
    "        #             to lower case prior to using it.\n",
    "        \n",
    "        self.layer_1*=0\n",
    "        unique_indices=set()\n",
    "        for word in review.lower().split(\" \"):\n",
    "            if word in self.word2index.keys():\n",
    "                unique_indices.add(self.word2index[word])\n",
    "        for index in unique_indices:\n",
    "            self.layer_1+=self.weights_0_1[index]\n",
    "        output=self.sigmoid(self.layer_1.dot(self.weights_1_2))\n",
    "        if(output[0] > 0.5):\n",
    "            return \"POSITIVE\"\n",
    "        else:\n",
    "            return \"NEGATIVE\"\n",
    "        # TODO: The output layer should now contain a prediction. \n",
    "        #       Return `POSITIVE` for predictions greater-than-or-equal-to `0.5`, \n",
    "        #       and `NEGATIVE` otherwise."
   ]
  },
  {
   "cell_type": "code",
   "execution_count": 20,
   "metadata": {},
   "outputs": [],
   "source": [
    "mlp = SentimentNetwork(reviews[:-1000],labels[:-1000],min_count=20,polarity_cutoff=0.05,learning_rate=0.01)"
   ]
  },
  {
   "cell_type": "code",
   "execution_count": 21,
   "metadata": {},
   "outputs": [
    {
     "name": "stdout",
     "output_type": "stream",
     "text": [
      "Progress:100.% Speed(reviews/sec):1436. #Correct:20461 #Trained:24000 Training Accuracy:85.2%"
     ]
    }
   ],
   "source": [
    "mlp.train(reviews[:-1000],labels[:-1000])"
   ]
  },
  {
   "cell_type": "code",
   "execution_count": 22,
   "metadata": {},
   "outputs": [
    {
     "name": "stdout",
     "output_type": "stream",
     "text": [
      "Progress:100.% Speed(reviews/sec):2179. #Correct:859 #Tested:1000 Testing Accuracy:85.9%"
     ]
    }
   ],
   "source": [
    "mlp.test(reviews[-1000:],labels[-1000:])"
   ]
  },
  {
   "cell_type": "code",
   "execution_count": 23,
   "metadata": {},
   "outputs": [],
   "source": [
    "mlp = SentimentNetwork(reviews[:-1000],labels[:-1000],min_count=20,polarity_cutoff=0.8,learning_rate=0.01)"
   ]
  },
  {
   "cell_type": "code",
   "execution_count": 24,
   "metadata": {},
   "outputs": [
    {
     "name": "stdout",
     "output_type": "stream",
     "text": [
      "Progress:100.% Speed(reviews/sec):8768. #Correct:20503 #Trained:24000 Training Accuracy:85.4%"
     ]
    }
   ],
   "source": [
    "mlp.train(reviews[:-1000],labels[:-1000])"
   ]
  },
  {
   "cell_type": "code",
   "execution_count": 25,
   "metadata": {},
   "outputs": [
    {
     "name": "stdout",
     "output_type": "stream",
     "text": [
      "Progress:100.% Speed(reviews/sec):4212. #Correct:822 #Tested:1000 Testing Accuracy:82.2%"
     ]
    }
   ],
   "source": [
    "mlp.test(reviews[-1000:],labels[-1000:])"
   ]
  },
  {
   "cell_type": "code",
   "execution_count": 26,
   "metadata": {},
   "outputs": [],
   "source": [
    "mlp = SentimentNetwork(reviews[:-1000],labels[:-1000],min_count=20,polarity_cutoff=0.5,learning_rate=0.01)"
   ]
  },
  {
   "cell_type": "code",
   "execution_count": 27,
   "metadata": {},
   "outputs": [
    {
     "name": "stdout",
     "output_type": "stream",
     "text": [
      "Progress:100.% Speed(reviews/sec):5337. #Correct:20870 #Trained:24000 Training Accuracy:86.9%"
     ]
    }
   ],
   "source": [
    "mlp.train(reviews[:-1000],labels[:-1000])"
   ]
  },
  {
   "cell_type": "code",
   "execution_count": 28,
   "metadata": {},
   "outputs": [
    {
     "name": "stdout",
     "output_type": "stream",
     "text": [
      "Progress:100.% Speed(reviews/sec):4248. #Correct:840 #Tested:1000 Testing Accuracy:84.0%"
     ]
    }
   ],
   "source": [
    "mlp.test(reviews[-1000:],labels[-1000:])"
   ]
  },
  {
   "cell_type": "code",
   "execution_count": 29,
   "metadata": {},
   "outputs": [],
   "source": [
    "# Analysing the weights of neural network"
   ]
  },
  {
   "cell_type": "code",
   "execution_count": 30,
   "metadata": {},
   "outputs": [],
   "source": [
    "mlp_full = SentimentNetwork(reviews[:-1000],labels[:-1000],min_count=0,polarity_cutoff=0,learning_rate=0.01)"
   ]
  },
  {
   "cell_type": "code",
   "execution_count": 31,
   "metadata": {},
   "outputs": [
    {
     "name": "stdout",
     "output_type": "stream",
     "text": [
      "Progress:100.% Speed(reviews/sec):1192. #Correct:20334 #Trained:24000 Training Accuracy:84.7%"
     ]
    }
   ],
   "source": [
    "mlp_full.train(reviews[:-1000],labels[:-1000])"
   ]
  },
  {
   "cell_type": "code",
   "execution_count": 32,
   "metadata": {},
   "outputs": [],
   "source": [
    "def get_most_similar_words(focus = \"horrible\"):\n",
    "    most_similar = Counter()\n",
    "\n",
    "    for word in mlp_full.word2index.keys():\n",
    "        most_similar[word] = np.dot(mlp_full.weights_0_1[mlp_full.word2index[word]],mlp_full.weights_0_1[mlp_full.word2index[focus]])\n",
    "    \n",
    "    return most_similar.most_common()"
   ]
  },
  {
   "cell_type": "code",
   "execution_count": 33,
   "metadata": {},
   "outputs": [
    {
     "data": {
      "text/plain": [
       "[('perfect', 0.12548286087225946),\n",
       " ('amazing', 0.091827633925999727),\n",
       " ('today', 0.090223662694414203),\n",
       " ('wonderful', 0.089355976962214603),\n",
       " ('fun', 0.08750446667420686),\n",
       " ('great', 0.087141758882292059),\n",
       " ('best', 0.085810885617880611),\n",
       " ('liked', 0.07769762912384344),\n",
       " ('definitely', 0.076628781406966023),\n",
       " ('brilliant', 0.073423858769279052),\n",
       " ('loved', 0.073285428928122148),\n",
       " ('favorite', 0.072781136036160793),\n",
       " ('superb', 0.071736207178505054),\n",
       " ('fantastic', 0.070922191916266197),\n",
       " ('job', 0.069160617207634056),\n",
       " ('incredible', 0.066424077952614416),\n",
       " ('enjoyable', 0.06563256050288882),\n",
       " ('rare', 0.064819212662615089),\n",
       " ('highly', 0.063889453350970515)]"
      ]
     },
     "execution_count": 33,
     "metadata": {},
     "output_type": "execute_result"
    }
   ],
   "source": [
    "get_most_similar_words(\"excellent\")[1:20]"
   ]
  },
  {
   "cell_type": "code",
   "execution_count": 34,
   "metadata": {},
   "outputs": [
    {
     "data": {
      "text/plain": [
       "[('awful', 0.12026847019691246),\n",
       " ('waste', 0.11945367265311002),\n",
       " ('poor', 0.092758887574435497),\n",
       " ('terrible', 0.091425387197727942),\n",
       " ('dull', 0.084209271678223591),\n",
       " ('poorly', 0.081241544516042041),\n",
       " ('disappointment', 0.080064759621368692),\n",
       " ('fails', 0.078599773723337527),\n",
       " ('disappointing', 0.07733948548032335),\n",
       " ('boring', 0.077127858748012867),\n",
       " ('unfortunately', 0.075502449705859065),\n",
       " ('worse', 0.070601835364194648),\n",
       " ('mess', 0.070564299623590399),\n",
       " ('stupid', 0.069484822832543022),\n",
       " ('badly', 0.066888903666228558),\n",
       " ('annoying', 0.065687021903374138),\n",
       " ('bad', 0.063093814537572138),\n",
       " ('save', 0.062880597495865748),\n",
       " ('disappointed', 0.062692353812072887)]"
      ]
     },
     "execution_count": 34,
     "metadata": {},
     "output_type": "execute_result"
    }
   ],
   "source": [
    "get_most_similar_words(\"terrible\")[1:20]"
   ]
  },
  {
   "cell_type": "code",
   "execution_count": 35,
   "metadata": {},
   "outputs": [],
   "source": [
    "import matplotlib.colors as colors\n",
    "\n",
    "words_to_visualize = list()\n",
    "for word, ratio in pos_neg_ratios.most_common(500):\n",
    "    if(word in mlp_full.word2index.keys()):\n",
    "        words_to_visualize.append(word)\n",
    "    \n",
    "for word, ratio in list(reversed(pos_neg_ratios.most_common()))[0:500]:\n",
    "    if(word in mlp_full.word2index.keys()):\n",
    "        words_to_visualize.append(word)"
   ]
  },
  {
   "cell_type": "code",
   "execution_count": 36,
   "metadata": {},
   "outputs": [],
   "source": [
    "pos = 0\n",
    "neg = 0\n",
    "\n",
    "colors_list = list()\n",
    "vectors_list = list()\n",
    "for word in words_to_visualize:\n",
    "    if word in pos_neg_ratios.keys():\n",
    "        vectors_list.append(mlp_full.weights_0_1[mlp_full.word2index[word]])\n",
    "        if(pos_neg_ratios[word] > 0.5):\n",
    "            pos+=1\n",
    "            colors_list.append(\"#00ff00\")\n",
    "        else:\n",
    "            neg+=1\n",
    "            colors_list.append(\"#000000\")"
   ]
  },
  {
   "cell_type": "code",
   "execution_count": 37,
   "metadata": {},
   "outputs": [],
   "source": [
    "from sklearn.manifold import TSNE\n",
    "tsne = TSNE(n_components=2, random_state=0)\n",
    "words_top_ted_tsne = tsne.fit_transform(vectors_list)"
   ]
  },
  {
   "cell_type": "code",
   "execution_count": 38,
   "metadata": {},
   "outputs": [
    {
     "data": {
      "text/html": [
       "\n",
       "<div class=\"bk-root\">\n",
       "    <div class=\"bk-plotdiv\" id=\"63a9f0ab-b311-4015-8082-ef5c537f4c6e\"></div>\n",
       "</div>"
      ]
     },
     "metadata": {},
     "output_type": "display_data"
    },
    {
     "data": {
      "application/javascript": [
       "(function(root) {\n",
       "  function embed_document(root) {\n",
       "    \n",
       "  var docs_json = {\"2f56b270-767f-4391-bb09-0896736bfc97\":{\"roots\":{\"references\":[{\"attributes\":{\"plot\":null,\"text\":\"vector T-SNE for most polarized words\"},\"id\":\"b74aee66-a5a1-4745-88d3-7f5cd3eea5db\",\"type\":\"Title\"},{\"attributes\":{},\"id\":\"2fd2338c-c72a-4f43-8d22-601242e66bc8\",\"type\":\"ResetTool\"},{\"attributes\":{},\"id\":\"d706403c-ec49-43e2-a8dd-3bd188af11fc\",\"type\":\"BasicTickFormatter\"},{\"attributes\":{\"plot\":{\"id\":\"f2ecdb6a-4210-4636-949f-68f9a0337b3d\",\"subtype\":\"Figure\",\"type\":\"Plot\"},\"source\":{\"id\":\"1cced7cd-0d73-466b-a159-027abd4921c1\",\"type\":\"ColumnDataSource\"},\"text\":{\"field\":\"names\"},\"text_align\":\"center\",\"text_color\":{\"value\":\"#555555\"},\"text_font_size\":{\"value\":\"8pt\"},\"x\":{\"field\":\"x1\"},\"y\":{\"field\":\"x2\"},\"y_offset\":{\"value\":6}},\"id\":\"8d4dd218-96b0-4451-a5f7-8d50fe393bac\",\"type\":\"LabelSet\"},{\"attributes\":{},\"id\":\"ecfb28b6-2d70-4041-a531-522ccf8a5079\",\"type\":\"LinearScale\"},{\"attributes\":{\"active_drag\":\"auto\",\"active_inspect\":\"auto\",\"active_scroll\":\"auto\",\"active_tap\":\"auto\",\"tools\":[{\"id\":\"f55f9906-ada7-4c8c-a1dd-d49dbcd564cd\",\"type\":\"PanTool\"},{\"id\":\"0a8bff6b-50ba-4030-b97d-d3c2c90da789\",\"type\":\"WheelZoomTool\"},{\"id\":\"2fd2338c-c72a-4f43-8d22-601242e66bc8\",\"type\":\"ResetTool\"},{\"id\":\"76c5f46f-9d9a-4bdc-8f22-3535d190aa0c\",\"type\":\"SaveTool\"}]},\"id\":\"9b083b18-7a8e-4fe1-a312-7a3efa156091\",\"type\":\"Toolbar\"},{\"attributes\":{\"fill_alpha\":{\"value\":0.1},\"fill_color\":{\"value\":\"#1f77b4\"},\"line_alpha\":{\"value\":0.1},\"line_color\":{\"value\":\"#1f77b4\"},\"size\":{\"units\":\"screen\",\"value\":8},\"x\":{\"field\":\"x1\"},\"y\":{\"field\":\"x2\"}},\"id\":\"25ff6114-0e62-4b0f-88fc-bd419b31079a\",\"type\":\"Circle\"},{\"attributes\":{\"formatter\":{\"id\":\"d706403c-ec49-43e2-a8dd-3bd188af11fc\",\"type\":\"BasicTickFormatter\"},\"plot\":{\"id\":\"f2ecdb6a-4210-4636-949f-68f9a0337b3d\",\"subtype\":\"Figure\",\"type\":\"Plot\"},\"ticker\":{\"id\":\"b508a97f-5ca4-4281-aa05-a42a5f3962a6\",\"type\":\"BasicTicker\"}},\"id\":\"668d2452-77db-4a15-8748-ead5dabf6c8c\",\"type\":\"LinearAxis\"},{\"attributes\":{},\"id\":\"18c966dc-bd1e-4046-9583-29e2d951c5ca\",\"type\":\"LinearScale\"},{\"attributes\":{\"dimension\":1,\"plot\":{\"id\":\"f2ecdb6a-4210-4636-949f-68f9a0337b3d\",\"subtype\":\"Figure\",\"type\":\"Plot\"},\"ticker\":{\"id\":\"40337ad4-88c8-4e1e-b10c-b896d2a3a5cd\",\"type\":\"BasicTicker\"}},\"id\":\"71c58baa-0415-4307-965f-3e5d6c4067ac\",\"type\":\"Grid\"},{\"attributes\":{},\"id\":\"4dd60c06-90fd-47ea-b837-f240e12a369f\",\"type\":\"BasicTickFormatter\"},{\"attributes\":{\"callback\":null},\"id\":\"154a9550-9bac-49b7-a2cf-14877ab84be6\",\"type\":\"DataRange1d\"},{\"attributes\":{\"plot\":{\"id\":\"f2ecdb6a-4210-4636-949f-68f9a0337b3d\",\"subtype\":\"Figure\",\"type\":\"Plot\"},\"ticker\":{\"id\":\"b508a97f-5ca4-4281-aa05-a42a5f3962a6\",\"type\":\"BasicTicker\"}},\"id\":\"3597b86a-aa3d-4d4a-9a46-e651526baf7c\",\"type\":\"Grid\"},{\"attributes\":{\"source\":{\"id\":\"1cced7cd-0d73-466b-a159-027abd4921c1\",\"type\":\"ColumnDataSource\"}},\"id\":\"1164f496-5368-4cfd-bc6c-ed452d637279\",\"type\":\"CDSView\"},{\"attributes\":{\"callback\":null,\"column_names\":[\"x2\",\"color\",\"x1\",\"names\"],\"data\":{\"color\":[\"#00ff00\",\"#00ff00\",\"#00ff00\",\"#00ff00\",\"#00ff00\",\"#00ff00\",\"#00ff00\",\"#00ff00\",\"#00ff00\",\"#00ff00\",\"#00ff00\",\"#00ff00\",\"#00ff00\",\"#00ff00\",\"#00ff00\",\"#00ff00\",\"#00ff00\",\"#00ff00\",\"#00ff00\",\"#00ff00\",\"#00ff00\",\"#00ff00\",\"#00ff00\",\"#00ff00\",\"#00ff00\",\"#00ff00\",\"#00ff00\",\"#00ff00\",\"#00ff00\",\"#00ff00\",\"#00ff00\",\"#00ff00\",\"#00ff00\",\"#00ff00\",\"#00ff00\",\"#00ff00\",\"#00ff00\",\"#00ff00\",\"#00ff00\",\"#00ff00\",\"#00ff00\",\"#00ff00\",\"#00ff00\",\"#00ff00\",\"#00ff00\",\"#00ff00\",\"#00ff00\",\"#00ff00\",\"#00ff00\",\"#00ff00\",\"#00ff00\",\"#00ff00\",\"#00ff00\",\"#00ff00\",\"#00ff00\",\"#00ff00\",\"#00ff00\",\"#00ff00\",\"#00ff00\",\"#00ff00\",\"#00ff00\",\"#00ff00\",\"#00ff00\",\"#00ff00\",\"#00ff00\",\"#00ff00\",\"#00ff00\",\"#00ff00\",\"#00ff00\",\"#00ff00\",\"#00ff00\",\"#00ff00\",\"#00ff00\",\"#00ff00\",\"#00ff00\",\"#00ff00\",\"#00ff00\",\"#00ff00\",\"#00ff00\",\"#00ff00\",\"#00ff00\",\"#00ff00\",\"#00ff00\",\"#00ff00\",\"#00ff00\",\"#00ff00\",\"#00ff00\",\"#00ff00\",\"#00ff00\",\"#00ff00\",\"#00ff00\",\"#00ff00\",\"#00ff00\",\"#00ff00\",\"#00ff00\",\"#00ff00\",\"#00ff00\",\"#00ff00\",\"#00ff00\",\"#00ff00\",\"#00ff00\",\"#00ff00\",\"#00ff00\",\"#00ff00\",\"#00ff00\",\"#00ff00\",\"#00ff00\",\"#00ff00\",\"#00ff00\",\"#00ff00\",\"#00ff00\",\"#00ff00\",\"#00ff00\",\"#00ff00\",\"#00ff00\",\"#00ff00\",\"#00ff00\",\"#00ff00\",\"#00ff00\",\"#00ff00\",\"#00ff00\",\"#00ff00\",\"#00ff00\",\"#00ff00\",\"#00ff00\",\"#00ff00\",\"#00ff00\",\"#00ff00\",\"#00ff00\",\"#00ff00\",\"#00ff00\",\"#00ff00\",\"#00ff00\",\"#00ff00\",\"#00ff00\",\"#00ff00\",\"#00ff00\",\"#00ff00\",\"#00ff00\",\"#00ff00\",\"#00ff00\",\"#00ff00\",\"#00ff00\",\"#00ff00\",\"#00ff00\",\"#00ff00\",\"#00ff00\",\"#00ff00\",\"#00ff00\",\"#00ff00\",\"#00ff00\",\"#00ff00\",\"#00ff00\",\"#00ff00\",\"#00ff00\",\"#00ff00\",\"#00ff00\",\"#00ff00\",\"#00ff00\",\"#00ff00\",\"#00ff00\",\"#00ff00\",\"#00ff00\",\"#00ff00\",\"#00ff00\",\"#00ff00\",\"#00ff00\",\"#00ff00\",\"#00ff00\",\"#00ff00\",\"#00ff00\",\"#00ff00\",\"#00ff00\",\"#00ff00\",\"#00ff00\",\"#00ff00\",\"#00ff00\",\"#00ff00\",\"#00ff00\",\"#00ff00\",\"#00ff00\",\"#00ff00\",\"#00ff00\",\"#00ff00\",\"#00ff00\",\"#00ff00\",\"#00ff00\",\"#00ff00\",\"#00ff00\",\"#00ff00\",\"#00ff00\",\"#00ff00\",\"#00ff00\",\"#00ff00\",\"#00ff00\",\"#00ff00\",\"#00ff00\",\"#00ff00\",\"#00ff00\",\"#00ff00\",\"#00ff00\",\"#00ff00\",\"#00ff00\",\"#00ff00\",\"#00ff00\",\"#00ff00\",\"#00ff00\",\"#00ff00\",\"#00ff00\",\"#00ff00\",\"#00ff00\",\"#00ff00\",\"#00ff00\",\"#00ff00\",\"#00ff00\",\"#00ff00\",\"#00ff00\",\"#00ff00\",\"#00ff00\",\"#00ff00\",\"#00ff00\",\"#00ff00\",\"#00ff00\",\"#00ff00\",\"#00ff00\",\"#00ff00\",\"#00ff00\",\"#00ff00\",\"#00ff00\",\"#00ff00\",\"#00ff00\",\"#00ff00\",\"#00ff00\",\"#00ff00\",\"#00ff00\",\"#00ff00\",\"#00ff00\",\"#00ff00\",\"#00ff00\",\"#00ff00\",\"#00ff00\",\"#00ff00\",\"#00ff00\",\"#00ff00\",\"#00ff00\",\"#00ff00\",\"#00ff00\",\"#00ff00\",\"#00ff00\",\"#00ff00\",\"#00ff00\",\"#00ff00\",\"#00ff00\",\"#00ff00\",\"#00ff00\",\"#00ff00\",\"#00ff00\",\"#00ff00\",\"#00ff00\",\"#00ff00\",\"#00ff00\",\"#00ff00\",\"#00ff00\",\"#00ff00\",\"#00ff00\",\"#00ff00\",\"#00ff00\",\"#00ff00\",\"#00ff00\",\"#00ff00\",\"#00ff00\",\"#00ff00\",\"#00ff00\",\"#00ff00\",\"#00ff00\",\"#00ff00\",\"#00ff00\",\"#00ff00\",\"#00ff00\",\"#00ff00\",\"#00ff00\",\"#00ff00\",\"#00ff00\",\"#00ff00\",\"#00ff00\",\"#00ff00\",\"#00ff00\",\"#00ff00\",\"#00ff00\",\"#00ff00\",\"#00ff00\",\"#00ff00\",\"#00ff00\",\"#00ff00\",\"#00ff00\",\"#00ff00\",\"#00ff00\",\"#00ff00\",\"#00ff00\",\"#00ff00\",\"#00ff00\",\"#00ff00\",\"#00ff00\",\"#00ff00\",\"#00ff00\",\"#00ff00\",\"#00ff00\",\"#00ff00\",\"#00ff00\",\"#00ff00\",\"#00ff00\",\"#00ff00\",\"#00ff00\",\"#00ff00\",\"#00ff00\",\"#00ff00\",\"#00ff00\",\"#00ff00\",\"#00ff00\",\"#00ff00\",\"#00ff00\",\"#00ff00\",\"#00ff00\",\"#00ff00\",\"#00ff00\",\"#00ff00\",\"#00ff00\",\"#00ff00\",\"#00ff00\",\"#00ff00\",\"#00ff00\",\"#00ff00\",\"#00ff00\",\"#00ff00\",\"#00ff00\",\"#00ff00\",\"#00ff00\",\"#00ff00\",\"#00ff00\",\"#00ff00\",\"#00ff00\",\"#00ff00\",\"#00ff00\",\"#00ff00\",\"#00ff00\",\"#00ff00\",\"#00ff00\",\"#00ff00\",\"#00ff00\",\"#00ff00\",\"#00ff00\",\"#00ff00\",\"#00ff00\",\"#00ff00\",\"#00ff00\",\"#00ff00\",\"#00ff00\",\"#00ff00\",\"#00ff00\",\"#00ff00\",\"#00ff00\",\"#00ff00\",\"#00ff00\",\"#00ff00\",\"#00ff00\",\"#00ff00\",\"#00ff00\",\"#00ff00\",\"#00ff00\",\"#00ff00\",\"#00ff00\",\"#00ff00\",\"#00ff00\",\"#00ff00\",\"#00ff00\",\"#00ff00\",\"#00ff00\",\"#00ff00\",\"#00ff00\",\"#00ff00\",\"#00ff00\",\"#00ff00\",\"#00ff00\",\"#00ff00\",\"#00ff00\",\"#00ff00\",\"#00ff00\",\"#00ff00\",\"#00ff00\",\"#00ff00\",\"#00ff00\",\"#00ff00\",\"#00ff00\",\"#00ff00\",\"#00ff00\",\"#00ff00\",\"#00ff00\",\"#00ff00\",\"#00ff00\",\"#00ff00\",\"#00ff00\",\"#00ff00\",\"#00ff00\",\"#00ff00\",\"#00ff00\",\"#00ff00\",\"#00ff00\",\"#00ff00\",\"#00ff00\",\"#00ff00\",\"#00ff00\",\"#00ff00\",\"#00ff00\",\"#00ff00\",\"#00ff00\",\"#00ff00\",\"#00ff00\",\"#00ff00\",\"#00ff00\",\"#00ff00\",\"#00ff00\",\"#00ff00\",\"#00ff00\",\"#00ff00\",\"#00ff00\",\"#00ff00\",\"#00ff00\",\"#00ff00\",\"#00ff00\",\"#00ff00\",\"#00ff00\",\"#00ff00\",\"#00ff00\",\"#00ff00\",\"#00ff00\",\"#00ff00\",\"#00ff00\",\"#00ff00\",\"#00ff00\",\"#00ff00\",\"#00ff00\",\"#00ff00\",\"#00ff00\",\"#00ff00\",\"#00ff00\",\"#00ff00\",\"#00ff00\",\"#00ff00\",\"#00ff00\",\"#00ff00\",\"#00ff00\",\"#00ff00\",\"#00ff00\",\"#00ff00\",\"#00ff00\",\"#00ff00\",\"#00ff00\",\"#00ff00\",\"#00ff00\",\"#00ff00\",\"#00ff00\",\"#00ff00\",\"#00ff00\",\"#00ff00\",\"#00ff00\",\"#00ff00\",\"#00ff00\",\"#00ff00\",\"#00ff00\",\"#00ff00\",\"#00ff00\",\"#00ff00\",\"#00ff00\",\"#00ff00\",\"#00ff00\",\"#00ff00\",\"#00ff00\",\"#00ff00\",\"#00ff00\",\"#00ff00\",\"#00ff00\",\"#00ff00\",\"#00ff00\",\"#00ff00\",\"#00ff00\",\"#00ff00\",\"#00ff00\",\"#00ff00\",\"#00ff00\",\"#00ff00\",\"#00ff00\",\"#00ff00\",\"#00ff00\",\"#00ff00\",\"#00ff00\",\"#00ff00\",\"#00ff00\",\"#00ff00\",\"#00ff00\",\"#00ff00\",\"#000000\",\"#000000\",\"#000000\",\"#000000\",\"#000000\",\"#000000\",\"#000000\",\"#000000\",\"#000000\",\"#000000\",\"#000000\",\"#000000\",\"#000000\",\"#000000\",\"#000000\",\"#000000\",\"#000000\",\"#000000\",\"#000000\",\"#000000\",\"#000000\",\"#000000\",\"#000000\",\"#000000\",\"#000000\",\"#000000\",\"#000000\",\"#000000\",\"#000000\",\"#000000\",\"#000000\",\"#000000\",\"#000000\",\"#000000\",\"#000000\",\"#000000\",\"#000000\",\"#000000\",\"#000000\",\"#000000\",\"#000000\",\"#000000\",\"#000000\",\"#000000\",\"#000000\",\"#000000\",\"#000000\",\"#000000\",\"#000000\",\"#000000\",\"#000000\",\"#000000\",\"#000000\",\"#000000\",\"#000000\",\"#000000\",\"#000000\",\"#000000\",\"#000000\",\"#000000\",\"#000000\",\"#000000\",\"#000000\",\"#000000\",\"#000000\",\"#000000\",\"#000000\",\"#000000\",\"#000000\",\"#000000\",\"#000000\",\"#000000\",\"#000000\",\"#000000\",\"#000000\",\"#000000\",\"#000000\",\"#000000\",\"#000000\",\"#000000\",\"#000000\",\"#000000\",\"#000000\",\"#000000\",\"#000000\",\"#000000\",\"#000000\",\"#000000\",\"#000000\",\"#000000\",\"#000000\",\"#000000\",\"#000000\",\"#000000\",\"#000000\",\"#000000\",\"#000000\",\"#000000\",\"#000000\",\"#000000\",\"#000000\",\"#000000\",\"#000000\",\"#000000\",\"#000000\",\"#000000\",\"#000000\",\"#000000\",\"#000000\",\"#000000\",\"#000000\",\"#000000\",\"#000000\",\"#000000\",\"#000000\",\"#000000\",\"#000000\",\"#000000\",\"#000000\",\"#000000\",\"#000000\",\"#000000\",\"#000000\",\"#000000\",\"#000000\",\"#000000\",\"#000000\",\"#000000\",\"#000000\",\"#000000\",\"#000000\",\"#000000\",\"#000000\",\"#000000\",\"#000000\",\"#000000\",\"#000000\",\"#000000\",\"#000000\",\"#000000\",\"#000000\",\"#000000\",\"#000000\",\"#000000\",\"#000000\",\"#000000\",\"#000000\",\"#000000\",\"#000000\",\"#000000\",\"#000000\",\"#000000\",\"#000000\",\"#000000\",\"#000000\",\"#000000\",\"#000000\",\"#000000\",\"#000000\",\"#000000\",\"#000000\",\"#000000\",\"#000000\",\"#000000\",\"#000000\",\"#000000\",\"#000000\",\"#000000\",\"#000000\",\"#000000\",\"#000000\",\"#000000\",\"#000000\",\"#000000\",\"#000000\",\"#000000\",\"#000000\",\"#000000\",\"#000000\",\"#000000\",\"#000000\",\"#000000\",\"#000000\",\"#000000\",\"#000000\",\"#000000\",\"#000000\",\"#000000\",\"#000000\",\"#000000\",\"#000000\",\"#000000\",\"#000000\",\"#000000\",\"#000000\",\"#000000\",\"#000000\",\"#000000\",\"#000000\",\"#000000\",\"#000000\",\"#000000\",\"#000000\",\"#000000\",\"#000000\",\"#000000\",\"#000000\",\"#000000\",\"#000000\",\"#000000\",\"#000000\",\"#000000\",\"#000000\",\"#000000\",\"#000000\",\"#000000\",\"#000000\",\"#000000\",\"#000000\",\"#000000\",\"#000000\",\"#000000\",\"#000000\",\"#000000\",\"#000000\",\"#000000\",\"#000000\",\"#000000\",\"#000000\",\"#000000\",\"#000000\",\"#000000\",\"#000000\",\"#000000\",\"#000000\",\"#000000\",\"#000000\",\"#000000\",\"#000000\",\"#000000\",\"#000000\",\"#000000\",\"#000000\",\"#000000\",\"#000000\",\"#000000\",\"#000000\",\"#000000\",\"#000000\",\"#000000\",\"#000000\",\"#000000\",\"#000000\",\"#000000\",\"#000000\",\"#000000\",\"#000000\",\"#000000\",\"#000000\",\"#000000\",\"#000000\",\"#000000\",\"#000000\",\"#000000\",\"#000000\",\"#000000\",\"#000000\",\"#000000\",\"#000000\",\"#000000\",\"#000000\",\"#000000\",\"#000000\",\"#000000\",\"#000000\",\"#000000\",\"#000000\",\"#000000\",\"#000000\",\"#000000\",\"#000000\",\"#000000\",\"#000000\",\"#000000\",\"#000000\",\"#000000\",\"#000000\",\"#000000\",\"#000000\",\"#000000\",\"#000000\",\"#000000\",\"#000000\",\"#000000\",\"#000000\",\"#000000\",\"#000000\",\"#000000\",\"#000000\",\"#000000\",\"#000000\",\"#000000\",\"#000000\",\"#000000\",\"#000000\",\"#000000\",\"#000000\",\"#000000\",\"#000000\",\"#000000\",\"#000000\",\"#000000\",\"#000000\",\"#000000\",\"#000000\",\"#000000\",\"#000000\",\"#000000\",\"#000000\",\"#000000\",\"#000000\",\"#000000\",\"#000000\",\"#000000\",\"#000000\",\"#000000\",\"#000000\",\"#000000\",\"#000000\",\"#000000\",\"#000000\",\"#000000\",\"#000000\",\"#000000\",\"#000000\",\"#000000\",\"#000000\",\"#000000\",\"#000000\",\"#000000\",\"#000000\",\"#000000\",\"#000000\",\"#000000\",\"#000000\",\"#000000\",\"#000000\",\"#000000\",\"#000000\",\"#000000\",\"#000000\",\"#000000\",\"#000000\",\"#000000\",\"#000000\",\"#000000\",\"#000000\",\"#000000\",\"#000000\",\"#000000\",\"#000000\",\"#000000\",\"#000000\",\"#000000\",\"#000000\",\"#000000\",\"#000000\",\"#000000\",\"#000000\",\"#000000\",\"#000000\",\"#000000\",\"#000000\",\"#000000\",\"#000000\",\"#000000\",\"#000000\",\"#000000\",\"#000000\",\"#000000\",\"#000000\",\"#000000\",\"#000000\",\"#000000\",\"#000000\",\"#000000\",\"#000000\",\"#000000\",\"#000000\",\"#000000\",\"#000000\",\"#000000\",\"#000000\",\"#000000\",\"#000000\",\"#000000\",\"#000000\",\"#000000\",\"#000000\",\"#000000\",\"#000000\",\"#000000\",\"#000000\",\"#000000\",\"#000000\",\"#000000\",\"#000000\",\"#000000\",\"#000000\",\"#000000\",\"#000000\",\"#000000\",\"#000000\",\"#000000\",\"#000000\",\"#000000\",\"#000000\",\"#000000\",\"#000000\",\"#000000\",\"#000000\",\"#000000\",\"#000000\",\"#000000\",\"#000000\",\"#000000\",\"#000000\",\"#000000\",\"#000000\",\"#000000\",\"#000000\",\"#000000\",\"#000000\",\"#000000\",\"#000000\",\"#000000\",\"#000000\",\"#000000\",\"#000000\",\"#000000\",\"#000000\",\"#000000\",\"#000000\",\"#000000\",\"#000000\",\"#000000\",\"#000000\",\"#000000\",\"#000000\",\"#000000\",\"#000000\",\"#000000\",\"#000000\",\"#000000\",\"#000000\",\"#000000\",\"#000000\",\"#000000\",\"#000000\",\"#000000\",\"#000000\",\"#000000\",\"#000000\",\"#000000\",\"#000000\",\"#000000\",\"#000000\",\"#000000\",\"#000000\",\"#000000\",\"#000000\",\"#000000\",\"#000000\",\"#000000\",\"#000000\",\"#000000\",\"#000000\",\"#000000\",\"#000000\",\"#000000\",\"#000000\",\"#000000\",\"#000000\",\"#000000\",\"#000000\",\"#000000\",\"#000000\",\"#000000\",\"#000000\",\"#000000\",\"#000000\",\"#000000\",\"#000000\",\"#000000\",\"#000000\",\"#000000\",\"#000000\",\"#000000\",\"#000000\",\"#000000\"],\"names\":[\"edie\",\"gundam\",\"antwone\",\"din\",\"gunga\",\"goldsworthy\",\"gypo\",\"flavia\",\"visconti\",\"felix\",\"iturbi\",\"capote\",\"fido\",\"victoria\",\"excellently\",\"vance\",\"kolchak\",\"hayworth\",\"deanna\",\"sammo\",\"soylent\",\"sox\",\"laputa\",\"biko\",\"matthau\",\"polanski\",\"gilliam\",\"chavez\",\"ratso\",\"harriet\",\"ultimatum\",\"mildred\",\"alvin\",\"mclaglen\",\"corbett\",\"gandhi\",\"sirk\",\"creasy\",\"chamberlain\",\"braveheart\",\"kazan\",\"mccoy\",\"othello\",\"novak\",\"christy\",\"cheadle\",\"flawless\",\"ramones\",\"fuller\",\"tenant\",\"cal\",\"winchester\",\"georges\",\"colman\",\"haines\",\"rea\",\"carla\",\"preminger\",\"sabrina\",\"peters\",\"northam\",\"walsh\",\"superbly\",\"kinnear\",\"nina\",\"masterson\",\"perfection\",\"raines\",\"zorro\",\"rukh\",\"cypher\",\"astaire\",\"trier\",\"dixon\",\"wang\",\"malone\",\"lemmon\",\"captures\",\"wonderfully\",\"hawke\",\"mol\",\"edith\",\"pickford\",\"scoop\",\"voight\",\"chess\",\"dandy\",\"powell\",\"miyazaki\",\"heartbreaking\",\"brosnan\",\"masterful\",\"sg\",\"sunrise\",\"truman\",\"bakshi\",\"technicolor\",\"europa\",\"lincoln\",\"darren\",\"expertly\",\"ritter\",\"lang\",\"tomei\",\"delightful\",\"greene\",\"carell\",\"montana\",\"bourne\",\"refreshing\",\"andrews\",\"lumet\",\"steele\",\"flynn\",\"explores\",\"gripping\",\"breathtaking\",\"homer\",\"ira\",\"soccer\",\"underrated\",\"beautifully\",\"elvira\",\"sadness\",\"kidman\",\"palma\",\"extraordinary\",\"sopranos\",\"superb\",\"lily\",\"watson\",\"affection\",\"guinness\",\"loy\",\"deliverance\",\"paula\",\"dustin\",\"delight\",\"reeve\",\"favorites\",\"welles\",\"tierney\",\"ae\",\"kline\",\"timeless\",\"sinatra\",\"gershwin\",\"longing\",\"friendship\",\"unforgettable\",\"touching\",\"macy\",\"jackie\",\"stewart\",\"sullivan\",\"wrenching\",\"brilliantly\",\"elliott\",\"hartley\",\"gielgud\",\"kurosawa\",\"conveys\",\"clara\",\"einstein\",\"boyer\",\"iran\",\"grayson\",\"nathan\",\"tremendous\",\"magnificent\",\"freedom\",\"wonderful\",\"hoffman\",\"dickens\",\"shanghai\",\"fairbanks\",\"simmons\",\"election\",\"hyde\",\"mesmerizing\",\"terrific\",\"understated\",\"pleasantly\",\"finest\",\"odyssey\",\"fantastic\",\"brooklyn\",\"nancy\",\"buffalo\",\"scrooge\",\"stanwyck\",\"chan\",\"juliette\",\"noir\",\"splendid\",\"astonishing\",\"ruth\",\"spock\",\"liu\",\"mann\",\"elegant\",\"outstanding\",\"standout\",\"definitive\",\"heartfelt\",\"andre\",\"stack\",\"excellent\",\"sondra\",\"marvelous\",\"kitty\",\"dalton\",\"cunningham\",\"stargate\",\"jedi\",\"delicate\",\"sassy\",\"fontaine\",\"macarthur\",\"widmark\",\"jose\",\"philip\",\"sidewalk\",\"hadley\",\"layers\",\"marc\",\"gerard\",\"tender\",\"exceptional\",\"rewarding\",\"demille\",\"jacques\",\"detract\",\"portrait\",\"poignant\",\"amazing\",\"ruby\",\"fisher\",\"cleverly\",\"absorbing\",\"stunningly\",\"davies\",\"captivating\",\"gem\",\"sentinel\",\"overlooked\",\"restrained\",\"cerebral\",\"heartwarming\",\"gentle\",\"lavish\",\"pathos\",\"ralph\",\"chilling\",\"rita\",\"kelly\",\"darker\",\"stark\",\"dawson\",\"denis\",\"blake\",\"swim\",\"richardson\",\"remarkable\",\"neatly\",\"amrita\",\"sidney\",\"vanilla\",\"frontier\",\"powerful\",\"cushing\",\"notch\",\"phenomenal\",\"fleet\",\"gentleman\",\"holmes\",\"marie\",\"stunning\",\"burns\",\"bud\",\"riveting\",\"ladder\",\"cole\",\"errol\",\"paxton\",\"delicious\",\"cassavetes\",\"winters\",\"neill\",\"panic\",\"uplifting\",\"thelma\",\"shines\",\"giallo\",\"gritty\",\"pitt\",\"builds\",\"pierce\",\"april\",\"favorite\",\"vivid\",\"rifle\",\"damon\",\"garbo\",\"curtis\",\"ensemble\",\"holly\",\"engrossing\",\"rural\",\"seymour\",\"pfeiffer\",\"perfect\",\"von\",\"innocence\",\"boxing\",\"accessible\",\"prince\",\"brilliant\",\"julian\",\"hank\",\"bond\",\"scariest\",\"strengths\",\"psychiatrist\",\"perfectly\",\"orleans\",\"kansas\",\"alexandre\",\"appreciated\",\"sublime\",\"september\",\"sissy\",\"energetic\",\"pixar\",\"rookie\",\"loneliness\",\"barbara\",\"sailor\",\"favourite\",\"carol\",\"coup\",\"jules\",\"nightclub\",\"cultures\",\"vega\",\"emotions\",\"realities\",\"vividly\",\"bacall\",\"dazzling\",\"posey\",\"fabulous\",\"troubled\",\"bette\",\"bsg\",\"haunting\",\"recommended\",\"anton\",\"viewings\",\"alexander\",\"journey\",\"simplicity\",\"cinderella\",\"highly\",\"cuban\",\"reign\",\"kyle\",\"berkeley\",\"devastating\",\"unfolds\",\"consequences\",\"crafted\",\"rare\",\"ustinov\",\"smooth\",\"championship\",\"wilder\",\"subtle\",\"solo\",\"daniel\",\"loyalty\",\"beckinsale\",\"nominated\",\"warmth\",\"courage\",\"isolation\",\"draws\",\"marion\",\"dentist\",\"masterfully\",\"contrast\",\"diana\",\"glorious\",\"vibrant\",\"loved\",\"cried\",\"today\",\"karl\",\"everyday\",\"deniro\",\"tends\",\"intimate\",\"robinson\",\"lends\",\"divine\",\"jimmy\",\"happiness\",\"contribution\",\"ned\",\"loretta\",\"emma\",\"tragic\",\"nolte\",\"tony\",\"lola\",\"mistress\",\"unexpected\",\"fay\",\"depicts\",\"globe\",\"herbert\",\"mice\",\"clan\",\"daughters\",\"bravo\",\"corruption\",\"june\",\"caron\",\"awesome\",\"definite\",\"shelley\",\"fascinating\",\"helps\",\"rival\",\"dramas\",\"stellar\",\"orson\",\"intense\",\"wwe\",\"vader\",\"beatles\",\"reflects\",\"joey\",\"startling\",\"provides\",\"blend\",\"owl\",\"pirate\",\"arkin\",\"unique\",\"davis\",\"affect\",\"poem\",\"musicals\",\"bettie\",\"shy\",\"carrie\",\"newman\",\"renaissance\",\"paramount\",\"prominent\",\"guilt\",\"greatest\",\"fishburne\",\"mitch\",\"thoughtful\",\"inspiring\",\"beauty\",\"carries\",\"depression\",\"macabre\",\"dub\",\"bands\",\"exquisite\",\"miranda\",\"irene\",\"laurie\",\"walter\",\"arranged\",\"touched\",\"spectacular\",\"esther\",\"lena\",\"achievement\",\"rosemary\",\"sensitive\",\"terrifying\",\"triumph\",\"der\",\"seasons\",\"galaxy\",\"thrilled\",\"palance\",\"seeks\",\"awe\",\"ideal\",\"fassbinder\",\"fragile\",\"satisfying\",\"collette\",\"gamera\",\"boll\",\"uwe\",\"thunderbirds\",\"beowulf\",\"dahmer\",\"wayans\",\"seagal\",\"ariel\",\"dreck\",\"unwatchable\",\"stinker\",\"incoherent\",\"mst\",\"flimsy\",\"arquette\",\"dillinger\",\"yawn\",\"horrid\",\"unfunny\",\"waste\",\"turd\",\"fulci\",\"ugh\",\"wtf\",\"slugs\",\"blah\",\"damme\",\"pointless\",\"atrocious\",\"tripe\",\"redeeming\",\"prom\",\"baldwin\",\"worst\",\"lousy\",\"drivel\",\"claus\",\"laughable\",\"awful\",\"poorly\",\"remotely\",\"camcorder\",\"wasting\",\"unlikeable\",\"unimaginative\",\"nope\",\"excruciatingly\",\"chiba\",\"unoriginal\",\"insipid\",\"embarrassment\",\"embarrassingly\",\"porno\",\"existent\",\"crocodile\",\"boredom\",\"omen\",\"uninspired\",\"miserably\",\"lundgren\",\"wretched\",\"insult\",\"cannibal\",\"quantum\",\"sucks\",\"lame\",\"whiny\",\"abysmal\",\"incompetent\",\"snakes\",\"godzilla\",\"gadget\",\"unintentional\",\"tooth\",\"pathetic\",\"horrible\",\"idiotic\",\"appalling\",\"inane\",\"uninteresting\",\"dumber\",\"stinks\",\"timberlake\",\"unconvincing\",\"stupidity\",\"cardboard\",\"hackman\",\"serum\",\"amateurish\",\"moronic\",\"snipes\",\"werewolves\",\"wasted\",\"carlito\",\"dinosaur\",\"insulting\",\"suck\",\"tedious\",\"dukes\",\"crap\",\"lifeless\",\"dreadful\",\"pitiful\",\"madsen\",\"embarrassing\",\"shoddy\",\"terrible\",\"worse\",\"anil\",\"garbage\",\"tolerable\",\"mess\",\"badly\",\"dire\",\"severed\",\"mutant\",\"hostel\",\"laughably\",\"barrel\",\"junk\",\"springer\",\"foxx\",\"numbing\",\"pile\",\"headache\",\"stupid\",\"melody\",\"nerd\",\"vampires\",\"vomit\",\"ashamed\",\"worthless\",\"crappy\",\"unbelievably\",\"incomprehensible\",\"bat\",\"inept\",\"simpson\",\"tomatoes\",\"rubber\",\"forgettable\",\"nonsensical\",\"arty\",\"dull\",\"whatsoever\",\"avoid\",\"flop\",\"karate\",\"wooden\",\"ridiculous\",\"horribly\",\"plastic\",\"excuse\",\"hackneyed\",\"disjointed\",\"tossed\",\"moron\",\"bikini\",\"filth\",\"inappropriate\",\"dinosaurs\",\"downhill\",\"boring\",\"topless\",\"morons\",\"muddled\",\"missile\",\"hulk\",\"horny\",\"hideous\",\"bother\",\"shark\",\"cliched\",\"ripped\",\"dumb\",\"costs\",\"lackluster\",\"embarrassed\",\"rubbish\",\"turkey\",\"inexplicably\",\"stabbed\",\"horrendous\",\"feeble\",\"ridiculously\",\"chopped\",\"scifi\",\"useless\",\"seed\",\"zombies\",\"rambo\",\"obnoxious\",\"brainless\",\"spit\",\"ludicrous\",\"mildly\",\"amateur\",\"annoying\",\"fest\",\"bland\",\"sht\",\"domino\",\"tiresome\",\"mediocre\",\"bad\",\"tasteless\",\"mummy\",\"sickening\",\"awake\",\"unless\",\"santa\",\"meaningless\",\"unintentionally\",\"christians\",\"basket\",\"promptly\",\"huston\",\"inaccurate\",\"conveniently\",\"travesty\",\"overacting\",\"clich\",\"olds\",\"fails\",\"choppy\",\"hopelessly\",\"surgery\",\"uh\",\"redeem\",\"disappointing\",\"ta\",\"inconsistent\",\"dracula\",\"clichd\",\"illogical\",\"sellers\",\"miscast\",\"screw\",\"asleep\",\"mormon\",\"utter\",\"spacey\",\"renting\",\"naughty\",\"irritating\",\"scarecrow\",\"puppets\",\"unbelievable\",\"randomly\",\"poor\",\"disappointment\",\"lampoon\",\"corpses\",\"supposed\",\"idiots\",\"screaming\",\"skull\",\"wannabe\",\"random\",\"pedestrian\",\"unlikable\",\"dude\",\"apes\",\"bin\",\"asylum\",\"joke\",\"attract\",\"fake\",\"troma\",\"kidding\",\"rave\",\"unbearable\",\"clumsy\",\"cheap\",\"tara\",\"consist\",\"affleck\",\"trite\",\"toilet\",\"meandering\",\"ham\",\"puerto\",\"wander\",\"derivative\",\"wastes\",\"lowest\",\"devoid\",\"alright\",\"preposterous\",\"scooby\",\"basinger\",\"indulgent\",\"cgi\",\"lazy\",\"senseless\",\"disgusting\",\"artsy\",\"repulsive\",\"sucked\",\"doo\",\"generous\",\"disgrace\",\"coherent\",\"dreary\",\"bitten\",\"mins\",\"hack\",\"idiot\",\"seconds\",\"alleged\",\"redundant\",\"trash\",\"jaws\",\"cabin\",\"cue\",\"blame\",\"pretentious\",\"monkey\",\"chicks\",\"painfully\",\"messing\",\"unsympathetic\",\"bachchan\",\"offensive\",\"ugly\",\"prequel\",\"cheated\",\"walked\",\"sloppy\",\"porn\",\"oh\",\"explanation\",\"shouting\",\"huh\",\"dud\",\"acid\",\"cheese\",\"generic\",\"demonic\",\"aiming\",\"ignorant\",\"rats\",\"bored\",\"subjected\",\"bo\",\"clueless\",\"token\",\"outer\",\"retarded\",\"flies\",\"blatant\",\"gimmick\",\"unrealistic\",\"parsons\",\"predictable\",\"bite\",\"cringe\",\"failed\",\"shelf\",\"warn\",\"rotten\",\"physics\",\"clue\",\"wandering\",\"paid\",\"blatantly\",\"awfully\",\"painful\",\"nowhere\",\"below\",\"slightest\",\"gore\",\"freaking\",\"insomnia\",\"vampire\",\"sat\",\"pseudo\",\"paint\",\"bashing\",\"repetitive\",\"annoyed\",\"paper\",\"motivation\",\"bargain\",\"clay\",\"ninja\",\"sorry\",\"wrestling\",\"cody\",\"excuses\",\"brain\",\"lacks\",\"save\",\"bore\",\"sums\",\"bunch\",\"yep\",\"lab\",\"dismal\",\"harold\",\"absurd\",\"fooled\",\"bothered\",\"zombie\",\"dump\",\"whats\",\"aliens\",\"overrated\",\"honestly\",\"spending\",\"noise\",\"werewolf\",\"min\",\"halfway\",\"mall\",\"remove\",\"yeah\",\"phony\",\"mute\",\"f\",\"plain\",\"lesbian\",\"contempt\",\"lance\",\"dolph\",\"wanna\",\"chick\",\"chest\",\"slap\",\"security\",\"secondly\",\"exposition\",\"hype\",\"orange\",\"balls\",\"whale\",\"stranded\",\"flat\",\"presumably\",\"contrived\",\"slasher\",\"minutes\",\"murray\",\"mysteriously\",\"dragons\",\"switched\",\"overlong\",\"sounded\",\"nudity\",\"guessed\",\"button\",\"synopsis\",\"errors\",\"irrelevant\",\"messy\",\"wreck\",\"schlock\",\"freak\",\"endless\",\"carradine\",\"shallow\",\"stretched\",\"misleading\",\"minus\",\"continuity\",\"torture\",\"swear\",\"fat\",\"unnecessary\",\"infected\",\"splatter\",\"rented\",\"btw\",\"elvis\",\"hoping\",\"commits\",\"clone\",\"laurel\",\"hybrid\",\"crazed\",\"downright\",\"ruined\",\"terribly\",\"dollar\",\"nonsense\",\"revolt\",\"decent\",\"throwing\",\"breasts\",\"monsters\",\"gray\",\"stomach\",\"consists\",\"implausible\",\"terrorists\",\"ants\",\"chased\",\"ok\",\"unpleasant\"],\"x1\":{\"__ndarray__\":\"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\",\"dtype\":\"float32\",\"shape\":[1000]},\"x2\":{\"__ndarray__\":\"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\",\"dtype\":\"float32\",\"shape\":[1000]}}},\"id\":\"1cced7cd-0d73-466b-a159-027abd4921c1\",\"type\":\"ColumnDataSource\"},{\"attributes\":{\"formatter\":{\"id\":\"4dd60c06-90fd-47ea-b837-f240e12a369f\",\"type\":\"BasicTickFormatter\"},\"plot\":{\"id\":\"f2ecdb6a-4210-4636-949f-68f9a0337b3d\",\"subtype\":\"Figure\",\"type\":\"Plot\"},\"ticker\":{\"id\":\"40337ad4-88c8-4e1e-b10c-b896d2a3a5cd\",\"type\":\"BasicTicker\"}},\"id\":\"9d48586f-0697-4009-960b-1e1bb67f2543\",\"type\":\"LinearAxis\"},{\"attributes\":{},\"id\":\"40337ad4-88c8-4e1e-b10c-b896d2a3a5cd\",\"type\":\"BasicTicker\"},{\"attributes\":{},\"id\":\"b508a97f-5ca4-4281-aa05-a42a5f3962a6\",\"type\":\"BasicTicker\"},{\"attributes\":{\"fill_color\":{\"field\":\"color\"},\"line_color\":{\"field\":\"color\"},\"size\":{\"units\":\"screen\",\"value\":8},\"x\":{\"field\":\"x1\"},\"y\":{\"field\":\"x2\"}},\"id\":\"526fface-b8bb-418e-a215-07fd9a6dd632\",\"type\":\"Circle\"},{\"attributes\":{},\"id\":\"0a8bff6b-50ba-4030-b97d-d3c2c90da789\",\"type\":\"WheelZoomTool\"},{\"attributes\":{},\"id\":\"f55f9906-ada7-4c8c-a1dd-d49dbcd564cd\",\"type\":\"PanTool\"},{\"attributes\":{\"below\":[{\"id\":\"668d2452-77db-4a15-8748-ead5dabf6c8c\",\"type\":\"LinearAxis\"}],\"left\":[{\"id\":\"9d48586f-0697-4009-960b-1e1bb67f2543\",\"type\":\"LinearAxis\"}],\"renderers\":[{\"id\":\"668d2452-77db-4a15-8748-ead5dabf6c8c\",\"type\":\"LinearAxis\"},{\"id\":\"3597b86a-aa3d-4d4a-9a46-e651526baf7c\",\"type\":\"Grid\"},{\"id\":\"9d48586f-0697-4009-960b-1e1bb67f2543\",\"type\":\"LinearAxis\"},{\"id\":\"71c58baa-0415-4307-965f-3e5d6c4067ac\",\"type\":\"Grid\"},{\"id\":\"37db5b19-c995-459f-abde-b53d26de886e\",\"type\":\"GlyphRenderer\"},{\"id\":\"8d4dd218-96b0-4451-a5f7-8d50fe393bac\",\"type\":\"LabelSet\"}],\"title\":{\"id\":\"b74aee66-a5a1-4745-88d3-7f5cd3eea5db\",\"type\":\"Title\"},\"toolbar\":{\"id\":\"9b083b18-7a8e-4fe1-a312-7a3efa156091\",\"type\":\"Toolbar\"},\"toolbar_location\":\"above\",\"x_range\":{\"id\":\"7faf99a0-d251-45e3-9028-8836828e28c1\",\"type\":\"DataRange1d\"},\"x_scale\":{\"id\":\"18c966dc-bd1e-4046-9583-29e2d951c5ca\",\"type\":\"LinearScale\"},\"y_range\":{\"id\":\"154a9550-9bac-49b7-a2cf-14877ab84be6\",\"type\":\"DataRange1d\"},\"y_scale\":{\"id\":\"ecfb28b6-2d70-4041-a531-522ccf8a5079\",\"type\":\"LinearScale\"}},\"id\":\"f2ecdb6a-4210-4636-949f-68f9a0337b3d\",\"subtype\":\"Figure\",\"type\":\"Plot\"},{\"attributes\":{},\"id\":\"76c5f46f-9d9a-4bdc-8f22-3535d190aa0c\",\"type\":\"SaveTool\"},{\"attributes\":{\"callback\":null},\"id\":\"7faf99a0-d251-45e3-9028-8836828e28c1\",\"type\":\"DataRange1d\"},{\"attributes\":{\"data_source\":{\"id\":\"1cced7cd-0d73-466b-a159-027abd4921c1\",\"type\":\"ColumnDataSource\"},\"glyph\":{\"id\":\"526fface-b8bb-418e-a215-07fd9a6dd632\",\"type\":\"Circle\"},\"hover_glyph\":null,\"muted_glyph\":null,\"nonselection_glyph\":{\"id\":\"25ff6114-0e62-4b0f-88fc-bd419b31079a\",\"type\":\"Circle\"},\"selection_glyph\":null,\"view\":{\"id\":\"1164f496-5368-4cfd-bc6c-ed452d637279\",\"type\":\"CDSView\"}},\"id\":\"37db5b19-c995-459f-abde-b53d26de886e\",\"type\":\"GlyphRenderer\"}],\"root_ids\":[\"f2ecdb6a-4210-4636-949f-68f9a0337b3d\"]},\"title\":\"Bokeh Application\",\"version\":\"0.12.14\"}};\n",
       "  var render_items = [{\"docid\":\"2f56b270-767f-4391-bb09-0896736bfc97\",\"elementid\":\"63a9f0ab-b311-4015-8082-ef5c537f4c6e\",\"modelid\":\"f2ecdb6a-4210-4636-949f-68f9a0337b3d\"}];\n",
       "  root.Bokeh.embed.embed_items_notebook(docs_json, render_items);\n",
       "\n",
       "  }\n",
       "  if (root.Bokeh !== undefined) {\n",
       "    embed_document(root);\n",
       "  } else {\n",
       "    var attempts = 0;\n",
       "    var timer = setInterval(function(root) {\n",
       "      if (root.Bokeh !== undefined) {\n",
       "        embed_document(root);\n",
       "        clearInterval(timer);\n",
       "      }\n",
       "      attempts++;\n",
       "      if (attempts > 100) {\n",
       "        console.log(\"Bokeh: ERROR: Unable to run BokehJS code because BokehJS library is missing\")\n",
       "        clearInterval(timer);\n",
       "      }\n",
       "    }, 10, root)\n",
       "  }\n",
       "})(window);"
      ],
      "application/vnd.bokehjs_exec.v0+json": ""
     },
     "metadata": {
      "application/vnd.bokehjs_exec.v0+json": {
       "id": "f2ecdb6a-4210-4636-949f-68f9a0337b3d"
      }
     },
     "output_type": "display_data"
    }
   ],
   "source": [
    "p = figure(tools=\"pan,wheel_zoom,reset,save\",\n",
    "           toolbar_location=\"above\",\n",
    "           title=\"vector T-SNE for most polarized words\")\n",
    "\n",
    "source = ColumnDataSource(data=dict(x1=words_top_ted_tsne[:,0],\n",
    "                                    x2=words_top_ted_tsne[:,1],\n",
    "                                    names=words_to_visualize,\n",
    "                                    color=colors_list))\n",
    "\n",
    "p.scatter(x=\"x1\", y=\"x2\", size=8, source=source,color=\"color\")\n",
    "\n",
    "word_labels = LabelSet(x=\"x1\", y=\"x2\", text=\"names\", y_offset=6,\n",
    "                  text_font_size=\"8pt\", text_color=\"#555555\",\n",
    "                  source=source, text_align='center')\n",
    "p.add_layout(word_labels)\n",
    "\n",
    "show(p)\n",
    "\n",
    "# green indicates positive words, black indicates negative words"
   ]
  }
 ],
 "metadata": {
  "kernelspec": {
   "display_name": "Python 3",
   "language": "python",
   "name": "python3"
  },
  "language_info": {
   "codemirror_mode": {
    "name": "ipython",
    "version": 3
   },
   "file_extension": ".py",
   "mimetype": "text/x-python",
   "name": "python",
   "nbconvert_exporter": "python",
   "pygments_lexer": "ipython3",
   "version": "3.5.2"
  }
 },
 "nbformat": 4,
 "nbformat_minor": 2
}
