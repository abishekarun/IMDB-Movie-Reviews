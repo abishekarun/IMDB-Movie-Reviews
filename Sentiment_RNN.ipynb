{
  "nbformat": 4,
  "nbformat_minor": 0,
  "metadata": {
    "colab": {
      "name": "Sentiment_RNN.ipynb",
      "version": "0.3.2",
      "views": {},
      "default_view": {},
      "provenance": [],
      "collapsed_sections": []
    },
    "kernelspec": {
      "display_name": "Python 3",
      "language": "python",
      "name": "python3"
    }
  },
  "cells": [
    {
      "metadata": {
        "id": "NPNOHp6Pdgus",
        "colab_type": "text"
      },
      "cell_type": "markdown",
      "source": [
        "# Sentiment Analysis with an RNN\n",
        "\n",
        "In this notebook, you'll implement a recurrent neural network that performs sentiment analysis. Using an RNN rather than a feedfoward network is more accurate since we can include information about the *sequence* of words. Here we'll use a dataset of movie reviews, accompanied by labels.\n",
        "\n",
        "Here, we'll pass in words to an embedding layer. We need an embedding layer because we have tens of thousands of words, so we'll need a more efficient representation for our input data than one-hot encoded vectors. You should have seen this before from the word2vec lesson. You can actually train up an embedding with word2vec and use it here. But it's good enough to just have an embedding layer and let the network learn the embedding table on it's own.\n",
        "\n",
        "From the embedding layer, the new representations will be passed to LSTM cells. These will add recurrent connections to the network so we can include information about the sequence of words in the data. Finally, the LSTM cells will go to a sigmoid output layer here. We're using the sigmoid because we're trying to predict if this text has positive or negative sentiment. The output layer will just be a single unit then, with a sigmoid activation function.\n",
        "\n",
        "We don't care about the sigmoid outputs except for the very last one, we can ignore the rest. We'll calculate the cost from the output of the last step and the training label."
      ]
    },
    {
      "metadata": {
        "id": "xKuQCs-jdgut",
        "colab_type": "code",
        "colab": {
          "autoexec": {
            "startup": false,
            "wait_interval": 0
          }
        }
      },
      "cell_type": "code",
      "source": [
        "import numpy as np\n",
        "import tensorflow as tf"
      ],
      "execution_count": 1,
      "outputs": []
    },
    {
      "metadata": {
        "id": "wc6NISyodgux",
        "colab_type": "code",
        "colab": {
          "autoexec": {
            "startup": false,
            "wait_interval": 0
          }
        }
      },
      "cell_type": "code",
      "source": [
        "with open('reviews.txt', 'r') as f:\n",
        "    reviews = f.read()\n",
        "with open('labels.txt', 'r') as f:\n",
        "    labels = f.read()"
      ],
      "execution_count": 2,
      "outputs": []
    },
    {
      "metadata": {
        "id": "7mpv-yU0dgu0",
        "colab_type": "code",
        "colab": {
          "autoexec": {
            "startup": false,
            "wait_interval": 0
          },
          "base_uri": "https://localhost:8080/",
          "height": 54
        },
        "outputId": "015611a3-8c47-4f5d-8839-d521f6541660",
        "executionInfo": {
          "status": "ok",
          "timestamp": 1524128219992,
          "user_tz": 420,
          "elapsed": 298,
          "user": {
            "displayName": "Arun Rajendran",
            "photoUrl": "https://lh3.googleusercontent.com/a/default-user=s128",
            "userId": "100710189298922321078"
          }
        }
      },
      "cell_type": "code",
      "source": [
        "reviews[:2000]"
      ],
      "execution_count": 3,
      "outputs": [
        {
          "output_type": "execute_result",
          "data": {
            "text/plain": [
              "'bromwell high is a cartoon comedy . it ran at the same time as some other programs about school life  such as  teachers  . my   years in the teaching profession lead me to believe that bromwell high  s satire is much closer to reality than is  teachers  . the scramble to survive financially  the insightful students who can see right through their pathetic teachers  pomp  the pettiness of the whole situation  all remind me of the schools i knew and their students . when i saw the episode in which a student repeatedly tried to burn down the school  i immediately recalled . . . . . . . . . at . . . . . . . . . . high . a classic line inspector i  m here to sack one of your teachers . student welcome to bromwell high . i expect that many adults of my age think that bromwell high is far fetched . what a pity that it isn  t   \\nstory of a man who has unnatural feelings for a pig . starts out with a opening scene that is a terrific example of absurd comedy . a formal orchestra audience is turned into an insane  violent mob by the crazy chantings of it  s singers . unfortunately it stays absurd the whole time with no general narrative eventually making it just too off putting . even those from the era should be turned off . the cryptic dialogue would make shakespeare seem easy to a third grader . on a technical level it  s better than you might think with some good cinematography by future great vilmos zsigmond . future stars sally kirkland and frederic forrest can be seen briefly .  \\nhomelessness  or houselessness as george carlin stated  has been an issue for years but never a plan to help those on the street that were once considered human who did everything from going to school  work  or vote for the matter . most people think of the homeless as just a lost cause while worrying about things such as racism  the war on iraq  pressuring kids to succeed  technology  the elections  inflation  or worrying if they  ll be next to end up on the streets .  br    br   but what if y'"
            ]
          },
          "metadata": {
            "tags": []
          },
          "execution_count": 3
        }
      ]
    },
    {
      "metadata": {
        "id": "uFJk-aQTdgu5",
        "colab_type": "text"
      },
      "cell_type": "markdown",
      "source": [
        "## Data preprocessing\n",
        "\n",
        "The first step when building a neural network model is getting your data into the proper form to feed into the network. Since we're using embedding layers, we'll need to encode each word with an integer. We'll also want to clean it up a bit.\n",
        "\n",
        "You can see an example of the reviews data above. We'll want to get rid of those periods. Also, you might notice that the reviews are delimited with newlines `\\n`. To deal with those, I'm going to split the text into each review using `\\n` as the delimiter. Then I can combined all the reviews back together into one big string.\n",
        "\n",
        "First, let's remove all punctuation. Then get all the text without the newlines and split it into individual words."
      ]
    },
    {
      "metadata": {
        "id": "ELmU1DpQdgu6",
        "colab_type": "code",
        "colab": {
          "autoexec": {
            "startup": false,
            "wait_interval": 0
          }
        }
      },
      "cell_type": "code",
      "source": [
        "from string import punctuation\n",
        "all_text = ''.join([c for c in reviews if c not in punctuation])\n",
        "reviews = all_text.split('\\n')\n",
        "\n",
        "all_text = ' '.join(reviews)\n",
        "words = all_text.split()"
      ],
      "execution_count": 4,
      "outputs": []
    },
    {
      "metadata": {
        "id": "CRJPER-Wdgu9",
        "colab_type": "code",
        "colab": {
          "autoexec": {
            "startup": false,
            "wait_interval": 0
          },
          "base_uri": "https://localhost:8080/",
          "height": 54
        },
        "outputId": "b953cb9d-7b13-4912-dc08-ecf7245b2b6f",
        "executionInfo": {
          "status": "ok",
          "timestamp": 1524128224231,
          "user_tz": 420,
          "elapsed": 263,
          "user": {
            "displayName": "Arun Rajendran",
            "photoUrl": "https://lh3.googleusercontent.com/a/default-user=s128",
            "userId": "100710189298922321078"
          }
        }
      },
      "cell_type": "code",
      "source": [
        "all_text[:2000]"
      ],
      "execution_count": 5,
      "outputs": [
        {
          "output_type": "execute_result",
          "data": {
            "text/plain": [
              "'bromwell high is a cartoon comedy  it ran at the same time as some other programs about school life  such as  teachers   my   years in the teaching profession lead me to believe that bromwell high  s satire is much closer to reality than is  teachers   the scramble to survive financially  the insightful students who can see right through their pathetic teachers  pomp  the pettiness of the whole situation  all remind me of the schools i knew and their students  when i saw the episode in which a student repeatedly tried to burn down the school  i immediately recalled          at           high  a classic line inspector i  m here to sack one of your teachers  student welcome to bromwell high  i expect that many adults of my age think that bromwell high is far fetched  what a pity that it isn  t    story of a man who has unnatural feelings for a pig  starts out with a opening scene that is a terrific example of absurd comedy  a formal orchestra audience is turned into an insane  violent mob by the crazy chantings of it  s singers  unfortunately it stays absurd the whole time with no general narrative eventually making it just too off putting  even those from the era should be turned off  the cryptic dialogue would make shakespeare seem easy to a third grader  on a technical level it  s better than you might think with some good cinematography by future great vilmos zsigmond  future stars sally kirkland and frederic forrest can be seen briefly    homelessness  or houselessness as george carlin stated  has been an issue for years but never a plan to help those on the street that were once considered human who did everything from going to school  work  or vote for the matter  most people think of the homeless as just a lost cause while worrying about things such as racism  the war on iraq  pressuring kids to succeed  technology  the elections  inflation  or worrying if they  ll be next to end up on the streets   br    br   but what if you were given a bet to live on the st'"
            ]
          },
          "metadata": {
            "tags": []
          },
          "execution_count": 5
        }
      ]
    },
    {
      "metadata": {
        "id": "-ltI8_lIdgvA",
        "colab_type": "code",
        "colab": {
          "autoexec": {
            "startup": false,
            "wait_interval": 0
          },
          "base_uri": "https://localhost:8080/",
          "height": 1717
        },
        "outputId": "f920e827-d645-429c-c1b3-247951089672",
        "executionInfo": {
          "status": "ok",
          "timestamp": 1524128224719,
          "user_tz": 420,
          "elapsed": 292,
          "user": {
            "displayName": "Arun Rajendran",
            "photoUrl": "https://lh3.googleusercontent.com/a/default-user=s128",
            "userId": "100710189298922321078"
          }
        }
      },
      "cell_type": "code",
      "source": [
        "words[:100]"
      ],
      "execution_count": 6,
      "outputs": [
        {
          "output_type": "execute_result",
          "data": {
            "text/plain": [
              "['bromwell',\n",
              " 'high',\n",
              " 'is',\n",
              " 'a',\n",
              " 'cartoon',\n",
              " 'comedy',\n",
              " 'it',\n",
              " 'ran',\n",
              " 'at',\n",
              " 'the',\n",
              " 'same',\n",
              " 'time',\n",
              " 'as',\n",
              " 'some',\n",
              " 'other',\n",
              " 'programs',\n",
              " 'about',\n",
              " 'school',\n",
              " 'life',\n",
              " 'such',\n",
              " 'as',\n",
              " 'teachers',\n",
              " 'my',\n",
              " 'years',\n",
              " 'in',\n",
              " 'the',\n",
              " 'teaching',\n",
              " 'profession',\n",
              " 'lead',\n",
              " 'me',\n",
              " 'to',\n",
              " 'believe',\n",
              " 'that',\n",
              " 'bromwell',\n",
              " 'high',\n",
              " 's',\n",
              " 'satire',\n",
              " 'is',\n",
              " 'much',\n",
              " 'closer',\n",
              " 'to',\n",
              " 'reality',\n",
              " 'than',\n",
              " 'is',\n",
              " 'teachers',\n",
              " 'the',\n",
              " 'scramble',\n",
              " 'to',\n",
              " 'survive',\n",
              " 'financially',\n",
              " 'the',\n",
              " 'insightful',\n",
              " 'students',\n",
              " 'who',\n",
              " 'can',\n",
              " 'see',\n",
              " 'right',\n",
              " 'through',\n",
              " 'their',\n",
              " 'pathetic',\n",
              " 'teachers',\n",
              " 'pomp',\n",
              " 'the',\n",
              " 'pettiness',\n",
              " 'of',\n",
              " 'the',\n",
              " 'whole',\n",
              " 'situation',\n",
              " 'all',\n",
              " 'remind',\n",
              " 'me',\n",
              " 'of',\n",
              " 'the',\n",
              " 'schools',\n",
              " 'i',\n",
              " 'knew',\n",
              " 'and',\n",
              " 'their',\n",
              " 'students',\n",
              " 'when',\n",
              " 'i',\n",
              " 'saw',\n",
              " 'the',\n",
              " 'episode',\n",
              " 'in',\n",
              " 'which',\n",
              " 'a',\n",
              " 'student',\n",
              " 'repeatedly',\n",
              " 'tried',\n",
              " 'to',\n",
              " 'burn',\n",
              " 'down',\n",
              " 'the',\n",
              " 'school',\n",
              " 'i',\n",
              " 'immediately',\n",
              " 'recalled',\n",
              " 'at',\n",
              " 'high']"
            ]
          },
          "metadata": {
            "tags": []
          },
          "execution_count": 6
        }
      ]
    },
    {
      "metadata": {
        "id": "RpAp7jbcdgvE",
        "colab_type": "text"
      },
      "cell_type": "markdown",
      "source": [
        "### Encoding the words\n",
        "\n",
        "The embedding lookup requires that we pass in integers to our network. The easiest way to do this is to create dictionaries that map the words in the vocabulary to integers. Then we can convert each of our reviews into integers so they can be passed into the network."
      ]
    },
    {
      "metadata": {
        "id": "-CKT-UGCdgvE",
        "colab_type": "code",
        "colab": {
          "autoexec": {
            "startup": false,
            "wait_interval": 0
          }
        }
      },
      "cell_type": "code",
      "source": [
        "from collections import Counter\n",
        "counts = Counter(words)\n",
        "vocab = sorted(counts, key=counts.get, reverse=True)\n",
        "vocab_to_int = {word: ii for ii, word in enumerate(vocab, 1)}\n",
        "\n",
        "reviews_ints = []\n",
        "for each in reviews:\n",
        "    reviews_ints.append([vocab_to_int[word] for word in each.split()])"
      ],
      "execution_count": 7,
      "outputs": []
    },
    {
      "metadata": {
        "id": "pBG9gdTxdgvH",
        "colab_type": "text"
      },
      "cell_type": "markdown",
      "source": [
        "### Encoding the labels\n",
        "\n",
        "Our labels are \"positive\" or \"negative\". To use these labels in our network, we need to convert them to 0 and 1."
      ]
    },
    {
      "metadata": {
        "id": "-PJNmeCFdgvI",
        "colab_type": "code",
        "colab": {
          "autoexec": {
            "startup": false,
            "wait_interval": 0
          }
        }
      },
      "cell_type": "code",
      "source": [
        "labels = labels.split('\\n')\n",
        "labels = np.array([1 if each == 'positive' else 0 for each in labels])"
      ],
      "execution_count": 8,
      "outputs": []
    },
    {
      "metadata": {
        "id": "moY3NMjzdgvL",
        "colab_type": "code",
        "colab": {
          "autoexec": {
            "startup": false,
            "wait_interval": 0
          },
          "base_uri": "https://localhost:8080/",
          "height": 51
        },
        "outputId": "0456e911-fbae-4fed-ee78-8b3b145cf47a",
        "executionInfo": {
          "status": "ok",
          "timestamp": 1524128228943,
          "user_tz": 420,
          "elapsed": 275,
          "user": {
            "displayName": "Arun Rajendran",
            "photoUrl": "https://lh3.googleusercontent.com/a/default-user=s128",
            "userId": "100710189298922321078"
          }
        }
      },
      "cell_type": "code",
      "source": [
        "review_lens = Counter([len(x) for x in reviews_ints])\n",
        "print(\"Zero-length reviews: {}\".format(review_lens[0]))\n",
        "print(\"Maximum review length: {}\".format(max(review_lens)))"
      ],
      "execution_count": 9,
      "outputs": [
        {
          "output_type": "stream",
          "text": [
            "Zero-length reviews: 1\n",
            "Maximum review length: 2514\n"
          ],
          "name": "stdout"
        }
      ]
    },
    {
      "metadata": {
        "id": "f2dIwgi2dgvO",
        "colab_type": "text"
      },
      "cell_type": "markdown",
      "source": [
        "Okay, a couple issues here. We seem to have one review with zero length. And, the maximum review length is way too many steps for our RNN. Let's truncate to 200 steps. For reviews shorter than 200, we'll pad with 0s. For reviews longer than 200, we can truncate them to the first 200 characters.\n"
      ]
    },
    {
      "metadata": {
        "id": "7LG70tDcdgvP",
        "colab_type": "code",
        "colab": {
          "autoexec": {
            "startup": false,
            "wait_interval": 0
          },
          "base_uri": "https://localhost:8080/",
          "height": 34
        },
        "outputId": "5b5e252e-7cc8-4d30-a461-11843df38b96",
        "executionInfo": {
          "status": "ok",
          "timestamp": 1524128229556,
          "user_tz": 420,
          "elapsed": 340,
          "user": {
            "displayName": "Arun Rajendran",
            "photoUrl": "https://lh3.googleusercontent.com/a/default-user=s128",
            "userId": "100710189298922321078"
          }
        }
      },
      "cell_type": "code",
      "source": [
        "non_zero_idx = [ii for ii, review in enumerate(reviews_ints) if len(review) != 0]\n",
        "len(non_zero_idx)"
      ],
      "execution_count": 10,
      "outputs": [
        {
          "output_type": "execute_result",
          "data": {
            "text/plain": [
              "25000"
            ]
          },
          "metadata": {
            "tags": []
          },
          "execution_count": 10
        }
      ]
    },
    {
      "metadata": {
        "id": "ZfbzNgKodgvU",
        "colab_type": "code",
        "colab": {
          "autoexec": {
            "startup": false,
            "wait_interval": 0
          },
          "base_uri": "https://localhost:8080/",
          "height": 34
        },
        "outputId": "b2099b65-0305-4990-e951-9f430252cde7",
        "executionInfo": {
          "status": "ok",
          "timestamp": 1524128229998,
          "user_tz": 420,
          "elapsed": 267,
          "user": {
            "displayName": "Arun Rajendran",
            "photoUrl": "https://lh3.googleusercontent.com/a/default-user=s128",
            "userId": "100710189298922321078"
          }
        }
      },
      "cell_type": "code",
      "source": [
        "reviews_ints[-1]"
      ],
      "execution_count": 11,
      "outputs": [
        {
          "output_type": "execute_result",
          "data": {
            "text/plain": [
              "[]"
            ]
          },
          "metadata": {
            "tags": []
          },
          "execution_count": 11
        }
      ]
    },
    {
      "metadata": {
        "id": "Mhw2Y-uJdgvh",
        "colab_type": "text"
      },
      "cell_type": "markdown",
      "source": [
        "Turns out its the final review that has zero length. But that might not always be the case, so let's make it more general."
      ]
    },
    {
      "metadata": {
        "id": "iYyplagvdgvi",
        "colab_type": "code",
        "colab": {
          "autoexec": {
            "startup": false,
            "wait_interval": 0
          }
        }
      },
      "cell_type": "code",
      "source": [
        "reviews_ints = [reviews_ints[ii] for ii in non_zero_idx]\n",
        "labels = np.array([labels[ii] for ii in non_zero_idx])"
      ],
      "execution_count": 12,
      "outputs": []
    },
    {
      "metadata": {
        "id": "zwQR1oOndgvm",
        "colab_type": "text"
      },
      "cell_type": "markdown",
      "source": [
        "This isn't trivial and there are a bunch of ways to do this. But, if you're going to be building your own deep learning networks, you're going to have to get used to preparing your data.\n"
      ]
    },
    {
      "metadata": {
        "id": "vulYcvv7dgvn",
        "colab_type": "code",
        "colab": {
          "autoexec": {
            "startup": false,
            "wait_interval": 0
          }
        }
      },
      "cell_type": "code",
      "source": [
        "seq_len = 200\n",
        "features = np.zeros((len(reviews_ints), seq_len), dtype=int)\n",
        "for i, row in enumerate(reviews_ints):\n",
        "    features[i, -len(row):] = np.array(row)[:seq_len]"
      ],
      "execution_count": 13,
      "outputs": []
    },
    {
      "metadata": {
        "id": "4BfV-_6cdgvp",
        "colab_type": "code",
        "colab": {
          "autoexec": {
            "startup": false,
            "wait_interval": 0
          },
          "base_uri": "https://localhost:8080/",
          "height": 2057
        },
        "outputId": "c5038e2f-d561-4cf7-f3e0-62428d526e56",
        "executionInfo": {
          "status": "ok",
          "timestamp": 1524128231796,
          "user_tz": 420,
          "elapsed": 299,
          "user": {
            "displayName": "Arun Rajendran",
            "photoUrl": "https://lh3.googleusercontent.com/a/default-user=s128",
            "userId": "100710189298922321078"
          }
        }
      },
      "cell_type": "code",
      "source": [
        "features[:10,:100]"
      ],
      "execution_count": 14,
      "outputs": [
        {
          "output_type": "execute_result",
          "data": {
            "text/plain": [
              "array([[    0,     0,     0,     0,     0,     0,     0,     0,     0,\n",
              "            0,     0,     0,     0,     0,     0,     0,     0,     0,\n",
              "            0,     0,     0,     0,     0,     0,     0,     0,     0,\n",
              "            0,     0,     0,     0,     0,     0,     0,     0,     0,\n",
              "            0,     0,     0,     0,     0,     0,     0,     0,     0,\n",
              "            0,     0,     0,     0,     0,     0,     0,     0,     0,\n",
              "            0,     0,     0,     0,     0,     0, 21025,   308,     6,\n",
              "            3,  1050,   207,     8,  2138,    32,     1,   171,    57,\n",
              "           15,    49,    81,  5785,    44,   382,   110,   140,    15,\n",
              "         5194,    60,   154,     9,     1,  4975,  5852,   475,    71,\n",
              "            5,   260,    12, 21025,   308,    13,  1978,     6,    74,\n",
              "         2395],\n",
              "       [    0,     0,     0,     0,     0,     0,     0,     0,     0,\n",
              "            0,     0,     0,     0,     0,     0,     0,     0,     0,\n",
              "            0,     0,     0,     0,     0,     0,     0,     0,     0,\n",
              "            0,     0,     0,     0,     0,     0,     0,     0,     0,\n",
              "            0,     0,     0,     0,     0,     0,     0,     0,     0,\n",
              "            0,     0,     0,     0,     0,     0,     0,     0,     0,\n",
              "            0,     0,     0,     0,     0,     0,     0,     0,     0,\n",
              "            0,     0,     0,     0,     0,     0,     0,     0,     0,\n",
              "            0,     0,     0,     0,     0,     0,     0,     0,     0,\n",
              "            0,     0,     0,     0,     0,    63,     4,     3,   125,\n",
              "           36,    47,  7472,  1395,    16,     3,  4181,   505,    45,\n",
              "           17],\n",
              "       [22382,    42, 46418,    15,   706, 17139,  3389,    47,    77,\n",
              "           35,  1819,    16,   154,    19,   114,     3,  1305,     5,\n",
              "          336,   147,    22,     1,   857,    12,    70,   281,  1168,\n",
              "          399,    36,   120,   283,    38,   169,     5,   382,   158,\n",
              "           42,  2269,    16,     1,   541,    90,    78,   102,     4,\n",
              "            1,  3244,    15,    43,     3,   407,  1068,   136,  8055,\n",
              "           44,   182,   140,    15,  3043,     1,   320,    22,  4818,\n",
              "        26224,   346,     5,  3090,  2092,     1, 18839, 17939,    42,\n",
              "         8055,    46,    33,   236,    29,   370,     5,   130,    56,\n",
              "           22,     1,  1928,     7,     7,    19,    48,    46,    21,\n",
              "           70,   344,     3,  2099,     5,   408,    22,     1,  1928,\n",
              "           16],\n",
              "       [ 4505,   505,    15,     3,  3342,   162,  8312,  1652,     6,\n",
              "         4819,    56,    17,  4504,  5616,   140, 11725,     5,   996,\n",
              "         4919,  2933,  4462,   566,  1201,    36,     6,  1518,    96,\n",
              "            3,   744,     4, 26225,    13,     5,    27,  3461,     9,\n",
              "        10625,     4,     8,   111,  3013,     5,     1,  1027,    15,\n",
              "            3,  4390,    82,    22,  2049,     6,  4462,   538,  2764,\n",
              "         7073, 37443,    41,   463,     1,  8312, 46419,   302,   123,\n",
              "           15,  4221,    19,  1667,   922,     1,  1652,     6,  6129,\n",
              "        19871,    34,     1,   980,  1751, 22383,   646, 24104,    27,\n",
              "          106, 11726,    13, 14045, 15097, 17940,  2457,   466, 21027,\n",
              "           36,  3266,     1,  6365,  1020,    45,    17,  2695,  2499,\n",
              "           33],\n",
              "       [    0,     0,     0,     0,     0,     0,     0,     0,     0,\n",
              "            0,     0,     0,     0,     0,     0,     0,     0,     0,\n",
              "            0,     0,     0,     0,     0,     0,     0,     0,     0,\n",
              "            0,     0,     0,     0,     0,     0,     0,     0,     0,\n",
              "            0,     0,     0,     0,     0,     0,     0,     0,     0,\n",
              "            0,     0,     0,     0,     0,   520,   119,   113,    34,\n",
              "        16372,  1816,  3737,   117,   885, 21030,   721,    10,    28,\n",
              "          124,   108,     2,   115,   137,     9,  1623,  7691,    26,\n",
              "          330,     5,   589,     1,  6130,    22,   386,     6,     3,\n",
              "          349,    15,    50,    15,   231,     9,  7473, 11399,     1,\n",
              "          191,    22,  8966,     6,    82,   880,   101,   111,  3584,\n",
              "            4],\n",
              "       [    0,     0,     0,     0,     0,     0,     0,     0,     0,\n",
              "            0,     0,     0,     0,     0,     0,     0,     0,     0,\n",
              "            0,     0,     0,     0,     0,     0,     0,     0,     0,\n",
              "            0,     0,     0,     0,     0,     0,     0,     0,     0,\n",
              "            0,     0,     0,     0,     0,     0,     0,     0,     0,\n",
              "            0,     0,     0,     0,     0,     0,     0,     0,     0,\n",
              "           11,    20,  3637,   141,    10,   422,    23,   272,    60,\n",
              "         4355,    22,    32,    84,  3286,    22,     1,   172,     4,\n",
              "            1,   952,   507,    11,  4977,  5361,     5,   574,     4,\n",
              "         1155,    54,    53,  5304,     1,   261,    17,    41,   952,\n",
              "          125,    59,     1,   711,   137,   379,   626,    15,   111,\n",
              "         1509],\n",
              "       [    0,     0,     0,     0,     0,     0,     0,     0,     0,\n",
              "            0,     0,     0,     0,     0,     0,     0,     0,     0,\n",
              "            0,     0,     0,     0,     0,     0,     0,     0,     0,\n",
              "            0,     0,     0,     0,     0,     0,     0,     0,     0,\n",
              "            0,     0,     0,     0,     0,     0,     0,     0,     0,\n",
              "            0,     0,     0,     0,     0,     0,     0,     0,     0,\n",
              "            0,     0,     0,     0,     0,     0,     0,     0,     0,\n",
              "            0,     0,     0,     0,     0,     0,     0,     0,     0,\n",
              "            0,     0,     0,     0,    11,     6,   692,     1,    90,\n",
              "         2156,    20, 11728,     1,  2818,  5195,   249,    92,  3006,\n",
              "            8,   126,    24,   200,     3,   802,   634,     4, 22382,\n",
              "         1001],\n",
              "       [    0,     0,     0,     0,     0,     0,     0,     0,     0,\n",
              "            0,     0,     0,     0,     0,     0,     0,     0,     0,\n",
              "            0,     0,     0,     0,     0,     0,     0,     0,     0,\n",
              "            0,     0,     0,     0,     0,     0,     0,     0,     0,\n",
              "            0,     0,     0,     0,     0,     0,     0,     0,     0,\n",
              "            0,     0,   786,   295,    10,   122,    11,     6,   419,\n",
              "            5,    29,    35,   482,    20,    19,  1281,    33,   142,\n",
              "           28,  2657,    45,  1840,    32,     1,  2778,    37,    78,\n",
              "           97,  2436,    67,  3950,    45,     2,    24,   105,   256,\n",
              "            1,   134,  1571,     2, 12399,   451,    14,   319,    11,\n",
              "           63,     6,    98,  1321,     5,   105,     1,  3767,     4,\n",
              "            3],\n",
              "       [    0,     0,     0,     0,     0,     0,     0,     0,     0,\n",
              "            0,     0,     0,     0,     0,     0,     0,     0,     0,\n",
              "            0,     0,     0,     0,     0,     0,     0,     0,     0,\n",
              "            0,     0,     0,     0,     0,     0,     0,     0,     0,\n",
              "            0,     0,     0,     0,     0,     0,     0,     0,     0,\n",
              "            0,     0,     0,     0,     0,     0,     0,     0,     0,\n",
              "            0,     0,     0,     0,     0,     0,     0,     0,     0,\n",
              "            0,     0,     0,     0,     0,     0,     0,     0,     0,\n",
              "            0,     0,     0,     0,     0,     0,     0,    11,     6,\n",
              "           24,     1,   779,  3687,  2818,    20,     8,    14,    74,\n",
              "          325,  2730,    73,    90,     4,    27,    99,     2,   165,\n",
              "           68],\n",
              "       [   54,    10,    14,   116,    60,   798,   552,    71,   364,\n",
              "            5,     1,   730,     5,    66,  8057,     8,    14,    30,\n",
              "            4,   109,    99,    10,   293,    17,    60,   798,    19,\n",
              "           11,    14,     1,    64,    30,    69,  2500,    45,     4,\n",
              "          234,    93,    10,    68,   114,   108,  8057,   363,    43,\n",
              "         1009,     2,    10,    97,    28,  1431,    45,     1,   357,\n",
              "            4,    60,   110,   205,     8,    48,     3,  1929, 10880,\n",
              "            2,  2124,   354,   412,     4,    13,  6609,     2,  2974,\n",
              "         5148,  2125,  1366,     6,    30,     4,    60,   502,   876,\n",
              "           19,  8057,     6,    34,   227,     1,   247,   412,     4,\n",
              "          582,     4,    27,   599,     9,     1, 13586,   396,     4,\n",
              "        14047]])"
            ]
          },
          "metadata": {
            "tags": []
          },
          "execution_count": 14
        }
      ]
    },
    {
      "metadata": {
        "id": "f5_C8QMbdgvt",
        "colab_type": "text"
      },
      "cell_type": "markdown",
      "source": [
        "## Training, Validation, Test\n",
        "\n"
      ]
    },
    {
      "metadata": {
        "id": "nXab8ttDdgvu",
        "colab_type": "text"
      },
      "cell_type": "markdown",
      "source": [
        "With our data in nice shape, we'll split it into training, validation, and test sets."
      ]
    },
    {
      "metadata": {
        "id": "rg5GgUwQdgvv",
        "colab_type": "code",
        "colab": {
          "autoexec": {
            "startup": false,
            "wait_interval": 0
          },
          "base_uri": "https://localhost:8080/",
          "height": 85
        },
        "outputId": "793cd850-9d7d-414a-8bd3-febd76ef4840",
        "executionInfo": {
          "status": "ok",
          "timestamp": 1524128232320,
          "user_tz": 420,
          "elapsed": 292,
          "user": {
            "displayName": "Arun Rajendran",
            "photoUrl": "https://lh3.googleusercontent.com/a/default-user=s128",
            "userId": "100710189298922321078"
          }
        }
      },
      "cell_type": "code",
      "source": [
        "split_frac = 0.8\n",
        "split_idx = int(len(features)*0.8)\n",
        "train_x, val_x = features[:split_idx], features[split_idx:]\n",
        "train_y, val_y = labels[:split_idx], labels[split_idx:]\n",
        "\n",
        "test_idx = int(len(val_x)*0.5)\n",
        "val_x, test_x = val_x[:test_idx], val_x[test_idx:]\n",
        "val_y, test_y = val_y[:test_idx], val_y[test_idx:]\n",
        "\n",
        "print(\"\\t\\t\\tFeature Shapes:\")\n",
        "print(\"Train set: \\t\\t{}\".format(train_x.shape), \n",
        "      \"\\nValidation set: \\t{}\".format(val_x.shape),\n",
        "      \"\\nTest set: \\t\\t{}\".format(test_x.shape))"
      ],
      "execution_count": 15,
      "outputs": [
        {
          "output_type": "stream",
          "text": [
            "\t\t\tFeature Shapes:\n",
            "Train set: \t\t(20000, 200) \n",
            "Validation set: \t(2500, 200) \n",
            "Test set: \t\t(2500, 200)\n"
          ],
          "name": "stdout"
        }
      ]
    },
    {
      "metadata": {
        "id": "qL1mW-fmdgv0",
        "colab_type": "text"
      },
      "cell_type": "markdown",
      "source": [
        "## Build the graph\n",
        "\n",
        "Here, we'll build the graph. First up, defining the hyperparameters.\n",
        "\n",
        "* `lstm_size`: Number of units in the hidden layers in the LSTM cells. Usually larger is better performance wise. Common values are 128, 256, 512, etc.\n",
        "* `lstm_layers`: Number of LSTM layers in the network. I'd start with 1, then add more if I'm underfitting.\n",
        "* `batch_size`: The number of reviews to feed the network in one training pass. Typically this should be set as high as you can go without running out of memory.\n",
        "* `learning_rate`: Learning rate"
      ]
    },
    {
      "metadata": {
        "id": "QK4QLzbgdgv1",
        "colab_type": "code",
        "colab": {
          "autoexec": {
            "startup": false,
            "wait_interval": 0
          }
        }
      },
      "cell_type": "code",
      "source": [
        "lstm_size = 256\n",
        "lstm_layers = 1\n",
        "batch_size = 500\n",
        "learning_rate = 0.001"
      ],
      "execution_count": 0,
      "outputs": []
    },
    {
      "metadata": {
        "id": "K8kJSmwPdgv3",
        "colab_type": "text"
      },
      "cell_type": "markdown",
      "source": [
        "For the network itself, we'll be passing in our 200 element long review vectors. Each batch will be `batch_size` vectors. We'll also be using dropout on the LSTM layer, so we'll make a placeholder for the keep probability."
      ]
    },
    {
      "metadata": {
        "id": "-hSCpKmUdgv5",
        "colab_type": "code",
        "colab": {
          "autoexec": {
            "startup": false,
            "wait_interval": 0
          }
        }
      },
      "cell_type": "code",
      "source": [
        "n_words = len(vocab_to_int) + 1 # Adding 1 because we use 0's for padding, dictionary started at 1\n",
        "\n",
        "# Create the graph object\n",
        "graph = tf.Graph()\n",
        "# Add nodes to the graph\n",
        "with graph.as_default():\n",
        "    inputs_ = tf.placeholder(tf.int32, [None, None], name='inputs')\n",
        "    labels_ = tf.placeholder(tf.int32, [None, None], name='labels')\n",
        "    keep_prob = tf.placeholder(tf.float32, name='keep_prob')"
      ],
      "execution_count": 16,
      "outputs": []
    },
    {
      "metadata": {
        "id": "Yzysw89Rdgv6",
        "colab_type": "text"
      },
      "cell_type": "markdown",
      "source": [
        "### Embedding\n",
        "\n",
        "Now we'll add an embedding layer. We need to do this because there are 74000 words in our vocabulary. It is massively inefficient to one-hot encode our classes here. You should remember dealing with this problem from the word2vec lesson. Instead of one-hot encoding, we can have an embedding layer and use that layer as a lookup table. You could train an embedding layer using word2vec, then load it here. But, it's fine to just make a new layer and let the network learn the weights.\n"
      ]
    },
    {
      "metadata": {
        "id": "C3PzClSUdgv7",
        "colab_type": "code",
        "colab": {
          "autoexec": {
            "startup": false,
            "wait_interval": 0
          }
        }
      },
      "cell_type": "code",
      "source": [
        "# Size of the embedding vectors (number of units in the embedding layer)\n",
        "embed_size = 300 \n",
        "\n",
        "with graph.as_default():\n",
        "    embedding = tf.Variable(tf.random_uniform((n_words, embed_size), -1, 1))\n",
        "    embed = tf.nn.embedding_lookup(embedding, inputs_)"
      ],
      "execution_count": 17,
      "outputs": []
    },
    {
      "metadata": {
        "id": "DMbVZJy1dgv9",
        "colab_type": "text"
      },
      "cell_type": "markdown",
      "source": [
        "### LSTM cell\n",
        "\n",
        "Next, we'll create our LSTM cells to use in the recurrent network ([TensorFlow documentation](https://www.tensorflow.org/api_docs/python/tf/contrib/rnn)). Here we are just defining what the cells look like. This isn't actually building the graph, just defining the type of cells we want in our graph.\n",
        "\n",
        "Here is [a tutorial on building RNNs](https://www.tensorflow.org/tutorials/recurrent) that will help you out.\n"
      ]
    },
    {
      "metadata": {
        "id": "NF4q9LEVdgv9",
        "colab_type": "code",
        "colab": {
          "autoexec": {
            "startup": false,
            "wait_interval": 0
          }
        }
      },
      "cell_type": "code",
      "source": [
        "with graph.as_default():\n",
        "    # Your basic LSTM cell\n",
        "    lstm = tf.contrib.rnn.BasicLSTMCell(lstm_size)\n",
        "    \n",
        "    # Add dropout to the cell\n",
        "    drop = tf.contrib.rnn.DropoutWrapper(lstm, output_keep_prob=keep_prob)\n",
        "    \n",
        "    # Stack up multiple LSTM layers, for deep learning\n",
        "    cell = tf.contrib.rnn.MultiRNNCell([drop] * lstm_layers)\n",
        "    \n",
        "    # Getting an initial state of all zeros\n",
        "    initial_state = cell.zero_state(batch_size, tf.float32)"
      ],
      "execution_count": 18,
      "outputs": []
    },
    {
      "metadata": {
        "id": "M4jW0jhCdgwA",
        "colab_type": "text"
      },
      "cell_type": "markdown",
      "source": [
        "### RNN forward pass\n",
        "\n",
        "Now we need to actually run the data through the RNN nodes. You can use [`tf.nn.dynamic_rnn`](https://www.tensorflow.org/api_docs/python/tf/nn/dynamic_rnn) to do this. You'd pass in the RNN cell you created (our multiple layered LSTM `cell` for instance), and the inputs to the network.\n"
      ]
    },
    {
      "metadata": {
        "id": "UWjrtrWedgwB",
        "colab_type": "code",
        "colab": {
          "autoexec": {
            "startup": false,
            "wait_interval": 0
          }
        }
      },
      "cell_type": "code",
      "source": [
        "with graph.as_default():\n",
        "    outputs, final_state = tf.nn.dynamic_rnn(cell, embed,\n",
        "                                             initial_state=initial_state)"
      ],
      "execution_count": 19,
      "outputs": []
    },
    {
      "metadata": {
        "id": "thJ6P_ofdgwD",
        "colab_type": "text"
      },
      "cell_type": "markdown",
      "source": [
        "### Output\n",
        "\n",
        "We only care about the final output, we'll be using that as our sentiment prediction. So we need to grab the last output with `outputs[:, -1]`, the calculate the cost from that and `labels_`."
      ]
    },
    {
      "metadata": {
        "id": "ErR1vvk9dgwF",
        "colab_type": "code",
        "colab": {
          "autoexec": {
            "startup": false,
            "wait_interval": 0
          }
        }
      },
      "cell_type": "code",
      "source": [
        "with graph.as_default():\n",
        "    predictions = tf.contrib.layers.fully_connected(outputs[:, -1], 1, activation_fn=tf.sigmoid)\n",
        "    cost = tf.losses.mean_squared_error(labels_, predictions)\n",
        "    \n",
        "    optimizer = tf.train.AdamOptimizer(learning_rate).minimize(cost)"
      ],
      "execution_count": 20,
      "outputs": []
    },
    {
      "metadata": {
        "id": "5dR3I_JddgwL",
        "colab_type": "text"
      },
      "cell_type": "markdown",
      "source": [
        "### Validation accuracy\n",
        "\n",
        "Here we can add a few nodes to calculate the accuracy which we'll use in the validation pass."
      ]
    },
    {
      "metadata": {
        "id": "llk3u1QrdgwN",
        "colab_type": "code",
        "colab": {
          "autoexec": {
            "startup": false,
            "wait_interval": 0
          }
        }
      },
      "cell_type": "code",
      "source": [
        "with graph.as_default():\n",
        "    correct_pred = tf.equal(tf.cast(tf.round(predictions), tf.int32), labels_)\n",
        "    accuracy = tf.reduce_mean(tf.cast(correct_pred, tf.float32))"
      ],
      "execution_count": 21,
      "outputs": []
    },
    {
      "metadata": {
        "id": "8A8uKjSwdgwQ",
        "colab_type": "text"
      },
      "cell_type": "markdown",
      "source": [
        "### Batching\n",
        "\n",
        "This is a simple function for returning batches from our data. First it removes data such that we only have full batches. Then it iterates through the `x` and `y` arrays and returns slices out of those arrays with size `[batch_size]`."
      ]
    },
    {
      "metadata": {
        "id": "2u5mkLdfdgwR",
        "colab_type": "code",
        "colab": {
          "autoexec": {
            "startup": false,
            "wait_interval": 0
          }
        }
      },
      "cell_type": "code",
      "source": [
        "def get_batches(x, y, batch_size=100):\n",
        "    \n",
        "    n_batches = len(x)//batch_size\n",
        "    x, y = x[:n_batches*batch_size], y[:n_batches*batch_size]\n",
        "    for ii in range(0, len(x), batch_size):\n",
        "        yield x[ii:ii+batch_size], y[ii:ii+batch_size]"
      ],
      "execution_count": 22,
      "outputs": []
    },
    {
      "metadata": {
        "id": "Qv4FNjyxdgwU",
        "colab_type": "text"
      },
      "cell_type": "markdown",
      "source": [
        "## Training\n",
        "\n",
        "Below is the typical training code. If you want to do this yourself, feel free to delete all this code and implement it yourself. Before you run this, make sure the `checkpoints` directory exists."
      ]
    },
    {
      "metadata": {
        "id": "RvfsIVf2dgwV",
        "colab_type": "code",
        "colab": {
          "autoexec": {
            "startup": false,
            "wait_interval": 0
          },
          "base_uri": "https://localhost:8080/",
          "height": 3281
        },
        "outputId": "275b4d81-6954-4f0d-bd70-29b08a3dadd8",
        "executionInfo": {
          "status": "ok",
          "timestamp": 1524136350410,
          "user_tz": 420,
          "elapsed": 8112883,
          "user": {
            "displayName": "Arun Rajendran",
            "photoUrl": "https://lh3.googleusercontent.com/a/default-user=s128",
            "userId": "100710189298922321078"
          }
        }
      },
      "cell_type": "code",
      "source": [
        "epochs = 20\n",
        "\n",
        "with graph.as_default():\n",
        "    saver = tf.train.Saver()\n",
        "\n",
        "with tf.Session(graph=graph) as sess:\n",
        "    sess.run(tf.global_variables_initializer())\n",
        "    iteration = 1\n",
        "    for e in range(epochs):\n",
        "        state = sess.run(initial_state)\n",
        "        \n",
        "        for ii, (x, y) in enumerate(get_batches(train_x, train_y, batch_size), 1):\n",
        "            feed = {inputs_: x,\n",
        "                    labels_: y[:, None],\n",
        "                    keep_prob: 0.5,\n",
        "                    initial_state: state}\n",
        "            loss, state, _ = sess.run([cost, final_state, optimizer], feed_dict=feed)\n",
        "            \n",
        "            if iteration%5==0:\n",
        "                print(\"Epoch: {}/{}\".format(e, epochs),\n",
        "                      \"Iteration: {}\".format(iteration),\n",
        "                      \"Train loss: {:.3f}\".format(loss))\n",
        "\n",
        "            if iteration%25==0:\n",
        "                val_acc = []\n",
        "                val_state = sess.run(cell.zero_state(batch_size, tf.float32))\n",
        "                for x, y in get_batches(val_x, val_y, batch_size):\n",
        "                    feed = {inputs_: x,\n",
        "                            labels_: y[:, None],\n",
        "                            keep_prob: 1,\n",
        "                            initial_state: val_state}\n",
        "                    batch_acc, val_state = sess.run([accuracy, final_state], feed_dict=feed)\n",
        "                    val_acc.append(batch_acc)\n",
        "                print(\"Val acc: {:.3f}\".format(np.mean(val_acc)))\n",
        "            iteration +=1\n",
        "    saver.save(sess, \"checkpoints/sentiment.ckpt\")"
      ],
      "execution_count": 23,
      "outputs": [
        {
          "output_type": "stream",
          "text": [
            "Epoch: 0/20 Iteration: 5 Train loss: 0.245\n",
            "Epoch: 0/20 Iteration: 10 Train loss: 0.246\n",
            "Epoch: 0/20 Iteration: 15 Train loss: 0.225\n",
            "Epoch: 0/20 Iteration: 20 Train loss: 0.201\n",
            "Epoch: 0/20 Iteration: 25 Train loss: 0.187\n",
            "Val acc: 0.700\n",
            "Epoch: 0/20 Iteration: 30 Train loss: 0.201\n",
            "Epoch: 0/20 Iteration: 35 Train loss: 0.175\n",
            "Epoch: 0/20 Iteration: 40 Train loss: 0.353\n",
            "Epoch: 1/20 Iteration: 45 Train loss: 0.232\n",
            "Epoch: 1/20 Iteration: 50 Train loss: 0.236\n",
            "Val acc: 0.562\n",
            "Epoch: 1/20 Iteration: 55 Train loss: 0.233\n",
            "Epoch: 1/20 Iteration: 60 Train loss: 0.214\n",
            "Epoch: 1/20 Iteration: 65 Train loss: 0.208\n",
            "Epoch: 1/20 Iteration: 70 Train loss: 0.203\n",
            "Epoch: 1/20 Iteration: 75 Train loss: 0.211\n",
            "Val acc: 0.650\n",
            "Epoch: 1/20 Iteration: 80 Train loss: 0.212\n",
            "Epoch: 2/20 Iteration: 85 Train loss: 0.162\n",
            "Epoch: 2/20 Iteration: 90 Train loss: 0.155\n",
            "Epoch: 2/20 Iteration: 95 Train loss: 0.136\n",
            "Epoch: 2/20 Iteration: 100 Train loss: 0.116\n",
            "Val acc: 0.771\n",
            "Epoch: 2/20 Iteration: 105 Train loss: 0.088\n",
            "Epoch: 2/20 Iteration: 110 Train loss: 0.144\n",
            "Epoch: 2/20 Iteration: 115 Train loss: 0.135\n",
            "Epoch: 2/20 Iteration: 120 Train loss: 0.156\n",
            "Epoch: 3/20 Iteration: 125 Train loss: 0.099\n",
            "Val acc: 0.807\n",
            "Epoch: 3/20 Iteration: 130 Train loss: 0.131\n",
            "Epoch: 3/20 Iteration: 135 Train loss: 0.108\n",
            "Epoch: 3/20 Iteration: 140 Train loss: 0.089\n",
            "Epoch: 3/20 Iteration: 145 Train loss: 0.079\n",
            "Epoch: 3/20 Iteration: 150 Train loss: 0.123\n",
            "Val acc: 0.773\n",
            "Epoch: 3/20 Iteration: 155 Train loss: 0.119\n",
            "Epoch: 3/20 Iteration: 160 Train loss: 0.103\n",
            "Epoch: 4/20 Iteration: 165 Train loss: 0.095\n",
            "Epoch: 4/20 Iteration: 170 Train loss: 0.077\n",
            "Epoch: 4/20 Iteration: 175 Train loss: 0.094\n",
            "Val acc: 0.779\n",
            "Epoch: 4/20 Iteration: 180 Train loss: 0.113\n",
            "Epoch: 4/20 Iteration: 185 Train loss: 0.105\n",
            "Epoch: 4/20 Iteration: 190 Train loss: 0.121\n",
            "Epoch: 4/20 Iteration: 195 Train loss: 0.076\n",
            "Epoch: 4/20 Iteration: 200 Train loss: 0.100\n",
            "Val acc: 0.829\n",
            "Epoch: 5/20 Iteration: 205 Train loss: 0.086\n",
            "Epoch: 5/20 Iteration: 210 Train loss: 0.128\n",
            "Epoch: 5/20 Iteration: 215 Train loss: 0.147\n",
            "Epoch: 5/20 Iteration: 220 Train loss: 0.122\n",
            "Epoch: 5/20 Iteration: 225 Train loss: 0.094\n",
            "Val acc: 0.796\n",
            "Epoch: 5/20 Iteration: 230 Train loss: 0.162\n",
            "Epoch: 5/20 Iteration: 235 Train loss: 0.176\n",
            "Epoch: 5/20 Iteration: 240 Train loss: 0.205\n",
            "Epoch: 6/20 Iteration: 245 Train loss: 0.120\n",
            "Epoch: 6/20 Iteration: 250 Train loss: 0.143\n",
            "Val acc: 0.745\n",
            "Epoch: 6/20 Iteration: 255 Train loss: 0.118\n",
            "Epoch: 6/20 Iteration: 260 Train loss: 0.093\n",
            "Epoch: 6/20 Iteration: 265 Train loss: 0.092\n",
            "Epoch: 6/20 Iteration: 270 Train loss: 0.219\n",
            "Epoch: 6/20 Iteration: 275 Train loss: 0.243\n",
            "Val acc: 0.806\n",
            "Epoch: 6/20 Iteration: 280 Train loss: 0.180\n",
            "Epoch: 7/20 Iteration: 285 Train loss: 0.088\n",
            "Epoch: 7/20 Iteration: 290 Train loss: 0.093\n",
            "Epoch: 7/20 Iteration: 295 Train loss: 0.044\n"
          ],
          "name": "stdout"
        },
        {
          "output_type": "stream",
          "text": [
            "Epoch: 7/20 Iteration: 300 Train loss: 0.035\n",
            "Val acc: 0.738\n",
            "Epoch: 7/20 Iteration: 305 Train loss: 0.033\n",
            "Epoch: 7/20 Iteration: 310 Train loss: 0.027\n",
            "Epoch: 7/20 Iteration: 315 Train loss: 0.030\n",
            "Epoch: 7/20 Iteration: 320 Train loss: 0.028\n",
            "Epoch: 8/20 Iteration: 325 Train loss: 0.077\n",
            "Val acc: 0.748\n",
            "Epoch: 8/20 Iteration: 330 Train loss: 0.203\n",
            "Epoch: 8/20 Iteration: 335 Train loss: 0.100\n",
            "Epoch: 8/20 Iteration: 340 Train loss: 0.066\n",
            "Epoch: 8/20 Iteration: 345 Train loss: 0.045\n",
            "Epoch: 8/20 Iteration: 350 Train loss: 0.069\n",
            "Val acc: 0.820\n",
            "Epoch: 8/20 Iteration: 355 Train loss: 0.054\n",
            "Epoch: 8/20 Iteration: 360 Train loss: 0.039\n",
            "Epoch: 9/20 Iteration: 365 Train loss: 0.070\n",
            "Epoch: 9/20 Iteration: 370 Train loss: 0.062\n",
            "Epoch: 9/20 Iteration: 375 Train loss: 0.070\n",
            "Val acc: 0.807\n",
            "Epoch: 9/20 Iteration: 380 Train loss: 0.057\n",
            "Epoch: 9/20 Iteration: 385 Train loss: 0.082\n",
            "Epoch: 9/20 Iteration: 390 Train loss: 0.068\n",
            "Epoch: 9/20 Iteration: 395 Train loss: 0.050\n",
            "Epoch: 9/20 Iteration: 400 Train loss: 0.217\n",
            "Val acc: 0.675\n",
            "Epoch: 10/20 Iteration: 405 Train loss: 0.240\n",
            "Epoch: 10/20 Iteration: 410 Train loss: 0.191\n",
            "Epoch: 10/20 Iteration: 415 Train loss: 0.125\n",
            "Epoch: 10/20 Iteration: 420 Train loss: 0.326\n",
            "Epoch: 10/20 Iteration: 425 Train loss: 0.211\n",
            "Val acc: 0.624\n",
            "Epoch: 10/20 Iteration: 430 Train loss: 0.205\n",
            "Epoch: 10/20 Iteration: 435 Train loss: 0.108\n",
            "Epoch: 10/20 Iteration: 440 Train loss: 0.072\n",
            "Epoch: 11/20 Iteration: 445 Train loss: 0.095\n",
            "Epoch: 11/20 Iteration: 450 Train loss: 0.084\n",
            "Val acc: 0.781\n",
            "Epoch: 11/20 Iteration: 455 Train loss: 0.058\n",
            "Epoch: 11/20 Iteration: 460 Train loss: 0.055\n",
            "Epoch: 11/20 Iteration: 465 Train loss: 0.053\n",
            "Epoch: 11/20 Iteration: 470 Train loss: 0.069\n",
            "Epoch: 11/20 Iteration: 475 Train loss: 0.043\n",
            "Val acc: 0.728\n",
            "Epoch: 11/20 Iteration: 480 Train loss: 0.030\n",
            "Epoch: 12/20 Iteration: 485 Train loss: 0.079\n",
            "Epoch: 12/20 Iteration: 490 Train loss: 0.087\n",
            "Epoch: 12/20 Iteration: 495 Train loss: 0.062\n",
            "Epoch: 12/20 Iteration: 500 Train loss: 0.059\n",
            "Val acc: 0.818\n",
            "Epoch: 12/20 Iteration: 505 Train loss: 0.062\n",
            "Epoch: 12/20 Iteration: 510 Train loss: 0.091\n",
            "Epoch: 12/20 Iteration: 515 Train loss: 0.050\n",
            "Epoch: 12/20 Iteration: 520 Train loss: 0.138\n",
            "Epoch: 13/20 Iteration: 525 Train loss: 0.160\n",
            "Val acc: 0.736\n",
            "Epoch: 13/20 Iteration: 530 Train loss: 0.209\n",
            "Epoch: 13/20 Iteration: 535 Train loss: 0.168\n",
            "Epoch: 13/20 Iteration: 540 Train loss: 0.180\n",
            "Epoch: 13/20 Iteration: 545 Train loss: 0.164\n",
            "Epoch: 13/20 Iteration: 550 Train loss: 0.173\n",
            "Val acc: 0.713\n",
            "Epoch: 13/20 Iteration: 555 Train loss: 0.148\n",
            "Epoch: 13/20 Iteration: 560 Train loss: 0.162\n",
            "Epoch: 14/20 Iteration: 565 Train loss: 0.066\n",
            "Epoch: 14/20 Iteration: 570 Train loss: 0.084\n",
            "Epoch: 14/20 Iteration: 575 Train loss: 0.092\n",
            "Val acc: 0.682\n",
            "Epoch: 14/20 Iteration: 580 Train loss: 0.161\n",
            "Epoch: 14/20 Iteration: 585 Train loss: 0.118\n"
          ],
          "name": "stdout"
        },
        {
          "output_type": "stream",
          "text": [
            "Epoch: 14/20 Iteration: 590 Train loss: 0.098\n",
            "Epoch: 14/20 Iteration: 595 Train loss: 0.202\n",
            "Epoch: 14/20 Iteration: 600 Train loss: 0.157\n",
            "Val acc: 0.717\n",
            "Epoch: 15/20 Iteration: 605 Train loss: 0.116\n",
            "Epoch: 15/20 Iteration: 610 Train loss: 0.129\n",
            "Epoch: 15/20 Iteration: 615 Train loss: 0.134\n",
            "Epoch: 15/20 Iteration: 620 Train loss: 0.111\n",
            "Epoch: 15/20 Iteration: 625 Train loss: 0.084\n",
            "Val acc: 0.770\n",
            "Epoch: 15/20 Iteration: 630 Train loss: 0.144\n",
            "Epoch: 15/20 Iteration: 635 Train loss: 0.095\n",
            "Epoch: 15/20 Iteration: 640 Train loss: 0.154\n",
            "Epoch: 16/20 Iteration: 645 Train loss: 0.085\n",
            "Epoch: 16/20 Iteration: 650 Train loss: 0.071\n",
            "Val acc: 0.793\n",
            "Epoch: 16/20 Iteration: 655 Train loss: 0.077\n",
            "Epoch: 16/20 Iteration: 660 Train loss: 0.065\n",
            "Epoch: 16/20 Iteration: 665 Train loss: 0.083\n",
            "Epoch: 16/20 Iteration: 670 Train loss: 0.069\n",
            "Epoch: 16/20 Iteration: 675 Train loss: 0.065\n",
            "Val acc: 0.811\n",
            "Epoch: 16/20 Iteration: 680 Train loss: 0.108\n",
            "Epoch: 17/20 Iteration: 685 Train loss: 0.264\n",
            "Epoch: 17/20 Iteration: 690 Train loss: 0.164\n",
            "Epoch: 17/20 Iteration: 695 Train loss: 0.142\n",
            "Epoch: 17/20 Iteration: 700 Train loss: 0.148\n",
            "Val acc: 0.684\n",
            "Epoch: 17/20 Iteration: 705 Train loss: 0.104\n",
            "Epoch: 17/20 Iteration: 710 Train loss: 0.078\n",
            "Epoch: 17/20 Iteration: 715 Train loss: 0.069\n",
            "Epoch: 17/20 Iteration: 720 Train loss: 0.081\n",
            "Epoch: 18/20 Iteration: 725 Train loss: 0.075\n",
            "Val acc: 0.771\n",
            "Epoch: 18/20 Iteration: 730 Train loss: 0.107\n",
            "Epoch: 18/20 Iteration: 735 Train loss: 0.109\n",
            "Epoch: 18/20 Iteration: 740 Train loss: 0.092\n",
            "Epoch: 18/20 Iteration: 745 Train loss: 0.072\n",
            "Epoch: 18/20 Iteration: 750 Train loss: 0.063\n",
            "Val acc: 0.808\n",
            "Epoch: 18/20 Iteration: 755 Train loss: 0.080\n",
            "Epoch: 18/20 Iteration: 760 Train loss: 0.082\n",
            "Epoch: 19/20 Iteration: 765 Train loss: 0.057\n",
            "Epoch: 19/20 Iteration: 770 Train loss: 0.070\n",
            "Epoch: 19/20 Iteration: 775 Train loss: 0.067\n",
            "Val acc: 0.791\n",
            "Epoch: 19/20 Iteration: 780 Train loss: 0.070\n",
            "Epoch: 19/20 Iteration: 785 Train loss: 0.060\n",
            "Epoch: 19/20 Iteration: 790 Train loss: 0.050\n",
            "Epoch: 19/20 Iteration: 795 Train loss: 0.052\n",
            "Epoch: 19/20 Iteration: 800 Train loss: 0.064\n",
            "Val acc: 0.818\n"
          ],
          "name": "stdout"
        }
      ]
    },
    {
      "metadata": {
        "id": "ZNRKeR1Wdgwb",
        "colab_type": "text"
      },
      "cell_type": "markdown",
      "source": [
        "## Testing"
      ]
    },
    {
      "metadata": {
        "id": "amu0aYLsdgwb",
        "colab_type": "code",
        "colab": {
          "autoexec": {
            "startup": false,
            "wait_interval": 0
          },
          "base_uri": "https://localhost:8080/",
          "height": 51
        },
        "outputId": "c9833aaa-130a-4be7-fd5f-2e7208eae300",
        "executionInfo": {
          "status": "ok",
          "timestamp": 1524136368834,
          "user_tz": 420,
          "elapsed": 18379,
          "user": {
            "displayName": "Arun Rajendran",
            "photoUrl": "https://lh3.googleusercontent.com/a/default-user=s128",
            "userId": "100710189298922321078"
          }
        }
      },
      "cell_type": "code",
      "source": [
        "test_acc = []\n",
        "with tf.Session(graph=graph) as sess:\n",
        "    saver.restore(sess, tf.train.latest_checkpoint('checkpoints'))\n",
        "    test_state = sess.run(cell.zero_state(batch_size, tf.float32))\n",
        "    for ii, (x, y) in enumerate(get_batches(test_x, test_y, batch_size), 1):\n",
        "        feed = {inputs_: x,\n",
        "                labels_: y[:, None],\n",
        "                keep_prob: 1,\n",
        "                initial_state: test_state}\n",
        "        batch_acc, test_state = sess.run([accuracy, final_state], feed_dict=feed)\n",
        "        test_acc.append(batch_acc)\n",
        "    print(\"Test accuracy: {:.3f}\".format(np.mean(test_acc)))"
      ],
      "execution_count": 24,
      "outputs": [
        {
          "output_type": "stream",
          "text": [
            "INFO:tensorflow:Restoring parameters from checkpoints/sentiment.ckpt\n",
            "Test accuracy: 0.821\n"
          ],
          "name": "stdout"
        }
      ]
    }
  ]
}